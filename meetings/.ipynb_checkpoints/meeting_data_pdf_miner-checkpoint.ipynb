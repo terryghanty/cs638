{
 "cells": [
  {
   "cell_type": "code",
   "execution_count": 3,
   "metadata": {},
   "outputs": [],
   "source": [
    "# Import necessary packages\n",
    "import os\n",
    "import re\n",
    "import pdfminer\n",
    "import sys\n",
    "import traceback\n",
    "import pandas as pd\n",
    "import numpy as np\n",
    "from subprocess import check_output\n",
    "from bs4 import BeautifulSoup\n",
    "from collections import defaultdict\n",
    "import matplotlib.pyplot as plt\n",
    "from datetime import date, datetime\n",
    "from scipy.optimize import curve_fit\n",
    "from sklearn.linear_model import LinearRegression"
   ]
  },
  {
   "cell_type": "code",
   "execution_count": null,
   "metadata": {},
   "outputs": [],
   "source": [
    "pd.set_option('display.max_rows', None)"
   ]
  },
  {
   "cell_type": "code",
   "execution_count": 4,
   "metadata": {},
   "outputs": [
    {
     "ename": "FileNotFoundError",
     "evalue": "[Errno 2] File Cleaned Meeting Data.csv does not exist: 'Cleaned Meeting Data.csv'",
     "output_type": "error",
     "traceback": [
      "\u001b[0;31m---------------------------------------------------------------------------\u001b[0m",
      "\u001b[0;31mFileNotFoundError\u001b[0m                         Traceback (most recent call last)",
      "\u001b[0;32m<ipython-input-4-20a1a3ed977a>\u001b[0m in \u001b[0;36m<module>\u001b[0;34m\u001b[0m\n\u001b[0;32m----> 1\u001b[0;31m \u001b[0mmpd\u001b[0m \u001b[0;34m=\u001b[0m \u001b[0mpd\u001b[0m\u001b[0;34m.\u001b[0m\u001b[0mread_csv\u001b[0m\u001b[0;34m(\u001b[0m\u001b[0;34m\"Cleaned Meeting Data.csv\"\u001b[0m\u001b[0;34m)\u001b[0m\u001b[0;34m\u001b[0m\u001b[0;34m\u001b[0m\u001b[0m\n\u001b[0m\u001b[1;32m      2\u001b[0m \u001b[0mmpd\u001b[0m\u001b[0;34m\u001b[0m\u001b[0;34m\u001b[0m\u001b[0m\n",
      "\u001b[0;32m/Library/Frameworks/Python.framework/Versions/3.8/lib/python3.8/site-packages/pandas/io/parsers.py\u001b[0m in \u001b[0;36mparser_f\u001b[0;34m(filepath_or_buffer, sep, delimiter, header, names, index_col, usecols, squeeze, prefix, mangle_dupe_cols, dtype, engine, converters, true_values, false_values, skipinitialspace, skiprows, skipfooter, nrows, na_values, keep_default_na, na_filter, verbose, skip_blank_lines, parse_dates, infer_datetime_format, keep_date_col, date_parser, dayfirst, cache_dates, iterator, chunksize, compression, thousands, decimal, lineterminator, quotechar, quoting, doublequote, escapechar, comment, encoding, dialect, error_bad_lines, warn_bad_lines, delim_whitespace, low_memory, memory_map, float_precision)\u001b[0m\n\u001b[1;32m    674\u001b[0m         )\n\u001b[1;32m    675\u001b[0m \u001b[0;34m\u001b[0m\u001b[0m\n\u001b[0;32m--> 676\u001b[0;31m         \u001b[0;32mreturn\u001b[0m \u001b[0m_read\u001b[0m\u001b[0;34m(\u001b[0m\u001b[0mfilepath_or_buffer\u001b[0m\u001b[0;34m,\u001b[0m \u001b[0mkwds\u001b[0m\u001b[0;34m)\u001b[0m\u001b[0;34m\u001b[0m\u001b[0;34m\u001b[0m\u001b[0m\n\u001b[0m\u001b[1;32m    677\u001b[0m \u001b[0;34m\u001b[0m\u001b[0m\n\u001b[1;32m    678\u001b[0m     \u001b[0mparser_f\u001b[0m\u001b[0;34m.\u001b[0m\u001b[0m__name__\u001b[0m \u001b[0;34m=\u001b[0m \u001b[0mname\u001b[0m\u001b[0;34m\u001b[0m\u001b[0;34m\u001b[0m\u001b[0m\n",
      "\u001b[0;32m/Library/Frameworks/Python.framework/Versions/3.8/lib/python3.8/site-packages/pandas/io/parsers.py\u001b[0m in \u001b[0;36m_read\u001b[0;34m(filepath_or_buffer, kwds)\u001b[0m\n\u001b[1;32m    446\u001b[0m \u001b[0;34m\u001b[0m\u001b[0m\n\u001b[1;32m    447\u001b[0m     \u001b[0;31m# Create the parser.\u001b[0m\u001b[0;34m\u001b[0m\u001b[0;34m\u001b[0m\u001b[0;34m\u001b[0m\u001b[0m\n\u001b[0;32m--> 448\u001b[0;31m     \u001b[0mparser\u001b[0m \u001b[0;34m=\u001b[0m \u001b[0mTextFileReader\u001b[0m\u001b[0;34m(\u001b[0m\u001b[0mfp_or_buf\u001b[0m\u001b[0;34m,\u001b[0m \u001b[0;34m**\u001b[0m\u001b[0mkwds\u001b[0m\u001b[0;34m)\u001b[0m\u001b[0;34m\u001b[0m\u001b[0;34m\u001b[0m\u001b[0m\n\u001b[0m\u001b[1;32m    449\u001b[0m \u001b[0;34m\u001b[0m\u001b[0m\n\u001b[1;32m    450\u001b[0m     \u001b[0;32mif\u001b[0m \u001b[0mchunksize\u001b[0m \u001b[0;32mor\u001b[0m \u001b[0miterator\u001b[0m\u001b[0;34m:\u001b[0m\u001b[0;34m\u001b[0m\u001b[0;34m\u001b[0m\u001b[0m\n",
      "\u001b[0;32m/Library/Frameworks/Python.framework/Versions/3.8/lib/python3.8/site-packages/pandas/io/parsers.py\u001b[0m in \u001b[0;36m__init__\u001b[0;34m(self, f, engine, **kwds)\u001b[0m\n\u001b[1;32m    878\u001b[0m             \u001b[0mself\u001b[0m\u001b[0;34m.\u001b[0m\u001b[0moptions\u001b[0m\u001b[0;34m[\u001b[0m\u001b[0;34m\"has_index_names\"\u001b[0m\u001b[0;34m]\u001b[0m \u001b[0;34m=\u001b[0m \u001b[0mkwds\u001b[0m\u001b[0;34m[\u001b[0m\u001b[0;34m\"has_index_names\"\u001b[0m\u001b[0;34m]\u001b[0m\u001b[0;34m\u001b[0m\u001b[0;34m\u001b[0m\u001b[0m\n\u001b[1;32m    879\u001b[0m \u001b[0;34m\u001b[0m\u001b[0m\n\u001b[0;32m--> 880\u001b[0;31m         \u001b[0mself\u001b[0m\u001b[0;34m.\u001b[0m\u001b[0m_make_engine\u001b[0m\u001b[0;34m(\u001b[0m\u001b[0mself\u001b[0m\u001b[0;34m.\u001b[0m\u001b[0mengine\u001b[0m\u001b[0;34m)\u001b[0m\u001b[0;34m\u001b[0m\u001b[0;34m\u001b[0m\u001b[0m\n\u001b[0m\u001b[1;32m    881\u001b[0m \u001b[0;34m\u001b[0m\u001b[0m\n\u001b[1;32m    882\u001b[0m     \u001b[0;32mdef\u001b[0m \u001b[0mclose\u001b[0m\u001b[0;34m(\u001b[0m\u001b[0mself\u001b[0m\u001b[0;34m)\u001b[0m\u001b[0;34m:\u001b[0m\u001b[0;34m\u001b[0m\u001b[0;34m\u001b[0m\u001b[0m\n",
      "\u001b[0;32m/Library/Frameworks/Python.framework/Versions/3.8/lib/python3.8/site-packages/pandas/io/parsers.py\u001b[0m in \u001b[0;36m_make_engine\u001b[0;34m(self, engine)\u001b[0m\n\u001b[1;32m   1112\u001b[0m     \u001b[0;32mdef\u001b[0m \u001b[0m_make_engine\u001b[0m\u001b[0;34m(\u001b[0m\u001b[0mself\u001b[0m\u001b[0;34m,\u001b[0m \u001b[0mengine\u001b[0m\u001b[0;34m=\u001b[0m\u001b[0;34m\"c\"\u001b[0m\u001b[0;34m)\u001b[0m\u001b[0;34m:\u001b[0m\u001b[0;34m\u001b[0m\u001b[0;34m\u001b[0m\u001b[0m\n\u001b[1;32m   1113\u001b[0m         \u001b[0;32mif\u001b[0m \u001b[0mengine\u001b[0m \u001b[0;34m==\u001b[0m \u001b[0;34m\"c\"\u001b[0m\u001b[0;34m:\u001b[0m\u001b[0;34m\u001b[0m\u001b[0;34m\u001b[0m\u001b[0m\n\u001b[0;32m-> 1114\u001b[0;31m             \u001b[0mself\u001b[0m\u001b[0;34m.\u001b[0m\u001b[0m_engine\u001b[0m \u001b[0;34m=\u001b[0m \u001b[0mCParserWrapper\u001b[0m\u001b[0;34m(\u001b[0m\u001b[0mself\u001b[0m\u001b[0;34m.\u001b[0m\u001b[0mf\u001b[0m\u001b[0;34m,\u001b[0m \u001b[0;34m**\u001b[0m\u001b[0mself\u001b[0m\u001b[0;34m.\u001b[0m\u001b[0moptions\u001b[0m\u001b[0;34m)\u001b[0m\u001b[0;34m\u001b[0m\u001b[0;34m\u001b[0m\u001b[0m\n\u001b[0m\u001b[1;32m   1115\u001b[0m         \u001b[0;32melse\u001b[0m\u001b[0;34m:\u001b[0m\u001b[0;34m\u001b[0m\u001b[0;34m\u001b[0m\u001b[0m\n\u001b[1;32m   1116\u001b[0m             \u001b[0;32mif\u001b[0m \u001b[0mengine\u001b[0m \u001b[0;34m==\u001b[0m \u001b[0;34m\"python\"\u001b[0m\u001b[0;34m:\u001b[0m\u001b[0;34m\u001b[0m\u001b[0;34m\u001b[0m\u001b[0m\n",
      "\u001b[0;32m/Library/Frameworks/Python.framework/Versions/3.8/lib/python3.8/site-packages/pandas/io/parsers.py\u001b[0m in \u001b[0;36m__init__\u001b[0;34m(self, src, **kwds)\u001b[0m\n\u001b[1;32m   1889\u001b[0m         \u001b[0mkwds\u001b[0m\u001b[0;34m[\u001b[0m\u001b[0;34m\"usecols\"\u001b[0m\u001b[0;34m]\u001b[0m \u001b[0;34m=\u001b[0m \u001b[0mself\u001b[0m\u001b[0;34m.\u001b[0m\u001b[0musecols\u001b[0m\u001b[0;34m\u001b[0m\u001b[0;34m\u001b[0m\u001b[0m\n\u001b[1;32m   1890\u001b[0m \u001b[0;34m\u001b[0m\u001b[0m\n\u001b[0;32m-> 1891\u001b[0;31m         \u001b[0mself\u001b[0m\u001b[0;34m.\u001b[0m\u001b[0m_reader\u001b[0m \u001b[0;34m=\u001b[0m \u001b[0mparsers\u001b[0m\u001b[0;34m.\u001b[0m\u001b[0mTextReader\u001b[0m\u001b[0;34m(\u001b[0m\u001b[0msrc\u001b[0m\u001b[0;34m,\u001b[0m \u001b[0;34m**\u001b[0m\u001b[0mkwds\u001b[0m\u001b[0;34m)\u001b[0m\u001b[0;34m\u001b[0m\u001b[0;34m\u001b[0m\u001b[0m\n\u001b[0m\u001b[1;32m   1892\u001b[0m         \u001b[0mself\u001b[0m\u001b[0;34m.\u001b[0m\u001b[0munnamed_cols\u001b[0m \u001b[0;34m=\u001b[0m \u001b[0mself\u001b[0m\u001b[0;34m.\u001b[0m\u001b[0m_reader\u001b[0m\u001b[0;34m.\u001b[0m\u001b[0munnamed_cols\u001b[0m\u001b[0;34m\u001b[0m\u001b[0;34m\u001b[0m\u001b[0m\n\u001b[1;32m   1893\u001b[0m \u001b[0;34m\u001b[0m\u001b[0m\n",
      "\u001b[0;32mpandas/_libs/parsers.pyx\u001b[0m in \u001b[0;36mpandas._libs.parsers.TextReader.__cinit__\u001b[0;34m()\u001b[0m\n",
      "\u001b[0;32mpandas/_libs/parsers.pyx\u001b[0m in \u001b[0;36mpandas._libs.parsers.TextReader._setup_parser_source\u001b[0;34m()\u001b[0m\n",
      "\u001b[0;31mFileNotFoundError\u001b[0m: [Errno 2] File Cleaned Meeting Data.csv does not exist: 'Cleaned Meeting Data.csv'"
     ]
    }
   ],
   "source": [
    "mpd = pd.read_csv(\"Cleaned Meeting Data.csv\")\n",
    "mpd"
   ]
  },
  {
   "cell_type": "code",
   "execution_count": null,
   "metadata": {},
   "outputs": [],
   "source": [
    "#!mkdir agenda_pdfs minutes_pdfs"
   ]
  },
  {
   "cell_type": "code",
   "execution_count": null,
   "metadata": {
    "scrolled": true
   },
   "outputs": [],
   "source": [
    "#Fetch all pdfs and make their html format\n",
    "#Agenda link is the 8th column and the minutes link is the 9th column\n",
    "for i in range(mpd.shape[0]):\n",
    "    a_l = mpd.loc[i][8]\n",
    "    m_l = mpd.loc[i][9]\n",
    "    if not pd.isnull(a_l) and not pd.isnull(m_l):\n",
    "        a_l_ipath = os.path.join(\"agenda_pdfs\", str(i) + \".pdf\")\n",
    "        m_l_ipath = os.path.join(\"minutes_pdfs\", str(i) + \".pdf\")\n",
    "        try:\n",
    "            c1 = check_output([\"curl\", a_l, \"-o\", a_l_ipath])\n",
    "            c2 = check_output([\"curl\", m_l, \"-o\", m_l_ipath])\n",
    "        except:\n",
    "            traceback.print_exc(file=sys.stdout)\n",
    "            print(a_l_ipath, m_l_ipath)"
   ]
  },
  {
   "cell_type": "code",
   "execution_count": null,
   "metadata": {},
   "outputs": [],
   "source": [
    "mpd[\"Agenda HTML\"] = \"\"\n",
    "mpd[\"Minutes HTML\"] = \"\"\n",
    "mpd"
   ]
  },
  {
   "cell_type": "code",
   "execution_count": null,
   "metadata": {},
   "outputs": [],
   "source": [
    "#Fetch all pdfs and make their html format\n",
    "#Agenda link is the 8th column and the minutes link is the 9th column\n",
    "a_h = []\n",
    "m_h = []\n",
    "for i in range(mpd.shape[0]):\n",
    "    a_l = mpd.loc[i][\"Agenda_Link\"]\n",
    "    m_l = mpd.loc[i][\"Minutes_Link\"]\n",
    "    if not pd.isnull(a_l) and not pd.isnull(m_l):\n",
    "        a_l_ipath = os.path.join(\"agenda_pdfs\", str(i) + \".pdf\")\n",
    "        m_l_ipath = os.path.join(\"minutes_pdfs\", str(i) + \".pdf\")\n",
    "        try:\n",
    "            s1 = check_output([\"pdf2txt.py\", \"-t\", \"html\", \"-Y\", \"loose\", a_l_ipath])\n",
    "            s2 = check_output([\"pdf2txt.py\", \"-t\", \"html\", \"-Y\", \"loose\", m_l_ipath])\n",
    "            #print(mpd.loc[i, 14])\n",
    "            a_h.append(BeautifulSoup(s1))\n",
    "            m_h.append(BeautifulSoup(s2))\n",
    "        except:\n",
    "            traceback.print_exc(file=sys.stdout)\n",
    "            print(a_l_ipath, m_l_ipath)\n",
    "            a_h.append(\" \")\n",
    "            m_h.append(\" \")\n",
    "    else:\n",
    "        a_h.append(\" \")\n",
    "        m_h.append(\" \")\n",
    "mpd[\"Agenda HTML\"] = a_h\n",
    "mpd[\"Minutes HTML\"] = m_h"
   ]
  },
  {
   "cell_type": "code",
   "execution_count": null,
   "metadata": {},
   "outputs": [],
   "source": [
    "mpd"
   ]
  },
  {
   "cell_type": "code",
   "execution_count": null,
   "metadata": {},
   "outputs": [],
   "source": [
    "def find_near(x, y):\n",
    "    for x_ in range(x-5, x+5):\n",
    "        for y_ in range(y-5, y+5):\n",
    "            if (x_, y_) in text:\n",
    "                return text[(x_, y_)]\n",
    "    return None"
   ]
  },
  {
   "cell_type": "code",
   "execution_count": null,
   "metadata": {},
   "outputs": [],
   "source": [
    "agenda_items_list = []\n",
    "for i in range(mpd.shape[0]):\n",
    "    a_l = mpd.loc[i][\"Agenda HTML\"]\n",
    "    text = {} # key=(x,y), val=text\n",
    "    #print(page)\n",
    "\n",
    "    if a_l != \" \":\n",
    "        for div in a_l.find_all(\"div\"):\n",
    "            style = div.attrs.get(\"style\", \"\")\n",
    "            m1 = re.search(\"left:(\\d+)px\", style)\n",
    "            m2 = re.search(\"top:(\\d+)px\", style)\n",
    "            if m1 and m2:\n",
    "                x, y = int(m1.group(1)), int(m2.group(1))\n",
    "                text[(x,y)] = div.get_text()\n",
    "\n",
    "        agenda_list = {}\n",
    "\n",
    "        for (x,y), t in text.items():\n",
    "            # agenda items are roughly at x=170\n",
    "            if 165 < x < 175:\n",
    "                # agenda numbers are rougly at x=69, same y as text\n",
    "                num = find_near(103, y)\n",
    "                if num:\n",
    "                    #print(num)\n",
    "                    num = num.replace(\"*\", \"\")\n",
    "                    agenda_num = int(re.match('[0-9]+',num).group(0))\n",
    "                    agenda_list[agenda_num] = t\n",
    "\n",
    "        agenda_items_list.append(agenda_list)\n",
    "    \n",
    "    else:\n",
    "        agenda_items_list.append({})\n",
    "mpd[\"Agenda Items\"] = agenda_items_list"
   ]
  },
  {
   "cell_type": "code",
   "execution_count": null,
   "metadata": {
    "scrolled": true
   },
   "outputs": [],
   "source": [
    "m_items_list = []\n",
    "for i in range(mpd.shape[0]):\n",
    "    m_l = mpd.loc[i][\"Minutes HTML\"]\n",
    "    text = {} # key=(x,y), val=text\n",
    "    #print(page)\n",
    "\n",
    "    if m_l != \" \":\n",
    "        for div in m_l.find_all(\"div\"):\n",
    "            style = div.attrs.get(\"style\", \"\")\n",
    "            m1 = re.search(\"left:(\\d+)px\", style)\n",
    "            m2 = re.search(\"top:(\\d+)px\", style)\n",
    "            if m1 and m2:\n",
    "                x, y = int(m1.group(1)), int(m2.group(1))\n",
    "                text[(x,y)] = div.get_text()\n",
    "\n",
    "        #print(text)\n",
    "        #break\n",
    "        m_list = {}\n",
    "\n",
    "        for (x,y), t in text.items():\n",
    "            if 170 < x < 180:\n",
    "                num = find_near(102, y)\n",
    "                if num and re.match('[0-9]+',num) != None:\n",
    "                    m_num = int(re.match('[0-9]+',num).group(0))\n",
    "                    m_list[m_num] = t\n",
    "\n",
    "        m_items_list.append(m_list)\n",
    "    \n",
    "    else:\n",
    "        m_items_list.append({})\n",
    "#print(len(m_items_list))\n",
    "mpd[\"Minutes Items\"] = m_items_list"
   ]
  },
  {
   "cell_type": "code",
   "execution_count": null,
   "metadata": {},
   "outputs": [],
   "source": [
    "mpd"
   ]
  },
  {
   "cell_type": "code",
   "execution_count": null,
   "metadata": {},
   "outputs": [],
   "source": [
    "mpd[\"Agenda Items\"][1], mpd[\"Minutes Items\"][1]\n",
    "#mpd[\"Agenda_Link\"][1], mpd[\"Minutes_Link\"][1]"
   ]
  },
  {
   "cell_type": "code",
   "execution_count": null,
   "metadata": {},
   "outputs": [],
   "source": [
    "mpd[\"# Agenda Items\"] = [len(d) for d in mpd[\"Agenda Items\"]]\n",
    "mpd[\"# Minutes Items\"] = [len(d) for d in mpd[\"Minutes Items\"]]"
   ]
  },
  {
   "cell_type": "code",
   "execution_count": null,
   "metadata": {},
   "outputs": [],
   "source": [
    "mpd"
   ]
  },
  {
   "cell_type": "code",
   "execution_count": null,
   "metadata": {},
   "outputs": [],
   "source": [
    "mpd.at[106, \"# Minutes Items\"] = 11"
   ]
  },
  {
   "cell_type": "code",
   "execution_count": null,
   "metadata": {},
   "outputs": [],
   "source": [
    "mpd.at[51, \"# Minutes Items\"] = 7"
   ]
  },
  {
   "cell_type": "code",
   "execution_count": null,
   "metadata": {},
   "outputs": [],
   "source": [
    "mpd.at[104, \"# Minutes Items\"] = 11"
   ]
  },
  {
   "cell_type": "code",
   "execution_count": null,
   "metadata": {},
   "outputs": [],
   "source": [
    "mpd"
   ]
  },
  {
   "cell_type": "code",
   "execution_count": null,
   "metadata": {},
   "outputs": [],
   "source": [
    "from pylab import rcParams\n",
    "rcParams['figure.figsize'] = 8, 6"
   ]
  },
  {
   "cell_type": "code",
   "execution_count": null,
   "metadata": {},
   "outputs": [],
   "source": [
    "l = []\n",
    "for i in range(mpd.shape[0]):\n",
    "    l.append(pd.Timedelta(mpd[\"Meeting_Duration\"][i]))\n",
    "mpd[\"Meeting_Duration\"] = l"
   ]
  },
  {
   "cell_type": "code",
   "execution_count": null,
   "metadata": {},
   "outputs": [],
   "source": [
    "mpd[\"Hours\"] = mpd[\"Meeting_Duration\"]/pd.Timedelta(hours=1)"
   ]
  },
  {
   "cell_type": "code",
   "execution_count": null,
   "metadata": {
    "scrolled": true
   },
   "outputs": [],
   "source": [
    "plt.scatter(mpd[\"# Agenda Items\"], mpd[\"Hours\"])\n",
    "plt.xticks(rotation=90)\n",
    "plt.xlabel(\"Number of Agenda Items\", fontsize=16)\n",
    "plt.ylabel(\"Duration of the meeting in Hours\", fontsize=16)\n",
    "plt.title(\"Number of Agenda Items against Duration of Meeting\\n\", fontsize=18)\n",
    "plt.savefig(\"DvsAI.png\", bboxgrid=\"tight\")\n",
    "plt.show()"
   ]
  },
  {
   "cell_type": "code",
   "execution_count": null,
   "metadata": {},
   "outputs": [],
   "source": [
    "plt.scatter(mpd[\"# Agenda Items\"], mpd[\"Participants\"])\n",
    "plt.xticks(rotation=90)\n",
    "plt.xlabel(\"Number of Agenda Items\", fontsize=16)\n",
    "plt.ylabel(\"Number of Participants\", fontsize=16)\n",
    "plt.title(\"Number of Agenda Items against Number of Participants\\n\", fontsize=18)\n",
    "plt.savefig(\"PvsAI.png\", bboxgrid=\"tight\")\n",
    "plt.show()"
   ]
  },
  {
   "cell_type": "code",
   "execution_count": null,
   "metadata": {},
   "outputs": [],
   "source": [
    "plt.scatter(mpd[\"# Minutes Items\"], mpd[\"Hours\"])\n",
    "plt.xticks(range(0, 20), rotation=90)\n",
    "plt.xlabel(\"Number of Minutes Items\", fontsize=16)\n",
    "plt.ylabel(\"Duration of the meeting in Hours\", fontsize=16)\n",
    "plt.title(\"Number of Minutes Items against Duration of Meeting\\n\", fontsize=18)\n",
    "plt.savefig(\"DvsMI.png\", bboxgrid=\"tight\")\n",
    "plt.show()"
   ]
  },
  {
   "cell_type": "code",
   "execution_count": null,
   "metadata": {},
   "outputs": [],
   "source": [
    "plt.scatter(mpd[\"# Minutes Items\"], mpd[\"Participants\"])\n",
    "plt.xticks(rotation=90)\n",
    "plt.xlabel(\"Number of Minutes Items\", fontsize=16)\n",
    "plt.ylabel(\"Number of Participants\", fontsize=16)\n",
    "plt.title(\"Number of Minutes Items against Number of Participants\\n\", fontsize=18)\n",
    "plt.savefig(\"PvsMI.png\", bboxgrid=\"tight\")\n",
    "plt.show()"
   ]
  },
  {
   "cell_type": "code",
   "execution_count": null,
   "metadata": {
    "scrolled": true
   },
   "outputs": [],
   "source": [
    "tc = mpd.groupby(mpd[\"Committee\"]).sum()\n",
    "tc"
   ]
  },
  {
   "cell_type": "code",
   "execution_count": null,
   "metadata": {},
   "outputs": [],
   "source": [
    "tc.index = ['TFOGS',\n",
    "         'Affirmative Action Commission', \n",
    "         'Alcohol License Review Committee',\n",
    "         'Alder Workgroup',\n",
    "         'Board of Codes and Appeals',\n",
    "         'Board of Park Commissioners', \n",
    "         'Board of Public Works',\n",
    "         'Body-Worn Camera Feasibility Review Committee', \n",
    "         'CDA Board',\n",
    "         'CDBG Committee', \n",
    "         'City-Wide Violence Meeting',\n",
    "         'Common Council Executive Committee',\n",
    "         'Community Development Authority Board',\n",
    "         'Community Development Block Grant Committee',\n",
    "         'Community Services Committee', \n",
    "         'Complete Count Committee',\n",
    "         'Deferred Compensation Committee', \n",
    "         'Downtown Coordinating Committee',\n",
    "         'Economic Development Committee', \n",
    "         'Equal Opportunities Commission',\n",
    "         'Finance Committee', \n",
    "         'Food Policy Council',\n",
    "         'Food Systems Recovery and Resilience Work Group',\n",
    "         'Housing Strategy Committee', \n",
    "         'Landlord and Tenant Issues Committee',\n",
    "         'Landmarks Commission', \n",
    "         'MATPB',\n",
    "         'MLK Commission',\n",
    "         'Madison Arts Commission',\n",
    "         'Madison Food Policy Council',\n",
    "         'Madison Public Library Board',\n",
    "         'MTCCCB', \n",
    "         'PSRC',\n",
    "         'Personnel Board', \n",
    "         'Plan Commission',\n",
    "         'Communication Tools & Processes',\n",
    "         'Public Safety Review Committee', \n",
    "         'Room Tax Commission',\n",
    "         'Sustainable Madison Committee',\n",
    "         'Task Force on Golf in Madison Parks',\n",
    "         'Traffic Calming Subcommittee',\n",
    "         'Transportation Commission',\n",
    "         'Transportation Policy and Planning Board',\n",
    "         'Urban Design Commission',\n",
    "         'Water Utility Board',\n",
    "         'Zoning Board of Appeals']"
   ]
  },
  {
   "cell_type": "code",
   "execution_count": null,
   "metadata": {
    "scrolled": true
   },
   "outputs": [],
   "source": [
    "tcd = tc.sort_values([\"# Agenda Items\", \"# Minutes Items\"],ascending=False)\n",
    "tcd"
   ]
  },
  {
   "cell_type": "code",
   "execution_count": null,
   "metadata": {
    "scrolled": true
   },
   "outputs": [],
   "source": [
    "plt.bar(tcd.index, tcd[\"# Agenda Items\"], label=\"# Agenda Items\")\n",
    "plt.bar(tcd.index, tcd[\"# Minutes Items\"], label=\"# Minutes Items\")\n",
    "plt.legend()\n",
    "plt.xticks(rotation=90)\n",
    "plt.ylabel(\"Number of Agenda Items and Minutes Items\", fontsize=14)\n",
    "plt.xlabel(\"Committee\", fontsize=14)\n",
    "plt.title(\"Committee Vs Number of Agenda Items and Minutes Items\", fontsize=20)\n",
    "#plt.savefig(\"\", bb)\n",
    "plt.show()"
   ]
  },
  {
   "cell_type": "code",
   "execution_count": null,
   "metadata": {
    "scrolled": true
   },
   "outputs": [],
   "source": [
    "tca = tc.sort_values([\"# Agenda Items\", \"# Minutes Items\"])\n",
    "tca"
   ]
  },
  {
   "cell_type": "code",
   "execution_count": null,
   "metadata": {
    "scrolled": true
   },
   "outputs": [],
   "source": [
    "plt.bar(tca.index, tca[\"# Agenda Items\"], label=\"# Agenda Items\")\n",
    "plt.bar(tca.index, tca[\"# Minutes Items\"], label=\"# Minutes Items\")\n",
    "plt.legend()\n",
    "plt.xticks(rotation=90)\n",
    "plt.ylabel(\"Number of Agenda Items and Minutes Items\", fontsize=14)\n",
    "plt.xlabel(\"Committee\", fontsize=14)\n",
    "plt.title(\"Committee Vs Number of Agenda Items and Minutes Items\", fontsize=20)\n",
    "plt.show()"
   ]
  },
  {
   "cell_type": "code",
   "execution_count": null,
   "metadata": {
    "scrolled": true
   },
   "outputs": [],
   "source": [
    "tm = mpd.groupby(mpd[\"Committee\"]).mean()\n",
    "tm"
   ]
  },
  {
   "cell_type": "code",
   "execution_count": null,
   "metadata": {},
   "outputs": [],
   "source": [
    "tm.index = ['TFOGS',\n",
    "         'Affirmative Action Commission', \n",
    "         'Alcohol License Review Committee',\n",
    "         'Alder Workgroup',\n",
    "         'Board of Codes and Appeals',\n",
    "         'Board of Park Commissioners', \n",
    "         'Board of Public Works',\n",
    "         'Body-Worn Camera Feasibility Review Committee', \n",
    "         'CDA Board',\n",
    "         'CDBG Committee', \n",
    "         'City-Wide Violence Meeting',\n",
    "         'Common Council Executive Committee',\n",
    "         'Community Development Authority Board',\n",
    "         'Community Development Block Grant Committee',\n",
    "         'Community Services Committee', \n",
    "         'Complete Count Committee',\n",
    "         'Deferred Compensation Committee', \n",
    "         'Downtown Coordinating Committee',\n",
    "         'Economic Development Committee', \n",
    "         'Equal Opportunities Commission',\n",
    "         'Finance Committee', \n",
    "         'Food Policy Council',\n",
    "         'Food Systems Recovery and Resilience Work Group',\n",
    "         'Housing Strategy Committee', \n",
    "         'Landlord and Tenant Issues Committee',\n",
    "         'Landmarks Commission', \n",
    "         'MATPB',\n",
    "         'MLK Commission',\n",
    "         'Madison Arts Commission',\n",
    "         'Madison Food Policy Council',\n",
    "         'Madison Public Library Board',\n",
    "         'MTCCCB', \n",
    "         'PSRC',\n",
    "         'Personnel Board', \n",
    "         'Plan Commission',\n",
    "         'Communication Tools & Processes',\n",
    "         'Public Safety Review Committee', \n",
    "         'Room Tax Commission',\n",
    "         'Sustainable Madison Committee',\n",
    "         'Task Force on Golf in Madison Parks',\n",
    "         'Traffic Calming Subcommittee',\n",
    "         'Transportation Commission',\n",
    "         'Transportation Policy and Planning Board',\n",
    "         'Urban Design Commission',\n",
    "         'Water Utility Board',\n",
    "         'Zoning Board of Appeals']"
   ]
  },
  {
   "cell_type": "code",
   "execution_count": null,
   "metadata": {
    "scrolled": true
   },
   "outputs": [],
   "source": [
    "tmd = tm.sort_values([\"# Agenda Items\", \"# Minutes Items\"],ascending=False)\n",
    "tmd"
   ]
  },
  {
   "cell_type": "code",
   "execution_count": null,
   "metadata": {
    "scrolled": true
   },
   "outputs": [],
   "source": [
    "plt.bar(tmd.index, tmd[\"# Agenda Items\"], label=\"# Agenda Items\")\n",
    "plt.bar(tmd.index, tmd[\"# Minutes Items\"], label=\"# Minutes Items\")\n",
    "#plt.bar(tmd.index, tmd[\"Hours\"], label=\"Duration in Hours\")\n",
    "plt.legend()\n",
    "plt.xticks(rotation=90)\n",
    "plt.ylabel(\"Number of Agenda Items and Minutes Items\", fontsize=14)\n",
    "plt.xlabel(\"Committee\", fontsize=14)\n",
    "plt.title(\"Committee Vs Number of Agenda Items and Minutes Items\", fontsize=20)\n",
    "plt.savefig(\"CAMItems.png\", bbox_inches = \"tight\")\n",
    "plt.show()"
   ]
  },
  {
   "cell_type": "code",
   "execution_count": null,
   "metadata": {
    "scrolled": true
   },
   "outputs": [],
   "source": [
    "tma = tm.sort_values([\"# Agenda Items\", \"# Minutes Items\"])\n",
    "tma"
   ]
  },
  {
   "cell_type": "code",
   "execution_count": null,
   "metadata": {
    "scrolled": true
   },
   "outputs": [],
   "source": [
    "# plt.bar(tma.index, tma[\"# Agenda Items\"], label=\"# Agenda Items\")\n",
    "# plt.bar(tma.index, tma[\"# Minutes Items\"], label=\"# Minutes Items\")\n",
    "# plt.legend()\n",
    "# plt.xticks(rotation=90)\n",
    "# plt.ylabel(\"Number of Agenda Items and Minutes Items\", fontsize=14)\n",
    "# plt.xlabel(\"Committee\", fontsize=14)\n",
    "# plt.title(\"Committee Vs Number of Agenda Items and Minutes Items\", fontsize=20)\n",
    "# plt.tight_layout()\n",
    "# plt.show()"
   ]
  },
  {
   "cell_type": "code",
   "execution_count": null,
   "metadata": {},
   "outputs": [],
   "source": [
    "plt.scatter(mpd[\"# Agenda Items\"], mpd[\"Hours\"])\n",
    "plt.xticks(rotation=90)\n",
    "plt.xlabel(\"Number of Agenda Items\", fontsize=16)\n",
    "plt.ylabel(\"Duration of the meeting in Hours\", fontsize=16)\n",
    "plt.title(\"Number of Agenda Items against Duration of Meeting\\n\", fontsize=18)\n",
    "plt.savefig(\"DvsAI.png\", bboxgrid=\"tight\")\n",
    "plt.show()"
   ]
  },
  {
   "cell_type": "code",
   "execution_count": null,
   "metadata": {},
   "outputs": [],
   "source": [
    "plt.scatter(mpd[\"# Agenda Items\"], mpd[\"Participants\"])\n",
    "plt.xticks(rotation=90)\n",
    "plt.xlabel(\"Number of Agenda Items\", fontsize=16)\n",
    "plt.ylabel(\"Number of Participants\", fontsize=16)\n",
    "plt.title(\"Number of Agenda Items against Number of Participants\\n\", fontsize=18)\n",
    "plt.savefig(\"PvsAI.png\", bboxgrid=\"tight\")\n",
    "plt.show()"
   ]
  },
  {
   "cell_type": "code",
   "execution_count": null,
   "metadata": {},
   "outputs": [],
   "source": [
    "x = mpd[\"# Agenda Items\"]\n",
    "q1_x = x.quantile(.25) \n",
    "q3_x = x.quantile(.75) \n",
    "iqr_x = q3_x - q1_x\n",
    "print(q1_x, q3_x, iqr_x)\n",
    "print(q1_x - (1.5*iqr_x), q3_x + (1.5*iqr_x))\n",
    "oai = x[x.between(q1_x - (1.5*iqr_x), q3_x + (1.5*iqr_x))] # without outliers\n",
    "oai"
   ]
  },
  {
   "cell_type": "code",
   "execution_count": null,
   "metadata": {},
   "outputs": [],
   "source": [
    "set(mpd.index) - set(oai.index)"
   ]
  },
  {
   "cell_type": "code",
   "execution_count": null,
   "metadata": {},
   "outputs": [],
   "source": [
    "age = mpd[mpd[\"# Agenda Items\"] > 31][[\"Committee\", \"Participants\", \"Duration\", \"# Agenda Items\"]]\n",
    "age"
   ]
  },
  {
   "cell_type": "code",
   "execution_count": null,
   "metadata": {},
   "outputs": [],
   "source": [
    "render_mpl_table(age, header_columns=0, col_width=6)\n",
    "plt.savefig(\"a_outliers.png\")"
   ]
  },
  {
   "cell_type": "code",
   "execution_count": null,
   "metadata": {},
   "outputs": [],
   "source": [
    "mpd.iloc[1]"
   ]
  },
  {
   "cell_type": "code",
   "execution_count": null,
   "metadata": {},
   "outputs": [],
   "source": [
    "#print(oai.index.values)\n",
    "mpdri = mpd.take(oai.index.values)\n",
    "mpdri"
   ]
  },
  {
   "cell_type": "code",
   "execution_count": null,
   "metadata": {},
   "outputs": [],
   "source": [
    "plt.scatter(mpdri[\"# Agenda Items\"], mpdri[\"Hours\"])\n",
    "plt.xticks(rotation=90)\n",
    "plt.xlabel(\"Number of Agenda Items\", fontsize=16)\n",
    "plt.ylabel(\"Number of Participants\", fontsize=16)\n",
    "plt.title(\"Number of Agenda Items against Number of Participants\\n\", fontsize=18)\n",
    "plt.savefig(\"PvsAI.png\", bboxgrid=\"tight\")\n",
    "plt.show()"
   ]
  },
  {
   "cell_type": "code",
   "execution_count": null,
   "metadata": {
    "scrolled": true
   },
   "outputs": [],
   "source": [
    "plt.scatter(mpdri[\"# Agenda Items\"], mpdri[\"Participants\"])\n",
    "plt.xticks(rotation=90)\n",
    "plt.xlabel(\"Number of Agenda Items\", fontsize=16)\n",
    "plt.ylabel(\"Number of Participants\", fontsize=16)\n",
    "plt.title(\"Number of Agenda Items against Number of Participants\\n\", fontsize=18)\n",
    "plt.savefig(\"PvsAI.png\", bboxgrid=\"tight\")\n",
    "plt.show()"
   ]
  },
  {
   "cell_type": "code",
   "execution_count": null,
   "metadata": {},
   "outputs": [],
   "source": [
    "mpdri = mpdri.reset_index()"
   ]
  },
  {
   "cell_type": "code",
   "execution_count": null,
   "metadata": {},
   "outputs": [],
   "source": [
    "y = mpdri[\"Participants\"]\n",
    "q1_y = y.quantile(.25) \n",
    "q3_y = y.quantile(.75) \n",
    "iqr_y = q3_y - q1_y\n",
    "print(q1_y, q3_y, iqr_y)\n",
    "print(q1_y - (1.5*iqr_y), q3_y + (1.5*iqr_y))\n",
    "op = y[y.between(q1_y - (1.5*iqr_y), q3_y + (1.5*iqr_y))] # without outliers\n",
    "op"
   ]
  },
  {
   "cell_type": "code",
   "execution_count": null,
   "metadata": {},
   "outputs": [],
   "source": [
    "set(mpdri.index) - set(op.index)"
   ]
  },
  {
   "cell_type": "code",
   "execution_count": null,
   "metadata": {},
   "outputs": [],
   "source": [
    "ag = mpdri[mpdri.Participants > 111][[\"Committee\", \"Participants\", \"Duration\", \"# Agenda Items\"]]\n",
    "ag"
   ]
  },
  {
   "cell_type": "code",
   "execution_count": null,
   "metadata": {
    "scrolled": true
   },
   "outputs": [],
   "source": [
    "import matplotlib.pyplot as plt\n",
    "import pandas as pd\n",
    "from pandas.plotting import table # EDIT: see deprecation warnings below\n",
    "\n",
    "ax = plt.subplot(111, frame_on=False) # no visible frame\n",
    "ax.xaxis.set_visible(False)  # hide the x axis\n",
    "ax.yaxis.set_visible(False)  # hide the y axis\n",
    "\n",
    "table(ax, ag)  # where df is your data frame\n",
    "\n",
    "plt.savefig('agendaoutliers.png', bboxgrid=\"tight\")"
   ]
  },
  {
   "cell_type": "code",
   "execution_count": null,
   "metadata": {},
   "outputs": [],
   "source": [
    "import six\n",
    "def render_mpl_table(data, col_width=5.0, row_height=0.625, font_size=14,\n",
    "                     header_color='#40466e', row_colors=['#f1f1f2', 'w'], edge_color='w',\n",
    "                     bbox=[0, 0, 1, 1], header_columns=0,\n",
    "                     ax=None, **kwargs):\n",
    "    if ax is None:\n",
    "        size = (np.array(data.shape[::-1]) + np.array([0, 1])) * np.array([col_width, row_height])\n",
    "        fig, ax = plt.subplots(figsize=size)\n",
    "        ax.axis('off')\n",
    "\n",
    "    mpl_table = ax.table(cellText=data.values, bbox=bbox, colLabels=data.columns, **kwargs)\n",
    "\n",
    "    mpl_table.auto_set_font_size(False)\n",
    "    mpl_table.set_fontsize(font_size)\n",
    "\n",
    "    for k, cell in six.iteritems(mpl_table._cells):\n",
    "        cell.set_edgecolor(edge_color)\n",
    "        if k[0] == 0 or k[1] < header_columns:\n",
    "            cell.set_text_props(weight='bold', color='w')\n",
    "            cell.set_facecolor(header_color)\n",
    "        else:\n",
    "            cell.set_facecolor(row_colors[k[0]%len(row_colors) ])\n",
    "    return ax"
   ]
  },
  {
   "cell_type": "code",
   "execution_count": null,
   "metadata": {},
   "outputs": [],
   "source": [
    "render_mpl_table(ag, header_columns=0, col_width=4.5)\n",
    "plt.savefig(\"p_outliers.png\")"
   ]
  },
  {
   "cell_type": "code",
   "execution_count": null,
   "metadata": {},
   "outputs": [],
   "source": [
    "#print(op.index.values)\n",
    "mpdrip = mpdri.take(op.index.values)\n",
    "mpdrip"
   ]
  },
  {
   "cell_type": "code",
   "execution_count": null,
   "metadata": {},
   "outputs": [],
   "source": [
    "plt.scatter(mpdrip[\"# Agenda Items\"], mpdrip[\"Participants\"])\n",
    "plt.xticks(rotation=90)\n",
    "plt.xlabel(\"Number of Agenda Items\", fontsize=16)\n",
    "plt.ylabel(\"Number of Participants\", fontsize=16)\n",
    "plt.title(\"Number of Agenda Items against Number of Participants\\n\", fontsize=18)\n",
    "plt.savefig(\"PvsAI2.png\", bboxgrid=\"tight\")\n",
    "plt.show()"
   ]
  },
  {
   "cell_type": "code",
   "execution_count": null,
   "metadata": {
    "scrolled": true
   },
   "outputs": [],
   "source": [
    "y = mpdri[\"Hours\"]\n",
    "q1_y = y.quantile(.25) \n",
    "q3_y = y.quantile(.75) \n",
    "iqr_y = q3_y - q1_y\n",
    "print(q1_y, q3_y, iqr_y)\n",
    "print(q1_y - (1.5*iqr_y), q3_y + (1.5*iqr_y))\n",
    "oh = y[y.between(q1_y - (1.5*iqr_y), q3_y + (1.5*iqr_y))] # without outliers\n",
    "oh"
   ]
  },
  {
   "cell_type": "code",
   "execution_count": null,
   "metadata": {},
   "outputs": [],
   "source": [
    "set(mpdri.index) - set(oh.index)"
   ]
  },
  {
   "cell_type": "code",
   "execution_count": null,
   "metadata": {},
   "outputs": [],
   "source": [
    "ho = mpdri[mpdri.Hours > 6.4][[\"Committee\", \"Participants\", \"Duration\", \"# Agenda Items\"]]\n",
    "ho"
   ]
  },
  {
   "cell_type": "code",
   "execution_count": null,
   "metadata": {},
   "outputs": [],
   "source": [
    "render_mpl_table(ho, header_columns=0, col_width=4)\n",
    "plt.savefig(\"h_outliers.png\")"
   ]
  },
  {
   "cell_type": "code",
   "execution_count": null,
   "metadata": {},
   "outputs": [],
   "source": [
    "mpdri.iloc[9]"
   ]
  },
  {
   "cell_type": "code",
   "execution_count": null,
   "metadata": {},
   "outputs": [],
   "source": [
    "set(mpdri.index) - set(oh.index), set(mpdri.index) - set(op.index)"
   ]
  },
  {
   "cell_type": "code",
   "execution_count": null,
   "metadata": {},
   "outputs": [],
   "source": [
    "#print(op.index.values)\n",
    "mpdrih = mpdri.take(oh.index.values)\n",
    "mpdrih"
   ]
  },
  {
   "cell_type": "code",
   "execution_count": null,
   "metadata": {},
   "outputs": [],
   "source": [
    "plt.scatter(mpdrih[\"# Agenda Items\"], mpdrih[\"Hours\"])\n",
    "plt.xticks(rotation=90)\n",
    "plt.xlabel(\"Number of Agenda Items\", fontsize=16)\n",
    "plt.ylabel(\"Duration Hours\", fontsize=16)\n",
    "plt.title(\"Number of Agenda Items against Duration Hours\\n\", fontsize=18)\n",
    "plt.savefig(\"DvsAI2.png\", bboxgrid=\"tight\")\n",
    "plt.show()"
   ]
  },
  {
   "cell_type": "code",
   "execution_count": null,
   "metadata": {},
   "outputs": [],
   "source": [
    "ih1 = np.polyfit(mpdrih[\"# Agenda Items\"], mpdrih[\"Hours\"], 1, rcond=None, full=False)\n",
    "ih1"
   ]
  },
  {
   "cell_type": "code",
   "execution_count": null,
   "metadata": {},
   "outputs": [],
   "source": [
    "eh1 = np.sum((np.polyval(np.polyfit(mpdrih[\"# Agenda Items\"], mpdrih[\"Hours\"], 1), mpdrih[\"# Agenda Items\"]) - mpdrih[\"Hours\"])**2)\n",
    "eh1/len(mpdrih[\"# Agenda Items\"])"
   ]
  },
  {
   "cell_type": "code",
   "execution_count": null,
   "metadata": {},
   "outputs": [],
   "source": [
    "ih2 = np.polyfit(mpdrih[\"# Agenda Items\"], mpdrih[\"Hours\"], 2, rcond=None, full=False)\n",
    "ih2"
   ]
  },
  {
   "cell_type": "code",
   "execution_count": null,
   "metadata": {},
   "outputs": [],
   "source": [
    "eh2 = np.sum((np.polyval(np.polyfit(mpdrih[\"# Agenda Items\"], mpdrih[\"Hours\"], 2), mpdrih[\"# Agenda Items\"]) - mpdrih[\"Hours\"])**2)\n",
    "eh2/len(mpdrih[\"# Agenda Items\"])"
   ]
  },
  {
   "cell_type": "code",
   "execution_count": null,
   "metadata": {},
   "outputs": [],
   "source": [
    "ih3 = np.polyfit(mpdrih[\"# Agenda Items\"], mpdrih[\"Hours\"], 3, rcond=None, full=False)\n",
    "ih3"
   ]
  },
  {
   "cell_type": "code",
   "execution_count": null,
   "metadata": {},
   "outputs": [],
   "source": [
    "eh3 = np.sum((np.polyval(np.polyfit(mpdrih[\"# Agenda Items\"], mpdrih[\"Hours\"], 3), mpdrih[\"# Agenda Items\"]) - mpdrih[\"Hours\"])**2)\n",
    "eh3/len(mpdrih[\"# Agenda Items\"])"
   ]
  },
  {
   "cell_type": "code",
   "execution_count": null,
   "metadata": {},
   "outputs": [],
   "source": [
    "fig, ax = plt.subplots(figsize = (10,6))\n",
    "mpdrih.plot.scatter(y='Hours', x=\"# Agenda Items\", ax=ax, color='purple')\n",
    "x = np.arange(0.1, 35, 0.5)\n",
    "trendpoly = np.poly1d(ih2) \n",
    "plt.plot(x,trendpoly(x))\n",
    "#plt.plot(X, lr.predict(get_xterms(x)), color='r')\n",
    "#ax.set_ylabel(\"Average Meeting Duration in Hours\", fontsize=16)\n",
    "#ax.set_xlabel(\"Average Number of Meeting Participants\", fontsize=16)\n",
    "ax.spines['right'].set_visible(False)\n",
    "ax.spines['top'].set_visible(False)\n",
    "#ax.set_title('Average Number of Participants by \\nAverage Meeting Duration in Hours for each Committee\\n', fontsize=20)\n",
    "#plt.savefig(\"PvsD2.png\", bbox_inches = \"tight\")\n",
    "None"
   ]
  },
  {
   "cell_type": "code",
   "execution_count": null,
   "metadata": {},
   "outputs": [],
   "source": [
    "# Function to calculate the power-law with constants a and b\n",
    "def power_law(x, a, b):\n",
    "    return a*np.power(x, b)"
   ]
  },
  {
   "cell_type": "code",
   "execution_count": null,
   "metadata": {},
   "outputs": [],
   "source": [
    "pars, cov = curve_fit(f=power_law, xdata=mpdrih[\"# Agenda Items\"].values, ydata=mpdrih[\"Hours\"].values, p0=[0, 0], bounds=(-np.inf, np.inf))\n",
    "pars, cov"
   ]
  },
  {
   "cell_type": "code",
   "execution_count": null,
   "metadata": {},
   "outputs": [],
   "source": [
    "l = []\n",
    "for i in range(mpdrih[\"# Agenda Items\"].shape[0]):\n",
    "    val = power_law(mpdrih.iloc[i][\"# Agenda Items\"], pars[0], pars[1])\n",
    "    l.append(val)"
   ]
  },
  {
   "cell_type": "code",
   "execution_count": null,
   "metadata": {},
   "outputs": [],
   "source": [
    "ep = np.sum((l - mpdrih[\"Hours\"].values) **2)\n",
    "ep/len(mpdrih[\"# Agenda Items\"])"
   ]
  },
  {
   "cell_type": "code",
   "execution_count": null,
   "metadata": {},
   "outputs": [],
   "source": [
    "fig, ax = plt.subplots(figsize = (10,6))\n",
    "mpdrih.plot.scatter(y='Hours', x=\"# Agenda Items\", ax=ax, color='purple')\n",
    "x = np.arange(0.1, 35, 0.5)\n",
    "plt.plot(x, power_law(x, *pars))"
   ]
  },
  {
   "cell_type": "code",
   "execution_count": null,
   "metadata": {},
   "outputs": [],
   "source": [
    "ip1 = np.polyfit(mpdrip[\"# Agenda Items\"], mpdrip[\"Participants\"], 1, rcond=None, full=False)\n",
    "ip1"
   ]
  },
  {
   "cell_type": "code",
   "execution_count": null,
   "metadata": {},
   "outputs": [],
   "source": [
    "ip2 = np.polyfit(mpdrip[\"# Agenda Items\"], mpdrip[\"Participants\"], 2, rcond=None, full=False)\n",
    "ip2"
   ]
  },
  {
   "cell_type": "code",
   "execution_count": null,
   "metadata": {},
   "outputs": [],
   "source": [
    "ip3 = np.polyfit(mpdrip[\"# Agenda Items\"], mpdrip[\"Participants\"], 3, rcond=None, full=False)\n",
    "ip3"
   ]
  },
  {
   "cell_type": "code",
   "execution_count": null,
   "metadata": {},
   "outputs": [],
   "source": [
    "ip4 = np.polyfit(mpdrip[\"# Agenda Items\"], mpdrip[\"Participants\"], 4, rcond=None, full=False)\n",
    "ip4"
   ]
  },
  {
   "cell_type": "code",
   "execution_count": null,
   "metadata": {},
   "outputs": [],
   "source": [
    "ip5 = np.polyfit(mpdrip[\"# Agenda Items\"], mpdrip[\"Participants\"], 5, rcond=None, full=False)\n",
    "ip5"
   ]
  },
  {
   "cell_type": "code",
   "execution_count": null,
   "metadata": {},
   "outputs": [],
   "source": [
    "ep1 = np.sum((np.polyval(np.polyfit(mpdrip[\"# Agenda Items\"], mpdrip[\"Participants\"], 1), mpdrip[\"# Agenda Items\"]) - mpdrip[\"Participants\"])**2)\n",
    "ep1/len(mpdrip[\"# Agenda Items\"])"
   ]
  },
  {
   "cell_type": "code",
   "execution_count": null,
   "metadata": {},
   "outputs": [],
   "source": [
    "ep2 = np.sum((np.polyval(np.polyfit(mpdrip[\"# Agenda Items\"], mpdrip[\"Participants\"], 2), mpdrip[\"# Agenda Items\"]) - mpdrip[\"Participants\"])**2)\n",
    "ep2/len(mpdrip[\"# Agenda Items\"])"
   ]
  },
  {
   "cell_type": "code",
   "execution_count": null,
   "metadata": {},
   "outputs": [],
   "source": [
    "ep3 = np.sum((np.polyval(np.polyfit(mpdrip[\"# Agenda Items\"], mpdrip[\"Participants\"], 3), mpdrip[\"# Agenda Items\"]) - mpdrip[\"Participants\"])**2)\n",
    "ep3/len(mpdrip[\"# Agenda Items\"])"
   ]
  },
  {
   "cell_type": "code",
   "execution_count": null,
   "metadata": {},
   "outputs": [],
   "source": [
    "ep4 = np.sum((np.polyval(np.polyfit(mpdrip[\"# Agenda Items\"], mpdrip[\"Participants\"], 4), mpdrip[\"# Agenda Items\"]) - mpdrip[\"Participants\"])**2)\n",
    "ep4/len(mpdrip[\"# Agenda Items\"])"
   ]
  },
  {
   "cell_type": "code",
   "execution_count": null,
   "metadata": {},
   "outputs": [],
   "source": [
    "ep5 = np.sum((np.polyval(np.polyfit(mpdrip[\"# Agenda Items\"], mpdrip[\"Participants\"], 5), mpdrip[\"# Agenda Items\"]) - mpdrip[\"Participants\"])**2)\n",
    "ep5/len(mpdrip[\"# Agenda Items\"])"
   ]
  },
  {
   "cell_type": "code",
   "execution_count": null,
   "metadata": {},
   "outputs": [],
   "source": [
    "fig, ax = plt.subplots(figsize = (10,6))\n",
    "mpdrip.plot.scatter(y='Participants', x=\"# Agenda Items\", ax=ax, color='purple')\n",
    "x = np.arange(0.1, 35, 0.5)\n",
    "trendpoly = np.poly1d(ip3) \n",
    "plt.plot(x,trendpoly(x))\n",
    "#plt.plot(X, lr.predict(get_xterms(x)), color='r')\n",
    "#ax.set_ylabel(\"Average Meeting Duration in Hours\", fontsize=16)\n",
    "#ax.set_xlabel(\"Average Number of Meeting Participants\", fontsize=16)\n",
    "ax.spines['right'].set_visible(False)\n",
    "ax.spines['top'].set_visible(False)\n",
    "#ax.set_title('Average Number of Participants by \\nAverage Meeting Duration in Hours for each Committee\\n', fontsize=20)\n",
    "#plt.savefig(\"PvsD2.png\", bbox_inches = \"tight\")\n",
    "None"
   ]
  },
  {
   "cell_type": "code",
   "execution_count": null,
   "metadata": {},
   "outputs": [],
   "source": [
    "pars2, cov2 = curve_fit(f=power_law, xdata=mpdrip[\"# Agenda Items\"].values, ydata=mpdrip[\"Participants\"].values, p0=[0, 0], bounds=(-np.inf, np.inf))\n",
    "pars2, cov2"
   ]
  },
  {
   "cell_type": "code",
   "execution_count": null,
   "metadata": {},
   "outputs": [],
   "source": [
    "ll = []\n",
    "for i in range(mpdrip[\"# Agenda Items\"].shape[0]):\n",
    "    val = power_law(mpdrip.iloc[i][\"# Agenda Items\"], pars[0], pars[1])\n",
    "    ll.append(val)"
   ]
  },
  {
   "cell_type": "code",
   "execution_count": null,
   "metadata": {},
   "outputs": [],
   "source": [
    "eh = np.sum((ll - mpdrip[\"Participants\"].values) **2)\n",
    "eh/len(mpdrip[\"# Agenda Items\"])"
   ]
  },
  {
   "cell_type": "code",
   "execution_count": null,
   "metadata": {},
   "outputs": [],
   "source": []
  }
 ],
 "metadata": {
  "kernelspec": {
   "display_name": "Python 3",
   "language": "python",
   "name": "python3"
  },
  "language_info": {
   "codemirror_mode": {
    "name": "ipython",
    "version": 3
   },
   "file_extension": ".py",
   "mimetype": "text/x-python",
   "name": "python",
   "nbconvert_exporter": "python",
   "pygments_lexer": "ipython3",
   "version": "3.8.1"
  }
 },
 "nbformat": 4,
 "nbformat_minor": 4
}
