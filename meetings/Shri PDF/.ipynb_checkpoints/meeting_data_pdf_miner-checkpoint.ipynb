{
 "cells": [
  {
   "cell_type": "code",
   "execution_count": 1,
   "metadata": {},
   "outputs": [],
   "source": [
    "# Import necessary packages\n",
    "import os\n",
    "import re\n",
    "import pdfminer\n",
    "import sys\n",
    "import traceback\n",
    "import pandas as pd\n",
    "import numpy as np\n",
    "from subprocess import check_output\n",
    "from bs4 import BeautifulSoup\n",
    "from collections import defaultdict\n",
    "import matplotlib.pyplot as plt\n",
    "from datetime import date, datetime\n",
    "from scipy.optimize import curve_fit\n",
    "from sklearn.linear_model import LinearRegression"
   ]
  },
  {
   "cell_type": "code",
   "execution_count": null,
   "metadata": {},
   "outputs": [],
   "source": [
    "pd.set_option('display.max_rows', None)"
   ]
  },
  {
   "cell_type": "code",
   "execution_count": 3,
   "metadata": {},
   "outputs": [
    {
     "data": {
      "text/html": [
       "<div>\n",
       "<style scoped>\n",
       "    .dataframe tbody tr th:only-of-type {\n",
       "        vertical-align: middle;\n",
       "    }\n",
       "\n",
       "    .dataframe tbody tr th {\n",
       "        vertical-align: top;\n",
       "    }\n",
       "\n",
       "    .dataframe thead th {\n",
       "        text-align: right;\n",
       "    }\n",
       "</style>\n",
       "<table border=\"1\" class=\"dataframe\">\n",
       "  <thead>\n",
       "    <tr style=\"text-align: right;\">\n",
       "      <th></th>\n",
       "      <th>Meeting_ID</th>\n",
       "      <th>Topic</th>\n",
       "      <th>Scheduled_Start_Time</th>\n",
       "      <th>Zoom_Meeting_Start_Time</th>\n",
       "      <th>Zoom_Meeting_End_Time</th>\n",
       "      <th>Duration</th>\n",
       "      <th>Participants</th>\n",
       "      <th>Recording</th>\n",
       "      <th>Agenda_Link</th>\n",
       "      <th>Minutes_Link</th>\n",
       "      <th>Start_Date</th>\n",
       "      <th>Start_Time</th>\n",
       "      <th>Meeting_Duration</th>\n",
       "      <th>Committee</th>\n",
       "    </tr>\n",
       "  </thead>\n",
       "  <tbody>\n",
       "    <tr>\n",
       "      <th>0</th>\n",
       "      <td>954 410 442</td>\n",
       "      <td>CCEC</td>\n",
       "      <td>4:30:00 PM</td>\n",
       "      <td>2020-03-31 15:40:00</td>\n",
       "      <td>2020-03-31 18:27:00</td>\n",
       "      <td>2:47:55</td>\n",
       "      <td>52</td>\n",
       "      <td>Yes</td>\n",
       "      <td>https://madison.legistar.com/View.ashx?M=A&amp;ID=...</td>\n",
       "      <td>https://madison.legistar.com/View.ashx?M=M&amp;ID=...</td>\n",
       "      <td>3/31/2020</td>\n",
       "      <td>15:40</td>\n",
       "      <td>0 days 02:47:00.000000000</td>\n",
       "      <td>Common Council Executive Committee</td>\n",
       "    </tr>\n",
       "    <tr>\n",
       "      <th>1</th>\n",
       "      <td>531 697 510</td>\n",
       "      <td>Common Council</td>\n",
       "      <td>6:30:00 PM</td>\n",
       "      <td>2020-03-31 17:04:00</td>\n",
       "      <td>2020-04-01 02:53:00</td>\n",
       "      <td>9:48:36</td>\n",
       "      <td>337</td>\n",
       "      <td>Yes</td>\n",
       "      <td>https://madison.legistar.com/View.ashx?M=A&amp;ID=...</td>\n",
       "      <td>https://madison.legistar.com/View.ashx?M=M&amp;ID=...</td>\n",
       "      <td>3/31/2020</td>\n",
       "      <td>17:04</td>\n",
       "      <td>0 days 09:49:00.000000000</td>\n",
       "      <td>Common Council Executive Committee</td>\n",
       "    </tr>\n",
       "    <tr>\n",
       "      <th>2</th>\n",
       "      <td>411 578 576</td>\n",
       "      <td>Finance Committee: Meeting of April 6, 2020</td>\n",
       "      <td>4:30:00 PM</td>\n",
       "      <td>2020-04-06 15:40:00</td>\n",
       "      <td>2020-04-06 17:49:00</td>\n",
       "      <td>2:09:00</td>\n",
       "      <td>31</td>\n",
       "      <td>Yes</td>\n",
       "      <td>https://madison.legistar.com/View.ashx?M=A&amp;ID=...</td>\n",
       "      <td>https://madison.legistar.com/View.ashx?M=M&amp;ID=...</td>\n",
       "      <td>4/6/2020</td>\n",
       "      <td>15:40</td>\n",
       "      <td>0 days 02:09:00.000000000</td>\n",
       "      <td>Finance Committee</td>\n",
       "    </tr>\n",
       "    <tr>\n",
       "      <th>3</th>\n",
       "      <td>563 608 269</td>\n",
       "      <td>CCEC: Meeting of April 9, 2020</td>\n",
       "      <td>6:00:00 PM</td>\n",
       "      <td>2020-04-09 16:57:00</td>\n",
       "      <td>2020-04-09 19:53:00</td>\n",
       "      <td>2:56:08</td>\n",
       "      <td>36</td>\n",
       "      <td>Yes</td>\n",
       "      <td>https://madison.legistar.com/View.ashx?M=A&amp;ID=...</td>\n",
       "      <td>https://madison.legistar.com/View.ashx?M=M&amp;ID=...</td>\n",
       "      <td>4/9/2020</td>\n",
       "      <td>16:57</td>\n",
       "      <td>0 days 02:56:00.000000000</td>\n",
       "      <td>Common Council Executive Committee</td>\n",
       "    </tr>\n",
       "    <tr>\n",
       "      <th>4</th>\n",
       "      <td>468 948 855</td>\n",
       "      <td>Plan Commission: Meeting of April 13, 2020</td>\n",
       "      <td>5:30:00 PM</td>\n",
       "      <td>2020-04-13 16:35:00</td>\n",
       "      <td>2020-04-13 21:14:00</td>\n",
       "      <td>4:38:54</td>\n",
       "      <td>80</td>\n",
       "      <td>Yes</td>\n",
       "      <td>https://madison.legistar.com/View.ashx?M=A&amp;ID=...</td>\n",
       "      <td>https://madison.legistar.com/View.ashx?M=M&amp;ID=...</td>\n",
       "      <td>4/13/2020</td>\n",
       "      <td>16:35</td>\n",
       "      <td>0 days 04:39:00.000000000</td>\n",
       "      <td>Plan Commission</td>\n",
       "    </tr>\n",
       "    <tr>\n",
       "      <th>...</th>\n",
       "      <td>...</td>\n",
       "      <td>...</td>\n",
       "      <td>...</td>\n",
       "      <td>...</td>\n",
       "      <td>...</td>\n",
       "      <td>...</td>\n",
       "      <td>...</td>\n",
       "      <td>...</td>\n",
       "      <td>...</td>\n",
       "      <td>...</td>\n",
       "      <td>...</td>\n",
       "      <td>...</td>\n",
       "      <td>...</td>\n",
       "      <td>...</td>\n",
       "    </tr>\n",
       "    <tr>\n",
       "      <th>150</th>\n",
       "      <td>934 9101 4777</td>\n",
       "      <td>Public Safety Review Committee Budget Subcommi...</td>\n",
       "      <td>NaN</td>\n",
       "      <td>2020-07-29 17:46:00</td>\n",
       "      <td>2020-07-29 20:17:00</td>\n",
       "      <td>2:30:50</td>\n",
       "      <td>21</td>\n",
       "      <td>Yes</td>\n",
       "      <td>NaN</td>\n",
       "      <td>NaN</td>\n",
       "      <td>7/29/2020</td>\n",
       "      <td>17:46</td>\n",
       "      <td>0 days 02:31:00.000000000</td>\n",
       "      <td>Public Safety Review Committee</td>\n",
       "    </tr>\n",
       "    <tr>\n",
       "      <th>151</th>\n",
       "      <td>985 6384 8547</td>\n",
       "      <td>Plan Commission: Meeting of July 30, 2020</td>\n",
       "      <td>5:00:00 PM</td>\n",
       "      <td>2020-07-30 15:58:00</td>\n",
       "      <td>2020-07-30 20:06:00</td>\n",
       "      <td>4:08:29</td>\n",
       "      <td>54</td>\n",
       "      <td>Yes</td>\n",
       "      <td>https://madison.legistar.com/View.ashx?M=A&amp;ID=...</td>\n",
       "      <td>https://madison.legistar.com/View.ashx?M=M&amp;ID=...</td>\n",
       "      <td>7/30/2020</td>\n",
       "      <td>15:58</td>\n",
       "      <td>0 days 04:08:00.000000000</td>\n",
       "      <td>Plan Commission</td>\n",
       "    </tr>\n",
       "    <tr>\n",
       "      <th>152</th>\n",
       "      <td>998 8578 7121</td>\n",
       "      <td>Body-Worn Camera Feasibility Review Committee:...</td>\n",
       "      <td>5:30:00 PM</td>\n",
       "      <td>2020-07-30 17:06:00</td>\n",
       "      <td>2020-07-30 19:35:00</td>\n",
       "      <td>2:28:11</td>\n",
       "      <td>23</td>\n",
       "      <td>Yes</td>\n",
       "      <td>https://madison.legistar.com/View.ashx?M=A&amp;ID=...</td>\n",
       "      <td>https://madison.legistar.com/View.ashx?M=M&amp;ID=...</td>\n",
       "      <td>7/30/2020</td>\n",
       "      <td>17:06</td>\n",
       "      <td>0 days 02:29:00.000000000</td>\n",
       "      <td>Body-Worn Camera Feasibility Review Committee</td>\n",
       "    </tr>\n",
       "    <tr>\n",
       "      <th>153</th>\n",
       "      <td>949 7219 5424</td>\n",
       "      <td>Task Force on Municipal Golf in Madison Parks:...</td>\n",
       "      <td>6:00:00 PM</td>\n",
       "      <td>2020-07-30 17:35:00</td>\n",
       "      <td>2020-07-30 20:24:00</td>\n",
       "      <td>2:49:27</td>\n",
       "      <td>81</td>\n",
       "      <td>Yes</td>\n",
       "      <td>https://madison.legistar.com/View.ashx?M=A&amp;ID=...</td>\n",
       "      <td>https://madison.legistar.com/View.ashx?M=M&amp;ID=...</td>\n",
       "      <td>7/30/2020</td>\n",
       "      <td>17:35</td>\n",
       "      <td>0 days 02:49:00.000000000</td>\n",
       "      <td>Task Force on Golf in Madison Parks</td>\n",
       "    </tr>\n",
       "    <tr>\n",
       "      <th>154</th>\n",
       "      <td>917 3277 2846</td>\n",
       "      <td>Deferred Compensation Committee Lincoln/ABG Se...</td>\n",
       "      <td>1:30:00 PM</td>\n",
       "      <td>2020-07-31 12:59:00</td>\n",
       "      <td>2020-07-31 14:50:00</td>\n",
       "      <td>1:50:47</td>\n",
       "      <td>35</td>\n",
       "      <td>No</td>\n",
       "      <td>https://madison.legistar.com/View.ashx?M=A&amp;ID=...</td>\n",
       "      <td>NaN</td>\n",
       "      <td>7/31/2020</td>\n",
       "      <td>12:59</td>\n",
       "      <td>0 days 01:51:00.000000000</td>\n",
       "      <td>Deferred Compensation Committee</td>\n",
       "    </tr>\n",
       "  </tbody>\n",
       "</table>\n",
       "<p>155 rows × 14 columns</p>\n",
       "</div>"
      ],
      "text/plain": [
       "        Meeting_ID                                              Topic  \\\n",
       "0      954 410 442                                               CCEC   \n",
       "1      531 697 510                                     Common Council   \n",
       "2      411 578 576        Finance Committee: Meeting of April 6, 2020   \n",
       "3      563 608 269                     CCEC: Meeting of April 9, 2020   \n",
       "4      468 948 855         Plan Commission: Meeting of April 13, 2020   \n",
       "..             ...                                                ...   \n",
       "150  934 9101 4777  Public Safety Review Committee Budget Subcommi...   \n",
       "151  985 6384 8547          Plan Commission: Meeting of July 30, 2020   \n",
       "152  998 8578 7121  Body-Worn Camera Feasibility Review Committee:...   \n",
       "153  949 7219 5424  Task Force on Municipal Golf in Madison Parks:...   \n",
       "154  917 3277 2846  Deferred Compensation Committee Lincoln/ABG Se...   \n",
       "\n",
       "    Scheduled_Start_Time Zoom_Meeting_Start_Time Zoom_Meeting_End_Time  \\\n",
       "0             4:30:00 PM     2020-03-31 15:40:00   2020-03-31 18:27:00   \n",
       "1             6:30:00 PM     2020-03-31 17:04:00   2020-04-01 02:53:00   \n",
       "2             4:30:00 PM     2020-04-06 15:40:00   2020-04-06 17:49:00   \n",
       "3             6:00:00 PM     2020-04-09 16:57:00   2020-04-09 19:53:00   \n",
       "4             5:30:00 PM     2020-04-13 16:35:00   2020-04-13 21:14:00   \n",
       "..                   ...                     ...                   ...   \n",
       "150                  NaN     2020-07-29 17:46:00   2020-07-29 20:17:00   \n",
       "151           5:00:00 PM     2020-07-30 15:58:00   2020-07-30 20:06:00   \n",
       "152           5:30:00 PM     2020-07-30 17:06:00   2020-07-30 19:35:00   \n",
       "153           6:00:00 PM     2020-07-30 17:35:00   2020-07-30 20:24:00   \n",
       "154           1:30:00 PM     2020-07-31 12:59:00   2020-07-31 14:50:00   \n",
       "\n",
       "    Duration  Participants Recording  \\\n",
       "0    2:47:55            52       Yes   \n",
       "1    9:48:36           337       Yes   \n",
       "2    2:09:00            31       Yes   \n",
       "3    2:56:08            36       Yes   \n",
       "4    4:38:54            80       Yes   \n",
       "..       ...           ...       ...   \n",
       "150  2:30:50            21       Yes   \n",
       "151  4:08:29            54       Yes   \n",
       "152  2:28:11            23       Yes   \n",
       "153  2:49:27            81       Yes   \n",
       "154  1:50:47            35        No   \n",
       "\n",
       "                                           Agenda_Link  \\\n",
       "0    https://madison.legistar.com/View.ashx?M=A&ID=...   \n",
       "1    https://madison.legistar.com/View.ashx?M=A&ID=...   \n",
       "2    https://madison.legistar.com/View.ashx?M=A&ID=...   \n",
       "3    https://madison.legistar.com/View.ashx?M=A&ID=...   \n",
       "4    https://madison.legistar.com/View.ashx?M=A&ID=...   \n",
       "..                                                 ...   \n",
       "150                                                NaN   \n",
       "151  https://madison.legistar.com/View.ashx?M=A&ID=...   \n",
       "152  https://madison.legistar.com/View.ashx?M=A&ID=...   \n",
       "153  https://madison.legistar.com/View.ashx?M=A&ID=...   \n",
       "154  https://madison.legistar.com/View.ashx?M=A&ID=...   \n",
       "\n",
       "                                          Minutes_Link Start_Date Start_Time  \\\n",
       "0    https://madison.legistar.com/View.ashx?M=M&ID=...  3/31/2020      15:40   \n",
       "1    https://madison.legistar.com/View.ashx?M=M&ID=...  3/31/2020      17:04   \n",
       "2    https://madison.legistar.com/View.ashx?M=M&ID=...   4/6/2020      15:40   \n",
       "3    https://madison.legistar.com/View.ashx?M=M&ID=...   4/9/2020      16:57   \n",
       "4    https://madison.legistar.com/View.ashx?M=M&ID=...  4/13/2020      16:35   \n",
       "..                                                 ...        ...        ...   \n",
       "150                                                NaN  7/29/2020      17:46   \n",
       "151  https://madison.legistar.com/View.ashx?M=M&ID=...  7/30/2020      15:58   \n",
       "152  https://madison.legistar.com/View.ashx?M=M&ID=...  7/30/2020      17:06   \n",
       "153  https://madison.legistar.com/View.ashx?M=M&ID=...  7/30/2020      17:35   \n",
       "154                                                NaN  7/31/2020      12:59   \n",
       "\n",
       "              Meeting_Duration                                      Committee  \n",
       "0    0 days 02:47:00.000000000             Common Council Executive Committee  \n",
       "1    0 days 09:49:00.000000000             Common Council Executive Committee  \n",
       "2    0 days 02:09:00.000000000                              Finance Committee  \n",
       "3    0 days 02:56:00.000000000             Common Council Executive Committee  \n",
       "4    0 days 04:39:00.000000000                                Plan Commission  \n",
       "..                         ...                                            ...  \n",
       "150  0 days 02:31:00.000000000                 Public Safety Review Committee  \n",
       "151  0 days 04:08:00.000000000                                Plan Commission  \n",
       "152  0 days 02:29:00.000000000  Body-Worn Camera Feasibility Review Committee  \n",
       "153  0 days 02:49:00.000000000            Task Force on Golf in Madison Parks  \n",
       "154  0 days 01:51:00.000000000                Deferred Compensation Committee  \n",
       "\n",
       "[155 rows x 14 columns]"
      ]
     },
     "execution_count": 3,
     "metadata": {},
     "output_type": "execute_result"
    }
   ],
   "source": [
    "mpd = pd.read_csv(\"Cleaned Meeting Data.csv\")\n",
    "mpd"
   ]
  },
  {
   "cell_type": "code",
   "execution_count": 4,
   "metadata": {},
   "outputs": [],
   "source": [
    "!mkdir agenda_pdfs minutes_pdfs"
   ]
  },
  {
   "cell_type": "code",
   "execution_count": null,
   "metadata": {
    "scrolled": true
   },
   "outputs": [
    {
     "name": "stdout",
     "output_type": "stream",
     "text": [
      "Traceback (most recent call last):\n",
      "  File \"<ipython-input-5-68863074649c>\", line 10, in <module>\n",
      "    c1 = check_output([\"curl\", a_l, \"-o\", a_l_ipath])\n",
      "  File \"/Library/Frameworks/Python.framework/Versions/3.8/lib/python3.8/subprocess.py\", line 411, in check_output\n",
      "    return run(*popenargs, stdout=PIPE, timeout=timeout, check=True,\n",
      "  File \"/Library/Frameworks/Python.framework/Versions/3.8/lib/python3.8/subprocess.py\", line 512, in run\n",
      "    raise CalledProcessError(retcode, process.args,\n",
      "subprocess.CalledProcessError: Command '['curl', 'https://madison.legistar.com/View.ashx?M=A&ID=749806&GUID=DCDE4C54-93C7-4202-9D08-3A8E262387B7', '-o', 'agenda_pdfs/0.pdf']' returned non-zero exit status 35.\n",
      "agenda_pdfs/0.pdf minutes_pdfs/0.pdf\n"
     ]
    }
   ],
   "source": [
    "#Fetch all pdfs and make their html format\n",
    "#Agenda link is the 8th column and the minutes link is the 9th column\n",
    "for i in range(mpd.shape[0]):\n",
    "    a_l = mpd.loc[i][8]\n",
    "    m_l = mpd.loc[i][9]\n",
    "    if not pd.isnull(a_l) and not pd.isnull(m_l):\n",
    "        a_l_ipath = os.path.join(\"agenda_pdfs\", str(i) + \".pdf\")\n",
    "        m_l_ipath = os.path.join(\"minutes_pdfs\", str(i) + \".pdf\")\n",
    "        try:\n",
    "            c1 = check_output([\"curl\", a_l, \"-o\", a_l_ipath])\n",
    "            c2 = check_output([\"curl\", m_l, \"-o\", m_l_ipath])\n",
    "        except:\n",
    "            traceback.print_exc(file=sys.stdout)\n",
    "            print(a_l_ipath, m_l_ipath)"
   ]
  },
  {
   "cell_type": "code",
   "execution_count": null,
   "metadata": {},
   "outputs": [],
   "source": [
    "mpd[\"Agenda HTML\"] = \"\"\n",
    "mpd[\"Minutes HTML\"] = \"\"\n",
    "mpd"
   ]
  },
  {
   "cell_type": "code",
   "execution_count": null,
   "metadata": {},
   "outputs": [],
   "source": [
    "#Fetch all pdfs and make their html format\n",
    "#Agenda link is the 8th column and the minutes link is the 9th column\n",
    "a_h = []\n",
    "m_h = []\n",
    "for i in range(mpd.shape[0]):\n",
    "    a_l = mpd.loc[i][\"Agenda_Link\"]\n",
    "    m_l = mpd.loc[i][\"Minutes_Link\"]\n",
    "    if not pd.isnull(a_l) and not pd.isnull(m_l):\n",
    "        a_l_ipath = os.path.join(\"agenda_pdfs\", str(i) + \".pdf\")\n",
    "        m_l_ipath = os.path.join(\"minutes_pdfs\", str(i) + \".pdf\")\n",
    "        try:\n",
    "            s1 = check_output([\"pdf2txt.py\", \"-t\", \"html\", \"-Y\", \"loose\", a_l_ipath])\n",
    "            s2 = check_output([\"pdf2txt.py\", \"-t\", \"html\", \"-Y\", \"loose\", m_l_ipath])\n",
    "            #print(mpd.loc[i, 14])\n",
    "            a_h.append(BeautifulSoup(s1))\n",
    "            m_h.append(BeautifulSoup(s2))\n",
    "        except:\n",
    "            traceback.print_exc(file=sys.stdout)\n",
    "            print(a_l_ipath, m_l_ipath)\n",
    "            a_h.append(\" \")\n",
    "            m_h.append(\" \")\n",
    "    else:\n",
    "        a_h.append(\" \")\n",
    "        m_h.append(\" \")\n",
    "mpd[\"Agenda HTML\"] = a_h\n",
    "mpd[\"Minutes HTML\"] = m_h"
   ]
  },
  {
   "cell_type": "code",
   "execution_count": null,
   "metadata": {},
   "outputs": [],
   "source": [
    "mpd"
   ]
  },
  {
   "cell_type": "code",
   "execution_count": null,
   "metadata": {},
   "outputs": [],
   "source": [
    "def find_near(x, y):\n",
    "    for x_ in range(x-5, x+5):\n",
    "        for y_ in range(y-5, y+5):\n",
    "            if (x_, y_) in text:\n",
    "                return text[(x_, y_)]\n",
    "    return None"
   ]
  },
  {
   "cell_type": "code",
   "execution_count": null,
   "metadata": {},
   "outputs": [],
   "source": [
    "agenda_items_list = []\n",
    "for i in range(mpd.shape[0]):\n",
    "    a_l = mpd.loc[i][\"Agenda HTML\"]\n",
    "    text = {} # key=(x,y), val=text\n",
    "    #print(page)\n",
    "\n",
    "    if a_l != \" \":\n",
    "        for div in a_l.find_all(\"div\"):\n",
    "            style = div.attrs.get(\"style\", \"\")\n",
    "            m1 = re.search(\"left:(\\d+)px\", style)\n",
    "            m2 = re.search(\"top:(\\d+)px\", style)\n",
    "            if m1 and m2:\n",
    "                x, y = int(m1.group(1)), int(m2.group(1))\n",
    "                text[(x,y)] = div.get_text()\n",
    "\n",
    "        agenda_list = {}\n",
    "\n",
    "        for (x,y), t in text.items():\n",
    "            # agenda items are roughly at x=170\n",
    "            if 165 < x < 175:\n",
    "                # agenda numbers are rougly at x=69, same y as text\n",
    "                num = find_near(103, y)\n",
    "                if num:\n",
    "                    #print(num)\n",
    "                    num = num.replace(\"*\", \"\")\n",
    "                    agenda_num = int(re.match('[0-9]+',num).group(0))\n",
    "                    agenda_list[agenda_num] = t\n",
    "\n",
    "        agenda_items_list.append(agenda_list)\n",
    "    \n",
    "    else:\n",
    "        agenda_items_list.append({})\n",
    "mpd[\"Agenda Items\"] = agenda_items_list"
   ]
  },
  {
   "cell_type": "code",
   "execution_count": null,
   "metadata": {
    "scrolled": true
   },
   "outputs": [],
   "source": [
    "m_items_list = []\n",
    "for i in range(mpd.shape[0]):\n",
    "    m_l = mpd.loc[i][\"Minutes HTML\"]\n",
    "    text = {} # key=(x,y), val=text\n",
    "    #print(page)\n",
    "\n",
    "    if m_l != \" \":\n",
    "        for div in m_l.find_all(\"div\"):\n",
    "            style = div.attrs.get(\"style\", \"\")\n",
    "            m1 = re.search(\"left:(\\d+)px\", style)\n",
    "            m2 = re.search(\"top:(\\d+)px\", style)\n",
    "            if m1 and m2:\n",
    "                x, y = int(m1.group(1)), int(m2.group(1))\n",
    "                text[(x,y)] = div.get_text()\n",
    "\n",
    "        #print(text)\n",
    "        #break\n",
    "        m_list = {}\n",
    "\n",
    "        for (x,y), t in text.items():\n",
    "            if 170 < x < 180:\n",
    "                num = find_near(102, y)\n",
    "                if num and re.match('[0-9]+',num) != None:\n",
    "                    m_num = int(re.match('[0-9]+',num).group(0))\n",
    "                    m_list[m_num] = t\n",
    "\n",
    "        m_items_list.append(m_list)\n",
    "    \n",
    "    else:\n",
    "        m_items_list.append({})\n",
    "#print(len(m_items_list))\n",
    "mpd[\"Minutes Items\"] = m_items_list"
   ]
  },
  {
   "cell_type": "code",
   "execution_count": null,
   "metadata": {},
   "outputs": [],
   "source": [
    "mpd"
   ]
  },
  {
   "cell_type": "code",
   "execution_count": null,
   "metadata": {},
   "outputs": [],
   "source": [
    "mpd[\"Agenda Items\"][1], mpd[\"Minutes Items\"][1]\n",
    "#mpd[\"Agenda_Link\"][1], mpd[\"Minutes_Link\"][1]"
   ]
  },
  {
   "cell_type": "code",
   "execution_count": null,
   "metadata": {},
   "outputs": [],
   "source": [
    "mpd[\"# Agenda Items\"] = [len(d) for d in mpd[\"Agenda Items\"]]\n",
    "mpd[\"# Minutes Items\"] = [len(d) for d in mpd[\"Minutes Items\"]]"
   ]
  },
  {
   "cell_type": "code",
   "execution_count": null,
   "metadata": {},
   "outputs": [],
   "source": [
    "mpd"
   ]
  },
  {
   "cell_type": "code",
   "execution_count": null,
   "metadata": {},
   "outputs": [],
   "source": [
    "mpd.at[106, \"# Minutes Items\"] = 11"
   ]
  },
  {
   "cell_type": "code",
   "execution_count": null,
   "metadata": {},
   "outputs": [],
   "source": [
    "mpd.at[51, \"# Minutes Items\"] = 7"
   ]
  },
  {
   "cell_type": "code",
   "execution_count": null,
   "metadata": {},
   "outputs": [],
   "source": [
    "mpd.at[104, \"# Minutes Items\"] = 11"
   ]
  },
  {
   "cell_type": "code",
   "execution_count": null,
   "metadata": {},
   "outputs": [],
   "source": [
    "mpd"
   ]
  },
  {
   "cell_type": "code",
   "execution_count": null,
   "metadata": {},
   "outputs": [],
   "source": [
    "from pylab import rcParams\n",
    "rcParams['figure.figsize'] = 8, 6"
   ]
  },
  {
   "cell_type": "code",
   "execution_count": null,
   "metadata": {},
   "outputs": [],
   "source": [
    "l = []\n",
    "for i in range(mpd.shape[0]):\n",
    "    l.append(pd.Timedelta(mpd[\"Meeting_Duration\"][i]))\n",
    "mpd[\"Meeting_Duration\"] = l"
   ]
  },
  {
   "cell_type": "code",
   "execution_count": null,
   "metadata": {},
   "outputs": [],
   "source": [
    "mpd[\"Hours\"] = mpd[\"Meeting_Duration\"]/pd.Timedelta(hours=1)"
   ]
  },
  {
   "cell_type": "code",
   "execution_count": null,
   "metadata": {
    "scrolled": true
   },
   "outputs": [],
   "source": [
    "plt.scatter(mpd[\"# Agenda Items\"], mpd[\"Hours\"])\n",
    "plt.xticks(rotation=90)\n",
    "plt.xlabel(\"Number of Agenda Items\", fontsize=16)\n",
    "plt.ylabel(\"Duration of the meeting in Hours\", fontsize=16)\n",
    "plt.title(\"Number of Agenda Items against Duration of Meeting\\n\", fontsize=18)\n",
    "plt.savefig(\"DvsAI.png\", bboxgrid=\"tight\")\n",
    "plt.show()"
   ]
  },
  {
   "cell_type": "code",
   "execution_count": null,
   "metadata": {},
   "outputs": [],
   "source": [
    "plt.scatter(mpd[\"# Agenda Items\"], mpd[\"Participants\"])\n",
    "plt.xticks(rotation=90)\n",
    "plt.xlabel(\"Number of Agenda Items\", fontsize=16)\n",
    "plt.ylabel(\"Number of Participants\", fontsize=16)\n",
    "plt.title(\"Number of Agenda Items against Number of Participants\\n\", fontsize=18)\n",
    "plt.savefig(\"PvsAI.png\", bboxgrid=\"tight\")\n",
    "plt.show()"
   ]
  },
  {
   "cell_type": "code",
   "execution_count": null,
   "metadata": {},
   "outputs": [],
   "source": [
    "plt.scatter(mpd[\"# Minutes Items\"], mpd[\"Hours\"])\n",
    "plt.xticks(range(0, 20), rotation=90)\n",
    "plt.xlabel(\"Number of Minutes Items\", fontsize=16)\n",
    "plt.ylabel(\"Duration of the meeting in Hours\", fontsize=16)\n",
    "plt.title(\"Number of Minutes Items against Duration of Meeting\\n\", fontsize=18)\n",
    "plt.savefig(\"DvsMI.png\", bboxgrid=\"tight\")\n",
    "plt.show()"
   ]
  },
  {
   "cell_type": "code",
   "execution_count": null,
   "metadata": {},
   "outputs": [],
   "source": [
    "plt.scatter(mpd[\"# Minutes Items\"], mpd[\"Participants\"])\n",
    "plt.xticks(rotation=90)\n",
    "plt.xlabel(\"Number of Minutes Items\", fontsize=16)\n",
    "plt.ylabel(\"Number of Participants\", fontsize=16)\n",
    "plt.title(\"Number of Minutes Items against Number of Participants\\n\", fontsize=18)\n",
    "plt.savefig(\"PvsMI.png\", bboxgrid=\"tight\")\n",
    "plt.show()"
   ]
  },
  {
   "cell_type": "code",
   "execution_count": null,
   "metadata": {
    "scrolled": true
   },
   "outputs": [],
   "source": [
    "tc = mpd.groupby(mpd[\"Committee\"]).sum()\n",
    "tc"
   ]
  },
  {
   "cell_type": "code",
   "execution_count": null,
   "metadata": {},
   "outputs": [],
   "source": [
    "tc.index = ['TFOGS',\n",
    "         'Affirmative Action Commission', \n",
    "         'Alcohol License Review Committee',\n",
    "         'Alder Workgroup',\n",
    "         'Board of Codes and Appeals',\n",
    "         'Board of Park Commissioners', \n",
    "         'Board of Public Works',\n",
    "         'Body-Worn Camera Feasibility Review Committee', \n",
    "         'CDA Board',\n",
    "         'CDBG Committee', \n",
    "         'City-Wide Violence Meeting',\n",
    "         'Common Council Executive Committee',\n",
    "         'Community Development Authority Board',\n",
    "         'Community Development Block Grant Committee',\n",
    "         'Community Services Committee', \n",
    "         'Complete Count Committee',\n",
    "         'Deferred Compensation Committee', \n",
    "         'Downtown Coordinating Committee',\n",
    "         'Economic Development Committee', \n",
    "         'Equal Opportunities Commission',\n",
    "         'Finance Committee', \n",
    "         'Food Policy Council',\n",
    "         'Food Systems Recovery and Resilience Work Group',\n",
    "         'Housing Strategy Committee', \n",
    "         'Landlord and Tenant Issues Committee',\n",
    "         'Landmarks Commission', \n",
    "         'MATPB',\n",
    "         'MLK Commission',\n",
    "         'Madison Arts Commission',\n",
    "         'Madison Food Policy Council',\n",
    "         'Madison Public Library Board',\n",
    "         'MTCCCB', \n",
    "         'PSRC',\n",
    "         'Personnel Board', \n",
    "         'Plan Commission',\n",
    "         'Communication Tools & Processes',\n",
    "         'Public Safety Review Committee', \n",
    "         'Room Tax Commission',\n",
    "         'Sustainable Madison Committee',\n",
    "         'Task Force on Golf in Madison Parks',\n",
    "         'Traffic Calming Subcommittee',\n",
    "         'Transportation Commission',\n",
    "         'Transportation Policy and Planning Board',\n",
    "         'Urban Design Commission',\n",
    "         'Water Utility Board',\n",
    "         'Zoning Board of Appeals']"
   ]
  },
  {
   "cell_type": "code",
   "execution_count": null,
   "metadata": {
    "scrolled": true
   },
   "outputs": [],
   "source": [
    "tcd = tc.sort_values([\"# Agenda Items\", \"# Minutes Items\"],ascending=False)\n",
    "tcd"
   ]
  },
  {
   "cell_type": "code",
   "execution_count": null,
   "metadata": {
    "scrolled": true
   },
   "outputs": [],
   "source": [
    "plt.bar(tcd.index, tcd[\"# Agenda Items\"], label=\"# Agenda Items\")\n",
    "plt.bar(tcd.index, tcd[\"# Minutes Items\"], label=\"# Minutes Items\")\n",
    "plt.legend()\n",
    "plt.xticks(rotation=90)\n",
    "plt.ylabel(\"Number of Agenda Items and Minutes Items\", fontsize=14)\n",
    "plt.xlabel(\"Committee\", fontsize=14)\n",
    "plt.title(\"Committee Vs Number of Agenda Items and Minutes Items\", fontsize=20)\n",
    "#plt.savefig(\"\", bb)\n",
    "plt.show()"
   ]
  },
  {
   "cell_type": "code",
   "execution_count": null,
   "metadata": {
    "scrolled": true
   },
   "outputs": [],
   "source": [
    "tca = tc.sort_values([\"# Agenda Items\", \"# Minutes Items\"])\n",
    "tca"
   ]
  },
  {
   "cell_type": "code",
   "execution_count": null,
   "metadata": {
    "scrolled": true
   },
   "outputs": [],
   "source": [
    "plt.bar(tca.index, tca[\"# Agenda Items\"], label=\"# Agenda Items\")\n",
    "plt.bar(tca.index, tca[\"# Minutes Items\"], label=\"# Minutes Items\")\n",
    "plt.legend()\n",
    "plt.xticks(rotation=90)\n",
    "plt.ylabel(\"Number of Agenda Items and Minutes Items\", fontsize=14)\n",
    "plt.xlabel(\"Committee\", fontsize=14)\n",
    "plt.title(\"Committee Vs Number of Agenda Items and Minutes Items\", fontsize=20)\n",
    "plt.show()"
   ]
  },
  {
   "cell_type": "code",
   "execution_count": null,
   "metadata": {
    "scrolled": true
   },
   "outputs": [],
   "source": [
    "tm = mpd.groupby(mpd[\"Committee\"]).mean()\n",
    "tm"
   ]
  },
  {
   "cell_type": "code",
   "execution_count": null,
   "metadata": {},
   "outputs": [],
   "source": [
    "tm.index = ['TFOGS',\n",
    "         'Affirmative Action Commission', \n",
    "         'Alcohol License Review Committee',\n",
    "         'Alder Workgroup',\n",
    "         'Board of Codes and Appeals',\n",
    "         'Board of Park Commissioners', \n",
    "         'Board of Public Works',\n",
    "         'Body-Worn Camera Feasibility Review Committee', \n",
    "         'CDA Board',\n",
    "         'CDBG Committee', \n",
    "         'City-Wide Violence Meeting',\n",
    "         'Common Council Executive Committee',\n",
    "         'Community Development Authority Board',\n",
    "         'Community Development Block Grant Committee',\n",
    "         'Community Services Committee', \n",
    "         'Complete Count Committee',\n",
    "         'Deferred Compensation Committee', \n",
    "         'Downtown Coordinating Committee',\n",
    "         'Economic Development Committee', \n",
    "         'Equal Opportunities Commission',\n",
    "         'Finance Committee', \n",
    "         'Food Policy Council',\n",
    "         'Food Systems Recovery and Resilience Work Group',\n",
    "         'Housing Strategy Committee', \n",
    "         'Landlord and Tenant Issues Committee',\n",
    "         'Landmarks Commission', \n",
    "         'MATPB',\n",
    "         'MLK Commission',\n",
    "         'Madison Arts Commission',\n",
    "         'Madison Food Policy Council',\n",
    "         'Madison Public Library Board',\n",
    "         'MTCCCB', \n",
    "         'PSRC',\n",
    "         'Personnel Board', \n",
    "         'Plan Commission',\n",
    "         'Communication Tools & Processes',\n",
    "         'Public Safety Review Committee', \n",
    "         'Room Tax Commission',\n",
    "         'Sustainable Madison Committee',\n",
    "         'Task Force on Golf in Madison Parks',\n",
    "         'Traffic Calming Subcommittee',\n",
    "         'Transportation Commission',\n",
    "         'Transportation Policy and Planning Board',\n",
    "         'Urban Design Commission',\n",
    "         'Water Utility Board',\n",
    "         'Zoning Board of Appeals']"
   ]
  },
  {
   "cell_type": "code",
   "execution_count": null,
   "metadata": {
    "scrolled": true
   },
   "outputs": [],
   "source": [
    "tmd = tm.sort_values([\"# Agenda Items\", \"# Minutes Items\"],ascending=False)\n",
    "tmd"
   ]
  },
  {
   "cell_type": "code",
   "execution_count": null,
   "metadata": {
    "scrolled": true
   },
   "outputs": [],
   "source": [
    "plt.bar(tmd.index, tmd[\"# Agenda Items\"], label=\"# Agenda Items\")\n",
    "plt.bar(tmd.index, tmd[\"# Minutes Items\"], label=\"# Minutes Items\")\n",
    "#plt.bar(tmd.index, tmd[\"Hours\"], label=\"Duration in Hours\")\n",
    "plt.legend()\n",
    "plt.xticks(rotation=90)\n",
    "plt.ylabel(\"Number of Agenda Items and Minutes Items\", fontsize=14)\n",
    "plt.xlabel(\"Committee\", fontsize=14)\n",
    "plt.title(\"Committee Vs Number of Agenda Items and Minutes Items\", fontsize=20)\n",
    "plt.savefig(\"CAMItems.png\", bbox_inches = \"tight\")\n",
    "plt.show()"
   ]
  },
  {
   "cell_type": "code",
   "execution_count": null,
   "metadata": {
    "scrolled": true
   },
   "outputs": [],
   "source": [
    "tma = tm.sort_values([\"# Agenda Items\", \"# Minutes Items\"])\n",
    "tma"
   ]
  },
  {
   "cell_type": "code",
   "execution_count": null,
   "metadata": {
    "scrolled": true
   },
   "outputs": [],
   "source": [
    "# plt.bar(tma.index, tma[\"# Agenda Items\"], label=\"# Agenda Items\")\n",
    "# plt.bar(tma.index, tma[\"# Minutes Items\"], label=\"# Minutes Items\")\n",
    "# plt.legend()\n",
    "# plt.xticks(rotation=90)\n",
    "# plt.ylabel(\"Number of Agenda Items and Minutes Items\", fontsize=14)\n",
    "# plt.xlabel(\"Committee\", fontsize=14)\n",
    "# plt.title(\"Committee Vs Number of Agenda Items and Minutes Items\", fontsize=20)\n",
    "# plt.tight_layout()\n",
    "# plt.show()"
   ]
  },
  {
   "cell_type": "code",
   "execution_count": null,
   "metadata": {},
   "outputs": [],
   "source": [
    "plt.scatter(mpd[\"# Agenda Items\"], mpd[\"Hours\"])\n",
    "plt.xticks(rotation=90)\n",
    "plt.xlabel(\"Number of Agenda Items\", fontsize=16)\n",
    "plt.ylabel(\"Duration of the meeting in Hours\", fontsize=16)\n",
    "plt.title(\"Number of Agenda Items against Duration of Meeting\\n\", fontsize=18)\n",
    "plt.savefig(\"DvsAI.png\", bboxgrid=\"tight\")\n",
    "plt.show()"
   ]
  },
  {
   "cell_type": "code",
   "execution_count": null,
   "metadata": {},
   "outputs": [],
   "source": [
    "plt.scatter(mpd[\"# Agenda Items\"], mpd[\"Participants\"])\n",
    "plt.xticks(rotation=90)\n",
    "plt.xlabel(\"Number of Agenda Items\", fontsize=16)\n",
    "plt.ylabel(\"Number of Participants\", fontsize=16)\n",
    "plt.title(\"Number of Agenda Items against Number of Participants\\n\", fontsize=18)\n",
    "plt.savefig(\"PvsAI.png\", bboxgrid=\"tight\")\n",
    "plt.show()"
   ]
  },
  {
   "cell_type": "code",
   "execution_count": null,
   "metadata": {},
   "outputs": [],
   "source": [
    "x = mpd[\"# Agenda Items\"]\n",
    "q1_x = x.quantile(.25) \n",
    "q3_x = x.quantile(.75) \n",
    "iqr_x = q3_x - q1_x\n",
    "print(q1_x, q3_x, iqr_x)\n",
    "print(q1_x - (1.5*iqr_x), q3_x + (1.5*iqr_x))\n",
    "oai = x[x.between(q1_x - (1.5*iqr_x), q3_x + (1.5*iqr_x))] # without outliers\n",
    "oai"
   ]
  },
  {
   "cell_type": "code",
   "execution_count": null,
   "metadata": {},
   "outputs": [],
   "source": [
    "set(mpd.index) - set(oai.index)"
   ]
  },
  {
   "cell_type": "code",
   "execution_count": null,
   "metadata": {},
   "outputs": [],
   "source": [
    "age = mpd[mpd[\"# Agenda Items\"] > 31][[\"Committee\", \"Participants\", \"Duration\", \"# Agenda Items\"]]\n",
    "age"
   ]
  },
  {
   "cell_type": "code",
   "execution_count": null,
   "metadata": {},
   "outputs": [],
   "source": [
    "render_mpl_table(age, header_columns=0, col_width=6)\n",
    "plt.savefig(\"a_outliers.png\")"
   ]
  },
  {
   "cell_type": "code",
   "execution_count": null,
   "metadata": {},
   "outputs": [],
   "source": [
    "mpd.iloc[1]"
   ]
  },
  {
   "cell_type": "code",
   "execution_count": null,
   "metadata": {},
   "outputs": [],
   "source": [
    "#print(oai.index.values)\n",
    "mpdri = mpd.take(oai.index.values)\n",
    "mpdri"
   ]
  },
  {
   "cell_type": "code",
   "execution_count": null,
   "metadata": {},
   "outputs": [],
   "source": [
    "plt.scatter(mpdri[\"# Agenda Items\"], mpdri[\"Hours\"])\n",
    "plt.xticks(rotation=90)\n",
    "plt.xlabel(\"Number of Agenda Items\", fontsize=16)\n",
    "plt.ylabel(\"Number of Participants\", fontsize=16)\n",
    "plt.title(\"Number of Agenda Items against Number of Participants\\n\", fontsize=18)\n",
    "plt.savefig(\"PvsAI.png\", bboxgrid=\"tight\")\n",
    "plt.show()"
   ]
  },
  {
   "cell_type": "code",
   "execution_count": null,
   "metadata": {
    "scrolled": true
   },
   "outputs": [],
   "source": [
    "plt.scatter(mpdri[\"# Agenda Items\"], mpdri[\"Participants\"])\n",
    "plt.xticks(rotation=90)\n",
    "plt.xlabel(\"Number of Agenda Items\", fontsize=16)\n",
    "plt.ylabel(\"Number of Participants\", fontsize=16)\n",
    "plt.title(\"Number of Agenda Items against Number of Participants\\n\", fontsize=18)\n",
    "plt.savefig(\"PvsAI.png\", bboxgrid=\"tight\")\n",
    "plt.show()"
   ]
  },
  {
   "cell_type": "code",
   "execution_count": null,
   "metadata": {},
   "outputs": [],
   "source": [
    "mpdri = mpdri.reset_index()"
   ]
  },
  {
   "cell_type": "code",
   "execution_count": null,
   "metadata": {},
   "outputs": [],
   "source": [
    "y = mpdri[\"Participants\"]\n",
    "q1_y = y.quantile(.25) \n",
    "q3_y = y.quantile(.75) \n",
    "iqr_y = q3_y - q1_y\n",
    "print(q1_y, q3_y, iqr_y)\n",
    "print(q1_y - (1.5*iqr_y), q3_y + (1.5*iqr_y))\n",
    "op = y[y.between(q1_y - (1.5*iqr_y), q3_y + (1.5*iqr_y))] # without outliers\n",
    "op"
   ]
  },
  {
   "cell_type": "code",
   "execution_count": null,
   "metadata": {},
   "outputs": [],
   "source": [
    "set(mpdri.index) - set(op.index)"
   ]
  },
  {
   "cell_type": "code",
   "execution_count": null,
   "metadata": {},
   "outputs": [],
   "source": [
    "ag = mpdri[mpdri.Participants > 111][[\"Committee\", \"Participants\", \"Duration\", \"# Agenda Items\"]]\n",
    "ag"
   ]
  },
  {
   "cell_type": "code",
   "execution_count": null,
   "metadata": {
    "scrolled": true
   },
   "outputs": [],
   "source": [
    "import matplotlib.pyplot as plt\n",
    "import pandas as pd\n",
    "from pandas.plotting import table # EDIT: see deprecation warnings below\n",
    "\n",
    "ax = plt.subplot(111, frame_on=False) # no visible frame\n",
    "ax.xaxis.set_visible(False)  # hide the x axis\n",
    "ax.yaxis.set_visible(False)  # hide the y axis\n",
    "\n",
    "table(ax, ag)  # where df is your data frame\n",
    "\n",
    "plt.savefig('agendaoutliers.png', bboxgrid=\"tight\")"
   ]
  },
  {
   "cell_type": "code",
   "execution_count": null,
   "metadata": {},
   "outputs": [],
   "source": [
    "import six\n",
    "def render_mpl_table(data, col_width=5.0, row_height=0.625, font_size=14,\n",
    "                     header_color='#40466e', row_colors=['#f1f1f2', 'w'], edge_color='w',\n",
    "                     bbox=[0, 0, 1, 1], header_columns=0,\n",
    "                     ax=None, **kwargs):\n",
    "    if ax is None:\n",
    "        size = (np.array(data.shape[::-1]) + np.array([0, 1])) * np.array([col_width, row_height])\n",
    "        fig, ax = plt.subplots(figsize=size)\n",
    "        ax.axis('off')\n",
    "\n",
    "    mpl_table = ax.table(cellText=data.values, bbox=bbox, colLabels=data.columns, **kwargs)\n",
    "\n",
    "    mpl_table.auto_set_font_size(False)\n",
    "    mpl_table.set_fontsize(font_size)\n",
    "\n",
    "    for k, cell in six.iteritems(mpl_table._cells):\n",
    "        cell.set_edgecolor(edge_color)\n",
    "        if k[0] == 0 or k[1] < header_columns:\n",
    "            cell.set_text_props(weight='bold', color='w')\n",
    "            cell.set_facecolor(header_color)\n",
    "        else:\n",
    "            cell.set_facecolor(row_colors[k[0]%len(row_colors) ])\n",
    "    return ax"
   ]
  },
  {
   "cell_type": "code",
   "execution_count": null,
   "metadata": {},
   "outputs": [],
   "source": [
    "render_mpl_table(ag, header_columns=0, col_width=4.5)\n",
    "plt.savefig(\"p_outliers.png\")"
   ]
  },
  {
   "cell_type": "code",
   "execution_count": null,
   "metadata": {},
   "outputs": [],
   "source": [
    "#print(op.index.values)\n",
    "mpdrip = mpdri.take(op.index.values)\n",
    "mpdrip"
   ]
  },
  {
   "cell_type": "code",
   "execution_count": null,
   "metadata": {},
   "outputs": [],
   "source": [
    "plt.scatter(mpdrip[\"# Agenda Items\"], mpdrip[\"Participants\"])\n",
    "plt.xticks(rotation=90)\n",
    "plt.xlabel(\"Number of Agenda Items\", fontsize=16)\n",
    "plt.ylabel(\"Number of Participants\", fontsize=16)\n",
    "plt.title(\"Number of Agenda Items against Number of Participants\\n\", fontsize=18)\n",
    "plt.savefig(\"PvsAI2.png\", bboxgrid=\"tight\")\n",
    "plt.show()"
   ]
  },
  {
   "cell_type": "code",
   "execution_count": null,
   "metadata": {
    "scrolled": true
   },
   "outputs": [],
   "source": [
    "y = mpdri[\"Hours\"]\n",
    "q1_y = y.quantile(.25) \n",
    "q3_y = y.quantile(.75) \n",
    "iqr_y = q3_y - q1_y\n",
    "print(q1_y, q3_y, iqr_y)\n",
    "print(q1_y - (1.5*iqr_y), q3_y + (1.5*iqr_y))\n",
    "oh = y[y.between(q1_y - (1.5*iqr_y), q3_y + (1.5*iqr_y))] # without outliers\n",
    "oh"
   ]
  },
  {
   "cell_type": "code",
   "execution_count": null,
   "metadata": {},
   "outputs": [],
   "source": [
    "set(mpdri.index) - set(oh.index)"
   ]
  },
  {
   "cell_type": "code",
   "execution_count": null,
   "metadata": {},
   "outputs": [],
   "source": [
    "ho = mpdri[mpdri.Hours > 6.4][[\"Committee\", \"Participants\", \"Duration\", \"# Agenda Items\"]]\n",
    "ho"
   ]
  },
  {
   "cell_type": "code",
   "execution_count": null,
   "metadata": {},
   "outputs": [],
   "source": [
    "render_mpl_table(ho, header_columns=0, col_width=4)\n",
    "plt.savefig(\"h_outliers.png\")"
   ]
  },
  {
   "cell_type": "code",
   "execution_count": null,
   "metadata": {},
   "outputs": [],
   "source": [
    "mpdri.iloc[9]"
   ]
  },
  {
   "cell_type": "code",
   "execution_count": null,
   "metadata": {},
   "outputs": [],
   "source": [
    "set(mpdri.index) - set(oh.index), set(mpdri.index) - set(op.index)"
   ]
  },
  {
   "cell_type": "code",
   "execution_count": null,
   "metadata": {},
   "outputs": [],
   "source": [
    "#print(op.index.values)\n",
    "mpdrih = mpdri.take(oh.index.values)\n",
    "mpdrih"
   ]
  },
  {
   "cell_type": "code",
   "execution_count": null,
   "metadata": {},
   "outputs": [],
   "source": [
    "plt.scatter(mpdrih[\"# Agenda Items\"], mpdrih[\"Hours\"])\n",
    "plt.xticks(rotation=90)\n",
    "plt.xlabel(\"Number of Agenda Items\", fontsize=16)\n",
    "plt.ylabel(\"Duration Hours\", fontsize=16)\n",
    "plt.title(\"Number of Agenda Items against Duration Hours\\n\", fontsize=18)\n",
    "plt.savefig(\"DvsAI2.png\", bboxgrid=\"tight\")\n",
    "plt.show()"
   ]
  },
  {
   "cell_type": "code",
   "execution_count": null,
   "metadata": {},
   "outputs": [],
   "source": [
    "ih1 = np.polyfit(mpdrih[\"# Agenda Items\"], mpdrih[\"Hours\"], 1, rcond=None, full=False)\n",
    "ih1"
   ]
  },
  {
   "cell_type": "code",
   "execution_count": null,
   "metadata": {},
   "outputs": [],
   "source": [
    "eh1 = np.sum((np.polyval(np.polyfit(mpdrih[\"# Agenda Items\"], mpdrih[\"Hours\"], 1), mpdrih[\"# Agenda Items\"]) - mpdrih[\"Hours\"])**2)\n",
    "eh1/len(mpdrih[\"# Agenda Items\"])"
   ]
  },
  {
   "cell_type": "code",
   "execution_count": null,
   "metadata": {},
   "outputs": [],
   "source": [
    "ih2 = np.polyfit(mpdrih[\"# Agenda Items\"], mpdrih[\"Hours\"], 2, rcond=None, full=False)\n",
    "ih2"
   ]
  },
  {
   "cell_type": "code",
   "execution_count": null,
   "metadata": {},
   "outputs": [],
   "source": [
    "eh2 = np.sum((np.polyval(np.polyfit(mpdrih[\"# Agenda Items\"], mpdrih[\"Hours\"], 2), mpdrih[\"# Agenda Items\"]) - mpdrih[\"Hours\"])**2)\n",
    "eh2/len(mpdrih[\"# Agenda Items\"])"
   ]
  },
  {
   "cell_type": "code",
   "execution_count": null,
   "metadata": {},
   "outputs": [],
   "source": [
    "ih3 = np.polyfit(mpdrih[\"# Agenda Items\"], mpdrih[\"Hours\"], 3, rcond=None, full=False)\n",
    "ih3"
   ]
  },
  {
   "cell_type": "code",
   "execution_count": null,
   "metadata": {},
   "outputs": [],
   "source": [
    "eh3 = np.sum((np.polyval(np.polyfit(mpdrih[\"# Agenda Items\"], mpdrih[\"Hours\"], 3), mpdrih[\"# Agenda Items\"]) - mpdrih[\"Hours\"])**2)\n",
    "eh3/len(mpdrih[\"# Agenda Items\"])"
   ]
  },
  {
   "cell_type": "code",
   "execution_count": null,
   "metadata": {},
   "outputs": [],
   "source": [
    "fig, ax = plt.subplots(figsize = (10,6))\n",
    "mpdrih.plot.scatter(y='Hours', x=\"# Agenda Items\", ax=ax, color='purple')\n",
    "x = np.arange(0.1, 35, 0.5)\n",
    "trendpoly = np.poly1d(ih2) \n",
    "plt.plot(x,trendpoly(x))\n",
    "#plt.plot(X, lr.predict(get_xterms(x)), color='r')\n",
    "#ax.set_ylabel(\"Average Meeting Duration in Hours\", fontsize=16)\n",
    "#ax.set_xlabel(\"Average Number of Meeting Participants\", fontsize=16)\n",
    "ax.spines['right'].set_visible(False)\n",
    "ax.spines['top'].set_visible(False)\n",
    "#ax.set_title('Average Number of Participants by \\nAverage Meeting Duration in Hours for each Committee\\n', fontsize=20)\n",
    "#plt.savefig(\"PvsD2.png\", bbox_inches = \"tight\")\n",
    "None"
   ]
  },
  {
   "cell_type": "code",
   "execution_count": null,
   "metadata": {},
   "outputs": [],
   "source": [
    "# Function to calculate the power-law with constants a and b\n",
    "def power_law(x, a, b):\n",
    "    return a*np.power(x, b)"
   ]
  },
  {
   "cell_type": "code",
   "execution_count": null,
   "metadata": {},
   "outputs": [],
   "source": [
    "pars, cov = curve_fit(f=power_law, xdata=mpdrih[\"# Agenda Items\"].values, ydata=mpdrih[\"Hours\"].values, p0=[0, 0], bounds=(-np.inf, np.inf))\n",
    "pars, cov"
   ]
  },
  {
   "cell_type": "code",
   "execution_count": null,
   "metadata": {},
   "outputs": [],
   "source": [
    "l = []\n",
    "for i in range(mpdrih[\"# Agenda Items\"].shape[0]):\n",
    "    val = power_law(mpdrih.iloc[i][\"# Agenda Items\"], pars[0], pars[1])\n",
    "    l.append(val)"
   ]
  },
  {
   "cell_type": "code",
   "execution_count": null,
   "metadata": {},
   "outputs": [],
   "source": [
    "ep = np.sum((l - mpdrih[\"Hours\"].values) **2)\n",
    "ep/len(mpdrih[\"# Agenda Items\"])"
   ]
  },
  {
   "cell_type": "code",
   "execution_count": null,
   "metadata": {},
   "outputs": [],
   "source": [
    "fig, ax = plt.subplots(figsize = (10,6))\n",
    "mpdrih.plot.scatter(y='Hours', x=\"# Agenda Items\", ax=ax, color='purple')\n",
    "x = np.arange(0.1, 35, 0.5)\n",
    "plt.plot(x, power_law(x, *pars))"
   ]
  },
  {
   "cell_type": "code",
   "execution_count": null,
   "metadata": {},
   "outputs": [],
   "source": [
    "ip1 = np.polyfit(mpdrip[\"# Agenda Items\"], mpdrip[\"Participants\"], 1, rcond=None, full=False)\n",
    "ip1"
   ]
  },
  {
   "cell_type": "code",
   "execution_count": null,
   "metadata": {},
   "outputs": [],
   "source": [
    "ip2 = np.polyfit(mpdrip[\"# Agenda Items\"], mpdrip[\"Participants\"], 2, rcond=None, full=False)\n",
    "ip2"
   ]
  },
  {
   "cell_type": "code",
   "execution_count": null,
   "metadata": {},
   "outputs": [],
   "source": [
    "ip3 = np.polyfit(mpdrip[\"# Agenda Items\"], mpdrip[\"Participants\"], 3, rcond=None, full=False)\n",
    "ip3"
   ]
  },
  {
   "cell_type": "code",
   "execution_count": null,
   "metadata": {},
   "outputs": [],
   "source": [
    "ip4 = np.polyfit(mpdrip[\"# Agenda Items\"], mpdrip[\"Participants\"], 4, rcond=None, full=False)\n",
    "ip4"
   ]
  },
  {
   "cell_type": "code",
   "execution_count": null,
   "metadata": {},
   "outputs": [],
   "source": [
    "ip5 = np.polyfit(mpdrip[\"# Agenda Items\"], mpdrip[\"Participants\"], 5, rcond=None, full=False)\n",
    "ip5"
   ]
  },
  {
   "cell_type": "code",
   "execution_count": null,
   "metadata": {},
   "outputs": [],
   "source": [
    "ep1 = np.sum((np.polyval(np.polyfit(mpdrip[\"# Agenda Items\"], mpdrip[\"Participants\"], 1), mpdrip[\"# Agenda Items\"]) - mpdrip[\"Participants\"])**2)\n",
    "ep1/len(mpdrip[\"# Agenda Items\"])"
   ]
  },
  {
   "cell_type": "code",
   "execution_count": null,
   "metadata": {},
   "outputs": [],
   "source": [
    "ep2 = np.sum((np.polyval(np.polyfit(mpdrip[\"# Agenda Items\"], mpdrip[\"Participants\"], 2), mpdrip[\"# Agenda Items\"]) - mpdrip[\"Participants\"])**2)\n",
    "ep2/len(mpdrip[\"# Agenda Items\"])"
   ]
  },
  {
   "cell_type": "code",
   "execution_count": null,
   "metadata": {},
   "outputs": [],
   "source": [
    "ep3 = np.sum((np.polyval(np.polyfit(mpdrip[\"# Agenda Items\"], mpdrip[\"Participants\"], 3), mpdrip[\"# Agenda Items\"]) - mpdrip[\"Participants\"])**2)\n",
    "ep3/len(mpdrip[\"# Agenda Items\"])"
   ]
  },
  {
   "cell_type": "code",
   "execution_count": null,
   "metadata": {},
   "outputs": [],
   "source": [
    "ep4 = np.sum((np.polyval(np.polyfit(mpdrip[\"# Agenda Items\"], mpdrip[\"Participants\"], 4), mpdrip[\"# Agenda Items\"]) - mpdrip[\"Participants\"])**2)\n",
    "ep4/len(mpdrip[\"# Agenda Items\"])"
   ]
  },
  {
   "cell_type": "code",
   "execution_count": null,
   "metadata": {},
   "outputs": [],
   "source": [
    "ep5 = np.sum((np.polyval(np.polyfit(mpdrip[\"# Agenda Items\"], mpdrip[\"Participants\"], 5), mpdrip[\"# Agenda Items\"]) - mpdrip[\"Participants\"])**2)\n",
    "ep5/len(mpdrip[\"# Agenda Items\"])"
   ]
  },
  {
   "cell_type": "code",
   "execution_count": null,
   "metadata": {},
   "outputs": [],
   "source": [
    "fig, ax = plt.subplots(figsize = (10,6))\n",
    "mpdrip.plot.scatter(y='Participants', x=\"# Agenda Items\", ax=ax, color='purple')\n",
    "x = np.arange(0.1, 35, 0.5)\n",
    "trendpoly = np.poly1d(ip3) \n",
    "plt.plot(x,trendpoly(x))\n",
    "#plt.plot(X, lr.predict(get_xterms(x)), color='r')\n",
    "#ax.set_ylabel(\"Average Meeting Duration in Hours\", fontsize=16)\n",
    "#ax.set_xlabel(\"Average Number of Meeting Participants\", fontsize=16)\n",
    "ax.spines['right'].set_visible(False)\n",
    "ax.spines['top'].set_visible(False)\n",
    "#ax.set_title('Average Number of Participants by \\nAverage Meeting Duration in Hours for each Committee\\n', fontsize=20)\n",
    "#plt.savefig(\"PvsD2.png\", bbox_inches = \"tight\")\n",
    "None"
   ]
  },
  {
   "cell_type": "code",
   "execution_count": null,
   "metadata": {},
   "outputs": [],
   "source": [
    "pars2, cov2 = curve_fit(f=power_law, xdata=mpdrip[\"# Agenda Items\"].values, ydata=mpdrip[\"Participants\"].values, p0=[0, 0], bounds=(-np.inf, np.inf))\n",
    "pars2, cov2"
   ]
  },
  {
   "cell_type": "code",
   "execution_count": null,
   "metadata": {},
   "outputs": [],
   "source": [
    "ll = []\n",
    "for i in range(mpdrip[\"# Agenda Items\"].shape[0]):\n",
    "    val = power_law(mpdrip.iloc[i][\"# Agenda Items\"], pars[0], pars[1])\n",
    "    ll.append(val)"
   ]
  },
  {
   "cell_type": "code",
   "execution_count": null,
   "metadata": {},
   "outputs": [],
   "source": [
    "eh = np.sum((ll - mpdrip[\"Participants\"].values) **2)\n",
    "eh/len(mpdrip[\"# Agenda Items\"])"
   ]
  },
  {
   "cell_type": "code",
   "execution_count": null,
   "metadata": {},
   "outputs": [],
   "source": []
  }
 ],
 "metadata": {
  "kernelspec": {
   "display_name": "Python 3",
   "language": "python",
   "name": "python3"
  },
  "language_info": {
   "codemirror_mode": {
    "name": "ipython",
    "version": 3
   },
   "file_extension": ".py",
   "mimetype": "text/x-python",
   "name": "python",
   "nbconvert_exporter": "python",
   "pygments_lexer": "ipython3",
   "version": "3.8.1"
  }
 },
 "nbformat": 4,
 "nbformat_minor": 4
}
