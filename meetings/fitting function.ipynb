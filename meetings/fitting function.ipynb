{
 "cells": [
  {
   "cell_type": "code",
   "execution_count": 1,
   "metadata": {},
   "outputs": [],
   "source": [
    "import pandas as pd\n",
    "from pandas import DataFrame, Series\n",
    "from matplotlib.lines import Line2D\n",
    "import PyPDF2\n",
    "from PyPDF2 import PdfFileReader\n",
    "import math\n",
    "import requests\n",
    "import regex as re\n",
    "import datetime\n",
    "import matplotlib \n",
    "from matplotlib import pyplot as plt\n",
    "from sklearn import linear_model\n",
    "from sklearn.linear_model import LinearRegression\n",
    "import numpy as np\n",
    "from datetime import datetime"
   ]
  },
  {
   "cell_type": "code",
   "execution_count": 2,
   "metadata": {},
   "outputs": [],
   "source": [
    "plt.rcParams['font.size']=13"
   ]
  },
  {
   "cell_type": "code",
   "execution_count": 3,
   "metadata": {},
   "outputs": [],
   "source": [
    "meeting = DataFrame(pd.read_csv(\"Board Committee Commission Meeting Data.csv\"))\n",
    "agendas = meeting['Agenda_Link']\n",
    "notes = meeting['Minutes_Link']"
   ]
  },
  {
   "cell_type": "code",
   "execution_count": 4,
   "metadata": {},
   "outputs": [
    {
     "name": "stderr",
     "output_type": "stream",
     "text": [
      "<ipython-input-4-77a6d85d7f34>:3: SettingWithCopyWarning: \n",
      "A value is trying to be set on a copy of a slice from a DataFrame\n",
      "\n",
      "See the caveats in the documentation: https://pandas.pydata.org/pandas-docs/stable/user_guide/indexing.html#returning-a-view-versus-a-copy\n",
      "  meeting['Meeting_ID'][i] = new\n"
     ]
    }
   ],
   "source": [
    "for i in range(len(meeting)):\n",
    "    new = re.sub(r\"\\s\", \"\", meeting['Meeting_ID'][i])\n",
    "    meeting['Meeting_ID'][i] = new"
   ]
  },
  {
   "cell_type": "code",
   "execution_count": 5,
   "metadata": {},
   "outputs": [],
   "source": [
    "meeting['Duration_minutes'] = meeting['Duration'] #copy a column so that I have one to replace with the cell below"
   ]
  },
  {
   "cell_type": "code",
   "execution_count": 6,
   "metadata": {},
   "outputs": [],
   "source": [
    "for i in range(len(meeting['Duration'])):\n",
    "    time = re.split(':',meeting['Duration'][i])\n",
    "    time = [int(x) for x in time]\n",
    "    seconds = time[0]*60 + time[1] + time[2]/60\n",
    "    meeting.iloc[i,10] = seconds"
   ]
  },
  {
   "cell_type": "code",
   "execution_count": 36,
   "metadata": {},
   "outputs": [],
   "source": [
    "def get_xterms(x):\n",
    "    t = pd.DataFrame({\"x\":x})\n",
    "    t=t.astype('float')\n",
    "    t['2^x'] = 2**(t['x'])\n",
    "    t['e^x'] = np.exp(t['x'])\n",
    "    return t"
   ]
  },
  {
   "cell_type": "code",
   "execution_count": 37,
   "metadata": {
    "scrolled": false
   },
   "outputs": [
    {
     "data": {
      "text/html": [
       "<div>\n",
       "<style scoped>\n",
       "    .dataframe tbody tr th:only-of-type {\n",
       "        vertical-align: middle;\n",
       "    }\n",
       "\n",
       "    .dataframe tbody tr th {\n",
       "        vertical-align: top;\n",
       "    }\n",
       "\n",
       "    .dataframe thead th {\n",
       "        text-align: right;\n",
       "    }\n",
       "</style>\n",
       "<table border=\"1\" class=\"dataframe\">\n",
       "  <thead>\n",
       "    <tr style=\"text-align: right;\">\n",
       "      <th></th>\n",
       "      <th>x</th>\n",
       "      <th>2^x</th>\n",
       "      <th>e^x</th>\n",
       "    </tr>\n",
       "  </thead>\n",
       "  <tbody>\n",
       "    <tr>\n",
       "      <th>0</th>\n",
       "      <td>167.916667</td>\n",
       "      <td>3.531453e+50</td>\n",
       "      <td>8.419412e+72</td>\n",
       "    </tr>\n",
       "    <tr>\n",
       "      <th>1</th>\n",
       "      <td>588.600000</td>\n",
       "      <td>1.535520e+177</td>\n",
       "      <td>4.224079e+255</td>\n",
       "    </tr>\n",
       "    <tr>\n",
       "      <th>2</th>\n",
       "      <td>129.000000</td>\n",
       "      <td>6.805647e+38</td>\n",
       "      <td>1.056789e+56</td>\n",
       "    </tr>\n",
       "    <tr>\n",
       "      <th>3</th>\n",
       "      <td>176.133333</td>\n",
       "      <td>1.050550e+53</td>\n",
       "      <td>3.116985e+76</td>\n",
       "    </tr>\n",
       "    <tr>\n",
       "      <th>4</th>\n",
       "      <td>278.900000</td>\n",
       "      <td>9.062871e+83</td>\n",
       "      <td>1.332696e+121</td>\n",
       "    </tr>\n",
       "    <tr>\n",
       "      <th>...</th>\n",
       "      <td>...</td>\n",
       "      <td>...</td>\n",
       "      <td>...</td>\n",
       "    </tr>\n",
       "    <tr>\n",
       "      <th>150</th>\n",
       "      <td>150.833333</td>\n",
       "      <td>2.543066e+45</td>\n",
       "      <td>3.206892e+65</td>\n",
       "    </tr>\n",
       "    <tr>\n",
       "      <th>151</th>\n",
       "      <td>248.483333</td>\n",
       "      <td>6.323198e+74</td>\n",
       "      <td>8.221300e+107</td>\n",
       "    </tr>\n",
       "    <tr>\n",
       "      <th>152</th>\n",
       "      <td>148.183333</td>\n",
       "      <td>4.051615e+44</td>\n",
       "      <td>2.265708e+64</td>\n",
       "    </tr>\n",
       "    <tr>\n",
       "      <th>153</th>\n",
       "      <td>169.450000</td>\n",
       "      <td>1.022193e+51</td>\n",
       "      <td>3.901216e+73</td>\n",
       "    </tr>\n",
       "    <tr>\n",
       "      <th>154</th>\n",
       "      <td>110.783333</td>\n",
       "      <td>2.234119e+33</td>\n",
       "      <td>1.295956e+48</td>\n",
       "    </tr>\n",
       "  </tbody>\n",
       "</table>\n",
       "<p>155 rows × 3 columns</p>\n",
       "</div>"
      ],
      "text/plain": [
       "              x            2^x            e^x\n",
       "0    167.916667   3.531453e+50   8.419412e+72\n",
       "1    588.600000  1.535520e+177  4.224079e+255\n",
       "2    129.000000   6.805647e+38   1.056789e+56\n",
       "3    176.133333   1.050550e+53   3.116985e+76\n",
       "4    278.900000   9.062871e+83  1.332696e+121\n",
       "..          ...            ...            ...\n",
       "150  150.833333   2.543066e+45   3.206892e+65\n",
       "151  248.483333   6.323198e+74  8.221300e+107\n",
       "152  148.183333   4.051615e+44   2.265708e+64\n",
       "153  169.450000   1.022193e+51   3.901216e+73\n",
       "154  110.783333   2.234119e+33   1.295956e+48\n",
       "\n",
       "[155 rows x 3 columns]"
      ]
     },
     "execution_count": 37,
     "metadata": {},
     "output_type": "execute_result"
    }
   ],
   "source": [
    "get_xterms(meeting['Duration_minutes'])"
   ]
  },
  {
   "cell_type": "code",
   "execution_count": null,
   "metadata": {},
   "outputs": [],
   "source": []
  }
 ],
 "metadata": {
  "kernelspec": {
   "display_name": "Python 3",
   "language": "python",
   "name": "python3"
  },
  "language_info": {
   "codemirror_mode": {
    "name": "ipython",
    "version": 3
   },
   "file_extension": ".py",
   "mimetype": "text/x-python",
   "name": "python",
   "nbconvert_exporter": "python",
   "pygments_lexer": "ipython3",
   "version": "3.8.1"
  }
 },
 "nbformat": 4,
 "nbformat_minor": 4
}
