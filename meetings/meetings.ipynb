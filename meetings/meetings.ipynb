{
 "cells": [
  {
   "cell_type": "code",
   "execution_count": null,
   "metadata": {},
   "outputs": [],
   "source": [
    "plt.rcParams['font.size']=16"
   ]
  },
  {
   "cell_type": "code",
   "execution_count": 1,
   "metadata": {},
   "outputs": [],
   "source": [
    "# import nltk\n",
    "# import ssl\n",
    "\n",
    "# try:\n",
    "#     _create_unverified_https_context = ssl._create_unverified_context\n",
    "# except AttributeError:\n",
    "#     pass\n",
    "# else:\n",
    "#     ssl._create_default_https_context = _create_unverified_https_context\n",
    "\n",
    "# nltk.download()"
   ]
  },
  {
   "cell_type": "code",
   "execution_count": 2,
   "metadata": {},
   "outputs": [],
   "source": [
    "import pandas as pd\n",
    "from pandas import DataFrame, Series\n",
    "import PyPDF2\n",
    "from PyPDF2 import PdfFileReader\n",
    "import math\n",
    "import requests\n",
    "import regex as re\n",
    "import datetime\n",
    "import matplotlib \n",
    "from matplotlib import pyplot as plt\n",
    "from sklearn import linear_model\n",
    "from sklearn.linear_model import LinearRegression\n",
    "import numpy as np\n",
    "from datetime import datetime"
   ]
  },
  {
   "cell_type": "code",
   "execution_count": 3,
   "metadata": {},
   "outputs": [],
   "source": [
    "meeting = DataFrame(pd.read_csv(\"Board Committee Commission Meeting Data.csv\"))\n",
    "agendas = meeting['Agenda_Link']\n",
    "notes = meeting['Minutes_Link']"
   ]
  },
  {
   "cell_type": "code",
   "execution_count": 4,
   "metadata": {
    "scrolled": true
   },
   "outputs": [
    {
     "name": "stderr",
     "output_type": "stream",
     "text": [
      "<ipython-input-4-77a6d85d7f34>:3: SettingWithCopyWarning: \n",
      "A value is trying to be set on a copy of a slice from a DataFrame\n",
      "\n",
      "See the caveats in the documentation: https://pandas.pydata.org/pandas-docs/stable/user_guide/indexing.html#returning-a-view-versus-a-copy\n",
      "  meeting['Meeting_ID'][i] = new\n"
     ]
    }
   ],
   "source": [
    "for i in range(len(meeting)):\n",
    "    new = re.sub(r\"\\s\", \"\", meeting['Meeting_ID'][i])\n",
    "    meeting['Meeting_ID'][i] = new"
   ]
  },
  {
   "cell_type": "markdown",
   "metadata": {},
   "source": [
    "download **agenda** pdfs with the request module"
   ]
  },
  {
   "cell_type": "code",
   "execution_count": 5,
   "metadata": {},
   "outputs": [],
   "source": [
    "# for i, url in enumerate(agendas):\n",
    "#     try:\n",
    "#         r = requests.get(url)\n",
    "#         r.raise_for_status()\n",
    "#     except Exception:\n",
    "#         continue\n",
    "#     text = \"pdf_agendas/{}.pdf\"\n",
    "#     with open(text.format(meeting.iloc[i,0]),'wb') as f:\n",
    "#         f.write(r.content)"
   ]
  },
  {
   "cell_type": "markdown",
   "metadata": {},
   "source": [
    "download **notes** pdfs with the request module"
   ]
  },
  {
   "cell_type": "code",
   "execution_count": 6,
   "metadata": {},
   "outputs": [],
   "source": [
    "# for i, url in enumerate(notes):\n",
    "#     try:\n",
    "#         r = requests.get(url)\n",
    "#         r.raise_for_status()\n",
    "#     except Exception:\n",
    "#         continue\n",
    "#     text = \"pdf_notes/{}.pdf\"\n",
    "#     with open(text.format(meeting.iloc[i,0]),'wb') as f:\n",
    "#         f.write(r.content)"
   ]
  },
  {
   "cell_type": "code",
   "execution_count": 7,
   "metadata": {},
   "outputs": [],
   "source": [
    "meeting['Duration_minutes'] = meeting['Duration'] #copy a column so that I have one to replace with the cell below"
   ]
  },
  {
   "cell_type": "code",
   "execution_count": 8,
   "metadata": {},
   "outputs": [],
   "source": [
    "for i in range(len(meeting['Duration'])):\n",
    "    time = re.split(':',meeting['Duration'][i])\n",
    "    time = [int(x) for x in time]\n",
    "    seconds = time[0]*60 + time[1] + time[0]/60\n",
    "    meeting.iloc[i,10] = seconds"
   ]
  },
  {
   "cell_type": "code",
   "execution_count": 9,
   "metadata": {},
   "outputs": [
    {
     "data": {
      "text/html": [
       "<div>\n",
       "<style scoped>\n",
       "    .dataframe tbody tr th:only-of-type {\n",
       "        vertical-align: middle;\n",
       "    }\n",
       "\n",
       "    .dataframe tbody tr th {\n",
       "        vertical-align: top;\n",
       "    }\n",
       "\n",
       "    .dataframe thead th {\n",
       "        text-align: right;\n",
       "    }\n",
       "</style>\n",
       "<table border=\"1\" class=\"dataframe\">\n",
       "  <thead>\n",
       "    <tr style=\"text-align: right;\">\n",
       "      <th></th>\n",
       "      <th>Meeting_ID</th>\n",
       "      <th>Topic</th>\n",
       "      <th>Scheduled_Start_Time</th>\n",
       "      <th>Zoom_Meeting_Start_Time</th>\n",
       "      <th>Zoom_Meeting_End_Time</th>\n",
       "      <th>Duration</th>\n",
       "      <th>Participants</th>\n",
       "      <th>Recording</th>\n",
       "      <th>Agenda_Link</th>\n",
       "      <th>Minutes_Link</th>\n",
       "      <th>Duration_minutes</th>\n",
       "    </tr>\n",
       "  </thead>\n",
       "  <tbody>\n",
       "    <tr>\n",
       "      <th>0</th>\n",
       "      <td>954410442</td>\n",
       "      <td>CCEC</td>\n",
       "      <td>4:30:00 PM</td>\n",
       "      <td>3/31/2020 15:40</td>\n",
       "      <td>6:27 PM</td>\n",
       "      <td>2:47:55</td>\n",
       "      <td>52</td>\n",
       "      <td>Yes</td>\n",
       "      <td>https://madison.legistar.com/View.ashx?M=A&amp;ID=...</td>\n",
       "      <td>https://madison.legistar.com/View.ashx?M=M&amp;ID=...</td>\n",
       "      <td>167.033</td>\n",
       "    </tr>\n",
       "    <tr>\n",
       "      <th>1</th>\n",
       "      <td>531697510</td>\n",
       "      <td>Common Council</td>\n",
       "      <td>6:30:00 PM</td>\n",
       "      <td>3/31/2020 17:04</td>\n",
       "      <td>02:53 AM(Next day)</td>\n",
       "      <td>9:48:36</td>\n",
       "      <td>337</td>\n",
       "      <td>Yes</td>\n",
       "      <td>https://madison.legistar.com/View.ashx?M=A&amp;ID=...</td>\n",
       "      <td>https://madison.legistar.com/View.ashx?M=M&amp;ID=...</td>\n",
       "      <td>588.15</td>\n",
       "    </tr>\n",
       "    <tr>\n",
       "      <th>2</th>\n",
       "      <td>411578576</td>\n",
       "      <td>Finance Committee: Meeting of April 6, 2020</td>\n",
       "      <td>4:30:00 PM</td>\n",
       "      <td>4/6/2020 15:40</td>\n",
       "      <td>5:49 PM</td>\n",
       "      <td>2:09:00</td>\n",
       "      <td>31</td>\n",
       "      <td>Yes</td>\n",
       "      <td>https://madison.legistar.com/View.ashx?M=A&amp;ID=...</td>\n",
       "      <td>https://madison.legistar.com/View.ashx?M=M&amp;ID=...</td>\n",
       "      <td>129.033</td>\n",
       "    </tr>\n",
       "    <tr>\n",
       "      <th>3</th>\n",
       "      <td>563608269</td>\n",
       "      <td>CCEC: Meeting of April 9, 2020</td>\n",
       "      <td>6:00:00 PM</td>\n",
       "      <td>4/9/2020 16:57</td>\n",
       "      <td>7:53 PM</td>\n",
       "      <td>2:56:08</td>\n",
       "      <td>36</td>\n",
       "      <td>Yes</td>\n",
       "      <td>https://madison.legistar.com/View.ashx?M=A&amp;ID=...</td>\n",
       "      <td>https://madison.legistar.com/View.ashx?M=M&amp;ID=...</td>\n",
       "      <td>176.033</td>\n",
       "    </tr>\n",
       "    <tr>\n",
       "      <th>4</th>\n",
       "      <td>468948855</td>\n",
       "      <td>Plan Commission: Meeting of April 13, 2020</td>\n",
       "      <td>5:30:00 PM</td>\n",
       "      <td>4/13/2020 16:35</td>\n",
       "      <td>9:14 PM</td>\n",
       "      <td>4:38:54</td>\n",
       "      <td>80</td>\n",
       "      <td>Yes</td>\n",
       "      <td>https://madison.legistar.com/View.ashx?M=A&amp;ID=...</td>\n",
       "      <td>https://madison.legistar.com/View.ashx?M=M&amp;ID=...</td>\n",
       "      <td>278.067</td>\n",
       "    </tr>\n",
       "    <tr>\n",
       "      <th>...</th>\n",
       "      <td>...</td>\n",
       "      <td>...</td>\n",
       "      <td>...</td>\n",
       "      <td>...</td>\n",
       "      <td>...</td>\n",
       "      <td>...</td>\n",
       "      <td>...</td>\n",
       "      <td>...</td>\n",
       "      <td>...</td>\n",
       "      <td>...</td>\n",
       "      <td>...</td>\n",
       "    </tr>\n",
       "    <tr>\n",
       "      <th>150</th>\n",
       "      <td>93491014777</td>\n",
       "      <td>Public Safety Review Committee Budget Subcommi...</td>\n",
       "      <td>NaN</td>\n",
       "      <td>7/29/2020 17:46</td>\n",
       "      <td>8:17 PM</td>\n",
       "      <td>2:30:50</td>\n",
       "      <td>21</td>\n",
       "      <td>Yes</td>\n",
       "      <td>NaN</td>\n",
       "      <td>NaN</td>\n",
       "      <td>150.033</td>\n",
       "    </tr>\n",
       "    <tr>\n",
       "      <th>151</th>\n",
       "      <td>98563848547</td>\n",
       "      <td>Plan Commission: Meeting of July 30, 2020</td>\n",
       "      <td>5:00:00 PM</td>\n",
       "      <td>7/30/2020 15:58</td>\n",
       "      <td>8:06 PM</td>\n",
       "      <td>4:08:29</td>\n",
       "      <td>54</td>\n",
       "      <td>Yes</td>\n",
       "      <td>https://madison.legistar.com/View.ashx?M=A&amp;ID=...</td>\n",
       "      <td>https://madison.legistar.com/View.ashx?M=M&amp;ID=...</td>\n",
       "      <td>248.067</td>\n",
       "    </tr>\n",
       "    <tr>\n",
       "      <th>152</th>\n",
       "      <td>99885787121</td>\n",
       "      <td>Body-Worn Camera Feasibility Review Committee:...</td>\n",
       "      <td>5:30:00 PM</td>\n",
       "      <td>7/30/2020 17:06</td>\n",
       "      <td>7:35 PM</td>\n",
       "      <td>2:28:11</td>\n",
       "      <td>23</td>\n",
       "      <td>Yes</td>\n",
       "      <td>https://madison.legistar.com/View.ashx?M=A&amp;ID=...</td>\n",
       "      <td>https://madison.legistar.com/View.ashx?M=M&amp;ID=...</td>\n",
       "      <td>148.033</td>\n",
       "    </tr>\n",
       "    <tr>\n",
       "      <th>153</th>\n",
       "      <td>94972195424</td>\n",
       "      <td>Task Force on Municipal Golf in Madison Parks:...</td>\n",
       "      <td>6:00:00 PM</td>\n",
       "      <td>7/30/2020 17:35</td>\n",
       "      <td>8:24 PM</td>\n",
       "      <td>2:49:27</td>\n",
       "      <td>81</td>\n",
       "      <td>Yes</td>\n",
       "      <td>https://madison.legistar.com/View.ashx?M=A&amp;ID=...</td>\n",
       "      <td>https://madison.legistar.com/View.ashx?M=M&amp;ID=...</td>\n",
       "      <td>169.033</td>\n",
       "    </tr>\n",
       "    <tr>\n",
       "      <th>154</th>\n",
       "      <td>91732772846</td>\n",
       "      <td>Deferred Compensation Committee Lincoln/ABG Se...</td>\n",
       "      <td>1:30:00 PM</td>\n",
       "      <td>7/31/2020 12:59</td>\n",
       "      <td>2:50 PM</td>\n",
       "      <td>1:50:47</td>\n",
       "      <td>35</td>\n",
       "      <td>No</td>\n",
       "      <td>https://madison.legistar.com/View.ashx?M=A&amp;ID=...</td>\n",
       "      <td>NaN</td>\n",
       "      <td>110.017</td>\n",
       "    </tr>\n",
       "  </tbody>\n",
       "</table>\n",
       "<p>155 rows × 11 columns</p>\n",
       "</div>"
      ],
      "text/plain": [
       "      Meeting_ID                                              Topic  \\\n",
       "0      954410442                                               CCEC   \n",
       "1      531697510                                     Common Council   \n",
       "2      411578576        Finance Committee: Meeting of April 6, 2020   \n",
       "3      563608269                     CCEC: Meeting of April 9, 2020   \n",
       "4      468948855         Plan Commission: Meeting of April 13, 2020   \n",
       "..           ...                                                ...   \n",
       "150  93491014777  Public Safety Review Committee Budget Subcommi...   \n",
       "151  98563848547          Plan Commission: Meeting of July 30, 2020   \n",
       "152  99885787121  Body-Worn Camera Feasibility Review Committee:...   \n",
       "153  94972195424  Task Force on Municipal Golf in Madison Parks:...   \n",
       "154  91732772846  Deferred Compensation Committee Lincoln/ABG Se...   \n",
       "\n",
       "    Scheduled_Start_Time Zoom_Meeting_Start_Time Zoom_Meeting_End_Time  \\\n",
       "0             4:30:00 PM         3/31/2020 15:40               6:27 PM   \n",
       "1             6:30:00 PM         3/31/2020 17:04    02:53 AM(Next day)   \n",
       "2             4:30:00 PM          4/6/2020 15:40               5:49 PM   \n",
       "3             6:00:00 PM          4/9/2020 16:57               7:53 PM   \n",
       "4             5:30:00 PM         4/13/2020 16:35               9:14 PM   \n",
       "..                   ...                     ...                   ...   \n",
       "150                  NaN         7/29/2020 17:46               8:17 PM   \n",
       "151           5:00:00 PM         7/30/2020 15:58               8:06 PM   \n",
       "152           5:30:00 PM         7/30/2020 17:06               7:35 PM   \n",
       "153           6:00:00 PM         7/30/2020 17:35               8:24 PM   \n",
       "154           1:30:00 PM         7/31/2020 12:59               2:50 PM   \n",
       "\n",
       "    Duration  Participants Recording  \\\n",
       "0    2:47:55            52       Yes   \n",
       "1    9:48:36           337       Yes   \n",
       "2    2:09:00            31       Yes   \n",
       "3    2:56:08            36       Yes   \n",
       "4    4:38:54            80       Yes   \n",
       "..       ...           ...       ...   \n",
       "150  2:30:50            21       Yes   \n",
       "151  4:08:29            54       Yes   \n",
       "152  2:28:11            23       Yes   \n",
       "153  2:49:27            81       Yes   \n",
       "154  1:50:47            35        No   \n",
       "\n",
       "                                           Agenda_Link  \\\n",
       "0    https://madison.legistar.com/View.ashx?M=A&ID=...   \n",
       "1    https://madison.legistar.com/View.ashx?M=A&ID=...   \n",
       "2    https://madison.legistar.com/View.ashx?M=A&ID=...   \n",
       "3    https://madison.legistar.com/View.ashx?M=A&ID=...   \n",
       "4    https://madison.legistar.com/View.ashx?M=A&ID=...   \n",
       "..                                                 ...   \n",
       "150                                                NaN   \n",
       "151  https://madison.legistar.com/View.ashx?M=A&ID=...   \n",
       "152  https://madison.legistar.com/View.ashx?M=A&ID=...   \n",
       "153  https://madison.legistar.com/View.ashx?M=A&ID=...   \n",
       "154  https://madison.legistar.com/View.ashx?M=A&ID=...   \n",
       "\n",
       "                                          Minutes_Link Duration_minutes  \n",
       "0    https://madison.legistar.com/View.ashx?M=M&ID=...          167.033  \n",
       "1    https://madison.legistar.com/View.ashx?M=M&ID=...           588.15  \n",
       "2    https://madison.legistar.com/View.ashx?M=M&ID=...          129.033  \n",
       "3    https://madison.legistar.com/View.ashx?M=M&ID=...          176.033  \n",
       "4    https://madison.legistar.com/View.ashx?M=M&ID=...          278.067  \n",
       "..                                                 ...              ...  \n",
       "150                                                NaN          150.033  \n",
       "151  https://madison.legistar.com/View.ashx?M=M&ID=...          248.067  \n",
       "152  https://madison.legistar.com/View.ashx?M=M&ID=...          148.033  \n",
       "153  https://madison.legistar.com/View.ashx?M=M&ID=...          169.033  \n",
       "154                                                NaN          110.017  \n",
       "\n",
       "[155 rows x 11 columns]"
      ]
     },
     "execution_count": 9,
     "metadata": {},
     "output_type": "execute_result"
    }
   ],
   "source": [
    "meeting"
   ]
  },
  {
   "cell_type": "code",
   "execution_count": 14,
   "metadata": {},
   "outputs": [
    {
     "data": {
      "image/png": "[encoded data removed]",
      "text/plain": [
       "<Figure size 1440x360 with 2 Axes>"
      ]
     },
     "metadata": {
      "needs_background": "light"
     },
     "output_type": "display_data"
    }
   ],
   "source": [
    "fig, ax = plt.subplots(nrows=1, ncols=2 ,figsize = (20,5))\n",
    "ax[0].scatter(x='Duration_minutes', y = 'Participants', color='purple',data=meeting)\n",
    "ax[1].scatter(x='Participants', y = 'Duration_minutes', color='purple',data=meeting)\n",
    "ax[0].set_xlabel(\"Meeting Duration in Minutes\")\n",
    "ax[0].set_ylabel(\"Number of Meeting Participants\")\n",
    "ax[0].spines['right'].set_visible(False)\n",
    "ax[0].spines['top'].set_visible(False)\n",
    "ax[0].set_title('Participants by Meeting Duration')\n",
    "\n",
    "ax[1].set_ylabel(\"Meeting Duration in Minutes\")\n",
    "ax[1].set_xlabel(\"Number of Meeting Participants\")\n",
    "ax[1].spines['right'].set_visible(False)\n",
    "ax[1].spines['top'].set_visible(False)\n",
    "ax[1].set_title('Meeting Duration by Participants')\n",
    "ax[1].set_ylim(0,650)\n",
    "\n",
    "lr = LinearRegression()\n",
    "poly_df=get_xterms(meeting['Participants'])\n",
    "lr.fit(poly_df, meeting[['Duration_minutes']])\n",
    "x = np.arange(0.1,350,1)\n",
    "ax[1].plot(x, lr.predict(get_xterms(x)),'r')\n",
    "\n",
    "# meeting.plot.scatter(x='Duration_minutes', y = 'Participants', ax=ax, color='purple')\n",
    "\n",
    "# X=meeting['Duration_minutes'].values.reshape(-1, 1)\n",
    "# y=meeting['Participants'].values\n",
    "\n",
    "# r = LinearRegression()\n",
    "# r.fit(X, y)\n",
    "# plt.plot(X, r.predict(X),color='r')\n",
    "\n",
    "# print(\"Coef:\", r.coef_)\n",
    "# print(\"Intercept:\", r.intercept_)\n",
    "\n",
    "# def formula(reg, columns):\n",
    "#     rv = \"\"\n",
    "#     for i in range(len(columns)):\n",
    "#         rv += \"{}*{} + \".format(reg.coef_[0], columns[i])\n",
    "#     rv += str(r.intercept_)\n",
    "#     return rv\n",
    "\n",
    "# print(\"Number of Participants ~= \" + formula(r, ['Duration_minutes']))\n",
    "\n",
    "# ax.set_xlabel(\"Meeting Duration in Minutes\")\n",
    "# ax.set_ylabel(\"Number of Meeting Participants\")\n",
    "# ax.spines['right'].set_visible(False)\n",
    "# ax.spines['top'].set_visible(False)\n",
    "# ax.set_title('Participants by Meeting Duration')\n",
    "plt.savefig('Participants_vs_Duration.png',bbox='tight')"
   ]
  },
  {
   "cell_type": "code",
   "execution_count": 12,
   "metadata": {},
   "outputs": [],
   "source": [
    "def get_xterms(x):\n",
    "    t = pd.DataFrame({\"x\":x})\n",
    "    t['logx'] = np.log(t['x'])\n",
    "    t['log2x'] = np.log2(t['x'])\n",
    "    return t"
   ]
  },
  {
   "cell_type": "code",
   "execution_count": 13,
   "metadata": {
    "scrolled": false
   },
   "outputs": [
    {
     "name": "stdout",
     "output_type": "stream",
     "text": [
      "Meeting Duration ~= 0.8035186814214206*x + 23.79190995257445*logx + 34.32447050185595*log2x + -122.65340047792333\n"
     ]
    },
    {
     "data": {
      "image/png": "[encoded data removed]",
      "text/plain": [
       "<Figure size 720x432 with 1 Axes>"
      ]
     },
     "metadata": {
      "needs_background": "light"
     },
     "output_type": "display_data"
    }
   ],
   "source": [
    "fig, ax = plt.subplots(figsize = (10,6))\n",
    "meeting.plot.scatter(y='Duration_minutes', x = 'Participants', ax=ax, color='purple')\n",
    "ax.set_ylabel(\"Meeting Duration in Minutes\")\n",
    "ax.set_xlabel(\"Number of Meeting Participants\")\n",
    "ax.spines['right'].set_visible(False)\n",
    "ax.spines['top'].set_visible(False)\n",
    "ax.set_title('Meeting Duration by Participants')\n",
    "ax.set_ylim(0,650)\n",
    "\n",
    "lr = LinearRegression()\n",
    "poly_df=get_xterms(meeting['Participants'])\n",
    "lr.fit(poly_df, meeting[['Duration_minutes']])\n",
    "x = np.arange(0.1,350,1)\n",
    "ax.plot(x, lr.predict(get_xterms(x)),'r')\n",
    "\n",
    "# print(lr.coef_,lr.intercept_)\n",
    "\n",
    "\n",
    "# plt.savefig('meeting_participants.png')\n",
    "\n",
    "def formula(reg, columns):\n",
    "    rv = \"\"\n",
    "    for i in range(len(columns)):\n",
    "        rv += \"{}*{} + \".format(reg.coef_[0,i], columns[i])\n",
    "    rv += str(lr.intercept_[0])\n",
    "    return rv\n",
    "\n",
    "print(\"Meeting Duration ~= \" + formula(lr, poly_df.columns))\n",
    "plt.savefig('meeting_participants.EPS')"
   ]
  },
  {
   "cell_type": "markdown",
   "metadata": {},
   "source": [
    "Next Steps: Can we predict Meeting Duration by estimating number of participants or vice versa? "
   ]
  },
  {
   "cell_type": "markdown",
   "metadata": {},
   "source": [
    "**Extracting Text from PDF and Tokenizing**"
   ]
  },
  {
   "cell_type": "markdown",
   "metadata": {},
   "source": [
    "Extracting text from PDFs and adding column for each **agenda**"
   ]
  },
  {
   "cell_type": "code",
   "execution_count": 15,
   "metadata": {},
   "outputs": [
    {
     "name": "stderr",
     "output_type": "stream",
     "text": [
      "PdfReadWarning: Xref table not zero-indexed. ID numbers for objects will be corrected. [pdf.py:1736]\n"
     ]
    }
   ],
   "source": [
    "# with open(path, 'rb') as f:\n",
    "#         pdf = PdfFileReader(f, strict='False')\n",
    "#         info = pdf.getDocumentInfo()\n",
    "#         number_of_pages = pdf.getNumPages()\n",
    "\n",
    "text_dict = {}\n",
    "text_list = []\n",
    "for x in meeting['Meeting_ID']:\n",
    "    try:\n",
    "        pdfFileObject = open('pdf_agendas/'+x+'.pdf','rb')\n",
    "        pdfReader = PdfFileReader(pdfFileObject)\n",
    "        pageObject = pdfReader.getPage(0)\n",
    "        number_of_pages = pdfReader.getNumPages()\n",
    "        txt = ''\n",
    "    except Exception:\n",
    "        text_list.append(\"N/A\")\n",
    "        continue\n",
    "    for i in range(number_of_pages):\n",
    "        pageObject = pdfReader.getPage(i)\n",
    "        txt+= pageObject.extractText()\n",
    "    text_dict[x] = txt\n",
    "    text_list.append(txt)\n",
    "meeting['text']=text_list\n",
    "\n",
    "\n"
   ]
  },
  {
   "cell_type": "code",
   "execution_count": 16,
   "metadata": {},
   "outputs": [],
   "source": [
    "text_dict = {}\n",
    "text_list = []\n",
    "for x in meeting['Meeting_ID']:\n",
    "    try:\n",
    "        pdfFileObject = open('pdf_notes/'+x+'.pdf','rb')\n",
    "        pdfReader = PdfFileReader(pdfFileObject)\n",
    "        pageObject = pdfReader.getPage(0)\n",
    "        number_of_pages = pdfReader.getNumPages()\n",
    "        txt = ''\n",
    "    except Exception:\n",
    "        text_list.append(\"N/A\")\n",
    "        continue\n",
    "    for i in range(number_of_pages):\n",
    "        pageObject = pdfReader.getPage(i)\n",
    "        txt+= pageObject.extractText()\n",
    "    text_dict[x] = txt\n",
    "    text_list.append(txt)\n",
    "meeting['note_text']=text_list\n"
   ]
  },
  {
   "cell_type": "markdown",
   "metadata": {},
   "source": [
    "Below code won't work until you do the one right below this one"
   ]
  },
  {
   "cell_type": "code",
   "execution_count": 17,
   "metadata": {},
   "outputs": [],
   "source": [
    "meeting['agenda_key']=meeting['text']\n",
    "meeting['note_key']=meeting['text']\n",
    "# meeting.so"
   ]
  },
  {
   "cell_type": "code",
   "execution_count": 18,
   "metadata": {},
   "outputs": [],
   "source": [
    "from gensim.summarization import keywords\n",
    "import warnings\n",
    "\n",
    "tokenized_agenda = []\n",
    "for i in range(len(meeting['Meeting_ID'])):\n",
    "    text=meeting.iloc[i,-4]\n",
    "    warnings.filterwarnings(\"ignore\")\n",
    "\n",
    "    values = keywords(text=text,split='\\n',scores=True)\n",
    "\n",
    "    data = pd.DataFrame(values,columns=['keyword','score'])\n",
    "    data = data.sort_values('score',ascending=False)\n",
    "    tokenized_agenda.append(list(data['keyword']))\n",
    "meeting['agenda_key'] = tokenized_agenda"
   ]
  },
  {
   "cell_type": "code",
   "execution_count": 19,
   "metadata": {},
   "outputs": [],
   "source": [
    "tokenized_note = []\n",
    "for i in range(len(meeting['Meeting_ID'])):\n",
    "    text=meeting.iloc[i,-3]\n",
    "    warnings.filterwarnings(\"ignore\")\n",
    "\n",
    "    values = keywords(text=text,split='\\n',scores=True)\n",
    "\n",
    "    data = pd.DataFrame(values,columns=['keyword','score'])\n",
    "    data = data.sort_values('score',ascending=False)\n",
    "    tokenized_note.append(list(data['keyword']))\n",
    "meeting['note_key'] = tokenized_note"
   ]
  },
  {
   "cell_type": "markdown",
   "metadata": {},
   "source": [
    "**DONT DO THIS UNTIL AFTER YOU ADDED NOTES AND AGENDA TEXT ABOVE BECAUSE OF INDEXING ILOC IS HARDCODED**"
   ]
  },
  {
   "cell_type": "code",
   "execution_count": 20,
   "metadata": {},
   "outputs": [],
   "source": [
    "dates = []\n",
    "starting = []\n",
    "for i in meeting['Zoom_Meeting_Start_Time']:\n",
    "    unformatted = i.split()[0]\n",
    "    time = i.split()[1]\n",
    "    datetime = datetime.strptime(unformatted , '%m/%d/%Y')\n",
    "    time_start = datetime.strptime(time , '%H:%M')\n",
    "    dates.append(datetime)\n",
    "    starting.append(time_start)\n"
   ]
  },
  {
   "cell_type": "code",
   "execution_count": 21,
   "metadata": {},
   "outputs": [],
   "source": [
    "day_of_week = [x.strftime(\"%A\") for x in dates]\n",
    "day_of_week_coded = [x.strftime(\"%w\") for x in dates]\n",
    "meeting['day_of_week']=day_of_week\n",
    "meeting['day_of_week_coded']=day_of_week_coded"
   ]
  },
  {
   "cell_type": "markdown",
   "metadata": {},
   "source": [
    "Possibility: Off-days such as Friday, Saturday, and Sunday "
   ]
  },
  {
   "cell_type": "code",
   "execution_count": 22,
   "metadata": {
    "scrolled": false
   },
   "outputs": [
    {
     "ename": "KeyError",
     "evalue": "\"['starting_formatted'] not in index\"",
     "output_type": "error",
     "traceback": [
      "\u001b[0;31m---------------------------------------------------------------------------\u001b[0m",
      "\u001b[0;31mKeyError\u001b[0m                                  Traceback (most recent call last)",
      "\u001b[0;32m<ipython-input-22-e26770d556e6>\u001b[0m in \u001b[0;36m<module>\u001b[0;34m\u001b[0m\n\u001b[1;32m     27\u001b[0m \u001b[0max\u001b[0m\u001b[0;34m[\u001b[0m\u001b[0;36m1\u001b[0m\u001b[0;34m]\u001b[0m\u001b[0;34m.\u001b[0m\u001b[0mset_title\u001b[0m\u001b[0;34m(\u001b[0m\u001b[0;34m'Number of Participants by Starting Hour'\u001b[0m\u001b[0;34m)\u001b[0m\u001b[0;34m\u001b[0m\u001b[0;34m\u001b[0m\u001b[0m\n\u001b[1;32m     28\u001b[0m \u001b[0;34m\u001b[0m\u001b[0m\n\u001b[0;32m---> 29\u001b[0;31m \u001b[0mparticipant_df\u001b[0m \u001b[0;34m=\u001b[0m \u001b[0mmeeting\u001b[0m\u001b[0;34m[\u001b[0m\u001b[0;34m[\u001b[0m\u001b[0;34m'starting_formatted'\u001b[0m\u001b[0;34m,\u001b[0m\u001b[0;34m'Participants'\u001b[0m\u001b[0;34m]\u001b[0m\u001b[0;34m]\u001b[0m\u001b[0;34m\u001b[0m\u001b[0;34m\u001b[0m\u001b[0m\n\u001b[0m\u001b[1;32m     30\u001b[0m \u001b[0;31m# participant_df.groupby('starting_formatted').mean().plot.bar(ax=ax)\u001b[0m\u001b[0;34m\u001b[0m\u001b[0;34m\u001b[0m\u001b[0;34m\u001b[0m\u001b[0m\n\u001b[1;32m     31\u001b[0m \u001b[0mplotting\u001b[0m \u001b[0;34m=\u001b[0m \u001b[0mparticipant_df\u001b[0m\u001b[0;34m.\u001b[0m\u001b[0mgroupby\u001b[0m\u001b[0;34m(\u001b[0m\u001b[0;34m'starting_formatted'\u001b[0m\u001b[0;34m)\u001b[0m\u001b[0;34m.\u001b[0m\u001b[0mmean\u001b[0m\u001b[0;34m(\u001b[0m\u001b[0;34m)\u001b[0m\u001b[0;34m.\u001b[0m\u001b[0mreset_index\u001b[0m\u001b[0;34m(\u001b[0m\u001b[0;34m)\u001b[0m\u001b[0;34m\u001b[0m\u001b[0;34m\u001b[0m\u001b[0m\n",
      "\u001b[0;32m/Library/Frameworks/Python.framework/Versions/3.8/lib/python3.8/site-packages/pandas/core/frame.py\u001b[0m in \u001b[0;36m__getitem__\u001b[0;34m(self, key)\u001b[0m\n\u001b[1;32m   2804\u001b[0m             \u001b[0;32mif\u001b[0m \u001b[0mis_iterator\u001b[0m\u001b[0;34m(\u001b[0m\u001b[0mkey\u001b[0m\u001b[0;34m)\u001b[0m\u001b[0;34m:\u001b[0m\u001b[0;34m\u001b[0m\u001b[0;34m\u001b[0m\u001b[0m\n\u001b[1;32m   2805\u001b[0m                 \u001b[0mkey\u001b[0m \u001b[0;34m=\u001b[0m \u001b[0mlist\u001b[0m\u001b[0;34m(\u001b[0m\u001b[0mkey\u001b[0m\u001b[0;34m)\u001b[0m\u001b[0;34m\u001b[0m\u001b[0;34m\u001b[0m\u001b[0m\n\u001b[0;32m-> 2806\u001b[0;31m             \u001b[0mindexer\u001b[0m \u001b[0;34m=\u001b[0m \u001b[0mself\u001b[0m\u001b[0;34m.\u001b[0m\u001b[0mloc\u001b[0m\u001b[0;34m.\u001b[0m\u001b[0m_get_listlike_indexer\u001b[0m\u001b[0;34m(\u001b[0m\u001b[0mkey\u001b[0m\u001b[0;34m,\u001b[0m \u001b[0maxis\u001b[0m\u001b[0;34m=\u001b[0m\u001b[0;36m1\u001b[0m\u001b[0;34m,\u001b[0m \u001b[0mraise_missing\u001b[0m\u001b[0;34m=\u001b[0m\u001b[0;32mTrue\u001b[0m\u001b[0;34m)\u001b[0m\u001b[0;34m[\u001b[0m\u001b[0;36m1\u001b[0m\u001b[0;34m]\u001b[0m\u001b[0;34m\u001b[0m\u001b[0;34m\u001b[0m\u001b[0m\n\u001b[0m\u001b[1;32m   2807\u001b[0m \u001b[0;34m\u001b[0m\u001b[0m\n\u001b[1;32m   2808\u001b[0m         \u001b[0;31m# take() does not accept boolean indexers\u001b[0m\u001b[0;34m\u001b[0m\u001b[0;34m\u001b[0m\u001b[0;34m\u001b[0m\u001b[0m\n",
      "\u001b[0;32m/Library/Frameworks/Python.framework/Versions/3.8/lib/python3.8/site-packages/pandas/core/indexing.py\u001b[0m in \u001b[0;36m_get_listlike_indexer\u001b[0;34m(self, key, axis, raise_missing)\u001b[0m\n\u001b[1;32m   1550\u001b[0m             \u001b[0mkeyarr\u001b[0m\u001b[0;34m,\u001b[0m \u001b[0mindexer\u001b[0m\u001b[0;34m,\u001b[0m \u001b[0mnew_indexer\u001b[0m \u001b[0;34m=\u001b[0m \u001b[0max\u001b[0m\u001b[0;34m.\u001b[0m\u001b[0m_reindex_non_unique\u001b[0m\u001b[0;34m(\u001b[0m\u001b[0mkeyarr\u001b[0m\u001b[0;34m)\u001b[0m\u001b[0;34m\u001b[0m\u001b[0;34m\u001b[0m\u001b[0m\n\u001b[1;32m   1551\u001b[0m \u001b[0;34m\u001b[0m\u001b[0m\n\u001b[0;32m-> 1552\u001b[0;31m         self._validate_read_indexer(\n\u001b[0m\u001b[1;32m   1553\u001b[0m             \u001b[0mkeyarr\u001b[0m\u001b[0;34m,\u001b[0m \u001b[0mindexer\u001b[0m\u001b[0;34m,\u001b[0m \u001b[0mo\u001b[0m\u001b[0;34m.\u001b[0m\u001b[0m_get_axis_number\u001b[0m\u001b[0;34m(\u001b[0m\u001b[0maxis\u001b[0m\u001b[0;34m)\u001b[0m\u001b[0;34m,\u001b[0m \u001b[0mraise_missing\u001b[0m\u001b[0;34m=\u001b[0m\u001b[0mraise_missing\u001b[0m\u001b[0;34m\u001b[0m\u001b[0;34m\u001b[0m\u001b[0m\n\u001b[1;32m   1554\u001b[0m         )\n",
      "\u001b[0;32m/Library/Frameworks/Python.framework/Versions/3.8/lib/python3.8/site-packages/pandas/core/indexing.py\u001b[0m in \u001b[0;36m_validate_read_indexer\u001b[0;34m(self, key, indexer, axis, raise_missing)\u001b[0m\n\u001b[1;32m   1644\u001b[0m             \u001b[0;32mif\u001b[0m \u001b[0;32mnot\u001b[0m \u001b[0;34m(\u001b[0m\u001b[0mself\u001b[0m\u001b[0;34m.\u001b[0m\u001b[0mname\u001b[0m \u001b[0;34m==\u001b[0m \u001b[0;34m\"loc\"\u001b[0m \u001b[0;32mand\u001b[0m \u001b[0;32mnot\u001b[0m \u001b[0mraise_missing\u001b[0m\u001b[0;34m)\u001b[0m\u001b[0;34m:\u001b[0m\u001b[0;34m\u001b[0m\u001b[0;34m\u001b[0m\u001b[0m\n\u001b[1;32m   1645\u001b[0m                 \u001b[0mnot_found\u001b[0m \u001b[0;34m=\u001b[0m \u001b[0mlist\u001b[0m\u001b[0;34m(\u001b[0m\u001b[0mset\u001b[0m\u001b[0;34m(\u001b[0m\u001b[0mkey\u001b[0m\u001b[0;34m)\u001b[0m \u001b[0;34m-\u001b[0m \u001b[0mset\u001b[0m\u001b[0;34m(\u001b[0m\u001b[0max\u001b[0m\u001b[0;34m)\u001b[0m\u001b[0;34m)\u001b[0m\u001b[0;34m\u001b[0m\u001b[0;34m\u001b[0m\u001b[0m\n\u001b[0;32m-> 1646\u001b[0;31m                 \u001b[0;32mraise\u001b[0m \u001b[0mKeyError\u001b[0m\u001b[0;34m(\u001b[0m\u001b[0;34mf\"{not_found} not in index\"\u001b[0m\u001b[0;34m)\u001b[0m\u001b[0;34m\u001b[0m\u001b[0;34m\u001b[0m\u001b[0m\n\u001b[0m\u001b[1;32m   1647\u001b[0m \u001b[0;34m\u001b[0m\u001b[0m\n\u001b[1;32m   1648\u001b[0m             \u001b[0;31m# we skip the warning on Categorical/Interval\u001b[0m\u001b[0;34m\u001b[0m\u001b[0;34m\u001b[0m\u001b[0;34m\u001b[0m\u001b[0m\n",
      "\u001b[0;31mKeyError\u001b[0m: \"['starting_formatted'] not in index\""
     ]
    },
    {
     "data": {
      "image/png": "[encoded data removed]",
      "text/plain": [
       "<Figure size 1080x360 with 2 Axes>"
      ]
     },
     "metadata": {
      "needs_background": "light"
     },
     "output_type": "display_data"
    }
   ],
   "source": [
    "fig, ax = plt.subplots(ncols=2,nrows=1,figsize=(15,5))\n",
    "cats = [ 'Monday', 'Tuesday', 'Wednesday', 'Thursday', 'Friday', 'Saturday']\n",
    "day_week_df = DataFrame(data = {\n",
    "    'median':meeting.groupby('day_of_week',sort=False).median()['Participants'],\n",
    "    'mean':meeting.groupby('day_of_week',sort=False).mean()['Participants']\n",
    "})\n",
    "\n",
    "day_week_df = day_week_df.reindex(cats)\n",
    "day_week_df= day_week_df.reset_index()\n",
    "\n",
    "ax[0].bar(x=day_week_df['day_of_week'] , height=day_week_df['mean'],label=\"Mean\")\n",
    "ax[0].bar(x=day_week_df['day_of_week'] , height=day_week_df['median'],label=\"Median\")\n",
    "fig.legend(loc=\"upper center\",ncol=1)\n",
    "\n",
    "ax[0].set_xlabel(\"Day of Week (Meeting Day)\")\n",
    "ax[0].set_ylabel(\"Number of Participants\")\n",
    "ax[0].spines['right'].set_visible(False)\n",
    "ax[0].spines['top'].set_visible(False)\n",
    "ax[0].set_title('Median vs. Mean Participant by Day of Week')\n",
    "# plt.xticks(rotation=45) \n",
    "\n",
    "ax[1].set_ylabel(\"Average Number of Participants\")\n",
    "ax[1].set_xlabel(\"Meeting Starting Hour\")\n",
    "\n",
    "ax[1].spines['right'].set_visible(False)\n",
    "ax[1].spines['top'].set_visible(False)\n",
    "ax[1].set_title('Number of Participants by Starting Hour')\n",
    "\n",
    "participant_df = meeting[['starting_formatted','Participants']]\n",
    "# participant_df.groupby('starting_formatted').mean().plot.bar(ax=ax)\n",
    "plotting = participant_df.groupby('starting_formatted').mean().reset_index()\n",
    "ax[1].bar(plotting['starting_formatted'],plotting['Participants'])\n",
    "plt.xticks(meeting['starting_formatted'])\n",
    "# plt.savefig('participant_v_start.png',bbox='tight')\n",
    "\n",
    "\n",
    "plt.savefig('meetin_by_day.PDF')\n"
   ]
  },
  {
   "cell_type": "code",
   "execution_count": 259,
   "metadata": {},
   "outputs": [
    {
     "data": {
      "text/html": [
       "<div>\n",
       "<style scoped>\n",
       "    .dataframe tbody tr th:only-of-type {\n",
       "        vertical-align: middle;\n",
       "    }\n",
       "\n",
       "    .dataframe tbody tr th {\n",
       "        vertical-align: top;\n",
       "    }\n",
       "\n",
       "    .dataframe thead th {\n",
       "        text-align: right;\n",
       "    }\n",
       "</style>\n",
       "<table border=\"1\" class=\"dataframe\">\n",
       "  <thead>\n",
       "    <tr style=\"text-align: right;\">\n",
       "      <th></th>\n",
       "      <th>day_of_week</th>\n",
       "      <th>median</th>\n",
       "      <th>mean</th>\n",
       "    </tr>\n",
       "  </thead>\n",
       "  <tbody>\n",
       "    <tr>\n",
       "      <th>0</th>\n",
       "      <td>Monday</td>\n",
       "      <td>57</td>\n",
       "      <td>68.241379</td>\n",
       "    </tr>\n",
       "    <tr>\n",
       "      <th>1</th>\n",
       "      <td>Tuesday</td>\n",
       "      <td>34</td>\n",
       "      <td>56.333333</td>\n",
       "    </tr>\n",
       "    <tr>\n",
       "      <th>2</th>\n",
       "      <td>Wednesday</td>\n",
       "      <td>45</td>\n",
       "      <td>59.697674</td>\n",
       "    </tr>\n",
       "    <tr>\n",
       "      <th>3</th>\n",
       "      <td>Thursday</td>\n",
       "      <td>35</td>\n",
       "      <td>47.325000</td>\n",
       "    </tr>\n",
       "    <tr>\n",
       "      <th>4</th>\n",
       "      <td>Friday</td>\n",
       "      <td>27</td>\n",
       "      <td>28.166667</td>\n",
       "    </tr>\n",
       "    <tr>\n",
       "      <th>5</th>\n",
       "      <td>Saturday</td>\n",
       "      <td>47</td>\n",
       "      <td>47.000000</td>\n",
       "    </tr>\n",
       "  </tbody>\n",
       "</table>\n",
       "</div>"
      ],
      "text/plain": [
       "  day_of_week  median       mean\n",
       "0      Monday      57  68.241379\n",
       "1     Tuesday      34  56.333333\n",
       "2   Wednesday      45  59.697674\n",
       "3    Thursday      35  47.325000\n",
       "4      Friday      27  28.166667\n",
       "5    Saturday      47  47.000000"
      ]
     },
     "execution_count": 259,
     "metadata": {},
     "output_type": "execute_result"
    }
   ],
   "source": [
    "day_week_df"
   ]
  },
  {
   "cell_type": "markdown",
   "metadata": {},
   "source": [
    "# PDFminer Method "
   ]
  },
  {
   "cell_type": "markdown",
   "metadata": {},
   "source": [
    "Gathering Number of Agenda Items"
   ]
  },
  {
   "cell_type": "code",
   "execution_count": 29,
   "metadata": {},
   "outputs": [],
   "source": [
    "import re\n",
    "import pdfminer\n",
    "from subprocess import check_output\n",
    "from bs4 import BeautifulSoup\n",
    "from collections import defaultdict"
   ]
  },
  {
   "cell_type": "code",
   "execution_count": 30,
   "metadata": {},
   "outputs": [],
   "source": [
    "def find_near(x, y):\n",
    "    for x_ in range(x-5, x+5):\n",
    "        for y_ in range(y-5, y+5):\n",
    "            if (x_, y_) in text:\n",
    "                return text[(x_, y_)]\n",
    "    return None\n",
    "\n",
    "meeting_id = meeting['Meeting_ID']\n",
    "agenda_items = []\n",
    "overall_list = []\n",
    "for i in meeting_id:\n",
    "    agenda_file = \"pdf_agendas/\" + i +\".pdf\"\n",
    "    try:\n",
    "        s = check_output([\"pdf2txt.py\", \"-t\", \"html\", \"-Y\", \"loose\", agenda_file])\n",
    "    except Exception:\n",
    "        agenda_items.append(\"N/A\")\n",
    "        overall_list.append(\"N/A\")\n",
    "        continue\n",
    "    page = BeautifulSoup(s)\n",
    "\n",
    "    text = {} # key=(x,y), val=text\n",
    "\n",
    "    for div in page.find_all(\"div\"): #gets a list of different div tags \n",
    "        style = div.attrs.get(\"style\", \"\") #attrs will tell you the positioning\n",
    "        m1 = re.search(\"left:(\\d+)px\", style)\n",
    "        m2 = re.search(\"top:(\\d+)px\", style)\n",
    "        if m1 and m2:\n",
    "            x, y = int(m1.group(1)), int(m2.group(1))#each parenthesis is a different group\n",
    "            text[(x,y)] = div.get_text()\n",
    "\n",
    "    agenda_dict = {}\n",
    "    rand_str = \"\"\n",
    "\n",
    "    for (x,y), t in text.items():\n",
    "        \n",
    "        # agenda items are roughly at x=170\n",
    "        if 165 < x < 175:\n",
    "            # agenda numbers are rougly at x=69, same y as text\n",
    "            num = find_near(69, y)\n",
    "            if num and re.match('[0-9]+',num) != None:\n",
    "                agenda_num = int(re.match('[0-9]+',num).group(0))\n",
    "                agenda_dict[agenda_num] = t\n",
    "                rand_str+=t\n",
    "    agenda_items.append(agenda_dict)\n",
    "    overall_list.append(rand_str)\n",
    "    "
   ]
  },
  {
   "cell_type": "markdown",
   "metadata": {},
   "source": [
    "Working with Agenda Item Words"
   ]
  },
  {
   "cell_type": "code",
   "execution_count": 31,
   "metadata": {},
   "outputs": [],
   "source": [
    "meeting['agenda_num'] = overall_list\n",
    "agenda_amount = [len(x) for x in agenda_items]\n",
    "meeting['agenda_amount'] = agenda_amount\n"
   ]
  },
  {
   "cell_type": "code",
   "execution_count": 32,
   "metadata": {
    "scrolled": false
   },
   "outputs": [
    {
     "data": {
      "text/plain": [
       "(0, 650)"
      ]
     },
     "execution_count": 32,
     "metadata": {},
     "output_type": "execute_result"
    },
    {
     "data": {
      "image/png": "[encoded data removed]",
      "text/plain": [
       "<Figure size 576x360 with 1 Axes>"
      ]
     },
     "metadata": {
      "needs_background": "light"
     },
     "output_type": "display_data"
    }
   ],
   "source": [
    "fig, ax = plt.subplots(figsize =(8,5))\n",
    "meeting.plot.scatter(x='agenda_amount',y='Duration_minutes', ax=ax, color='purple')\n",
    "ax.set_ylabel(\"Meeting Duration in Minutes\")\n",
    "ax.set_xlabel(\"Number of Agenda Items\")\n",
    "ax.spines['right'].set_visible(False)\n",
    "ax.spines['top'].set_visible(False)\n",
    "ax.set_title('Meeting Duration by No. of Agenda Items')\n",
    "ax.set_ylim(0,650)"
   ]
  },
  {
   "cell_type": "code",
   "execution_count": 33,
   "metadata": {},
   "outputs": [
    {
     "data": {
      "text/plain": [
       "(0, 650)"
      ]
     },
     "execution_count": 33,
     "metadata": {},
     "output_type": "execute_result"
    },
    {
     "data": {
      "image/png": "[encoded data removed]",
      "text/plain": [
       "<Figure size 576x360 with 1 Axes>"
      ]
     },
     "metadata": {
      "needs_background": "light"
     },
     "output_type": "display_data"
    }
   ],
   "source": [
    "fig, ax = plt.subplots(figsize =(8,5))\n",
    "meeting.plot.scatter(x='agenda_amount',y='Participants', ax=ax, color='purple')\n",
    "ax.set_ylabel(\"Number of Participants\")\n",
    "ax.set_xlabel(\"Number of Agenda Items\")\n",
    "ax.spines['right'].set_visible(False)\n",
    "ax.spines['top'].set_visible(False)\n",
    "ax.set_title('No. of Participants by No. of Agenda Items')\n",
    "ax.set_ylim(0,650)"
   ]
  },
  {
   "cell_type": "markdown",
   "metadata": {},
   "source": [
    "# Playing with Multiple Regression Predicting No. of Participants"
   ]
  },
  {
   "cell_type": "code",
   "execution_count": 34,
   "metadata": {},
   "outputs": [],
   "source": [
    "meeting['starting_formatted']=[int(x.strftime(\"%H\")) for x in starting]"
   ]
  },
  {
   "cell_type": "markdown",
   "metadata": {},
   "source": [
    "Categorizing Meeting Start Time\n",
    "\n",
    "1 = Before 9 AM (Before Work)\n",
    "2 = Between 9AM - 5 PM (During Work)\n",
    "3 = After 5PM (After Work)"
   ]
  },
  {
   "cell_type": "code",
   "execution_count": 35,
   "metadata": {},
   "outputs": [
    {
     "data": {
      "text/html": [
       "<div>\n",
       "<style scoped>\n",
       "    .dataframe tbody tr th:only-of-type {\n",
       "        vertical-align: middle;\n",
       "    }\n",
       "\n",
       "    .dataframe tbody tr th {\n",
       "        vertical-align: top;\n",
       "    }\n",
       "\n",
       "    .dataframe thead th {\n",
       "        text-align: right;\n",
       "    }\n",
       "</style>\n",
       "<table border=\"1\" class=\"dataframe\">\n",
       "  <thead>\n",
       "    <tr style=\"text-align: right;\">\n",
       "      <th></th>\n",
       "      <th>Meeting_ID</th>\n",
       "      <th>Topic</th>\n",
       "      <th>Scheduled_Start_Time</th>\n",
       "      <th>Zoom_Meeting_Start_Time</th>\n",
       "      <th>Zoom_Meeting_End_Time</th>\n",
       "      <th>Duration</th>\n",
       "      <th>Participants</th>\n",
       "      <th>Recording</th>\n",
       "      <th>Agenda_Link</th>\n",
       "      <th>Minutes_Link</th>\n",
       "      <th>Duration_minutes</th>\n",
       "      <th>text</th>\n",
       "      <th>note_text</th>\n",
       "      <th>agenda_key</th>\n",
       "      <th>note_key</th>\n",
       "      <th>day_of_week</th>\n",
       "      <th>day_of_week_coded</th>\n",
       "      <th>starting_formatted</th>\n",
       "      <th>agenda_num</th>\n",
       "      <th>agenda_amount</th>\n",
       "    </tr>\n",
       "  </thead>\n",
       "  <tbody>\n",
       "    <tr>\n",
       "      <th>0</th>\n",
       "      <td>954410442</td>\n",
       "      <td>CCEC</td>\n",
       "      <td>4:30:00 PM</td>\n",
       "      <td>3/31/2020 15:40</td>\n",
       "      <td>6:27 PM</td>\n",
       "      <td>2:47:55</td>\n",
       "      <td>52</td>\n",
       "      <td>Yes</td>\n",
       "      <td>https://madison.legistar.com/View.ashx?M=A&amp;ID=...</td>\n",
       "      <td>https://madison.legistar.com/View.ashx?M=M&amp;ID=...</td>\n",
       "      <td>167.033</td>\n",
       "      <td>COMMON COUNCIL EXECUTIVE COMMITTEECity of Madi...</td>\n",
       "      <td>City of MadisonMadison, WI  53703www.cityofmad...</td>\n",
       "      <td>[committee, council, madison, public, city, co...</td>\n",
       "      <td>[ald, city, council, committee, kemble, bidar,...</td>\n",
       "      <td>Tuesday</td>\n",
       "      <td>2</td>\n",
       "      <td>15</td>\n",
       "      <td>Establishing a Body-Worn Camera Feasibility Re...</td>\n",
       "      <td>7</td>\n",
       "    </tr>\n",
       "    <tr>\n",
       "      <th>1</th>\n",
       "      <td>531697510</td>\n",
       "      <td>Common Council</td>\n",
       "      <td>6:30:00 PM</td>\n",
       "      <td>3/31/2020 17:04</td>\n",
       "      <td>02:53 AM(Next day)</td>\n",
       "      <td>9:48:36</td>\n",
       "      <td>337</td>\n",
       "      <td>Yes</td>\n",
       "      <td>https://madison.legistar.com/View.ashx?M=A&amp;ID=...</td>\n",
       "      <td>https://madison.legistar.com/View.ashx?M=M&amp;ID=...</td>\n",
       "      <td>588.15</td>\n",
       "      <td>COMMON COUNCILCity of MadisonAgenda - AmendedC...</td>\n",
       "      <td>City of MadisonMadison, WI  53703www.cityofmad...</td>\n",
       "      <td>[sponsors, plans, planning, plan, planned, pub...</td>\n",
       "      <td>[sponsors, streets, street, res, city, approve...</td>\n",
       "      <td>Tuesday</td>\n",
       "      <td>2</td>\n",
       "      <td>17</td>\n",
       "      <td>Commerating the 50th anniversary of Earth Day ...</td>\n",
       "      <td>116</td>\n",
       "    </tr>\n",
       "    <tr>\n",
       "      <th>2</th>\n",
       "      <td>411578576</td>\n",
       "      <td>Finance Committee: Meeting of April 6, 2020</td>\n",
       "      <td>4:30:00 PM</td>\n",
       "      <td>4/6/2020 15:40</td>\n",
       "      <td>5:49 PM</td>\n",
       "      <td>2:09:00</td>\n",
       "      <td>31</td>\n",
       "      <td>Yes</td>\n",
       "      <td>https://madison.legistar.com/View.ashx?M=A&amp;ID=...</td>\n",
       "      <td>https://madison.legistar.com/View.ashx?M=M&amp;ID=...</td>\n",
       "      <td>129.033</td>\n",
       "      <td>FINANCE COMMITTEECity of MadisonAgenda - Appro...</td>\n",
       "      <td>City of MadisonMadison, WI  53703www.cityofmad...</td>\n",
       "      <td>[finance, meeting, covid, city, program, trans...</td>\n",
       "      <td>[motion, bidar, moreland, meter, mckinney, com...</td>\n",
       "      <td>Monday</td>\n",
       "      <td>1</td>\n",
       "      <td>15</td>\n",
       "      <td>A Resolution to authorize the noncompetitive p...</td>\n",
       "      <td>6</td>\n",
       "    </tr>\n",
       "    <tr>\n",
       "      <th>3</th>\n",
       "      <td>563608269</td>\n",
       "      <td>CCEC: Meeting of April 9, 2020</td>\n",
       "      <td>6:00:00 PM</td>\n",
       "      <td>4/9/2020 16:57</td>\n",
       "      <td>7:53 PM</td>\n",
       "      <td>2:56:08</td>\n",
       "      <td>36</td>\n",
       "      <td>Yes</td>\n",
       "      <td>https://madison.legistar.com/View.ashx?M=A&amp;ID=...</td>\n",
       "      <td>https://madison.legistar.com/View.ashx?M=M&amp;ID=...</td>\n",
       "      <td>176.033</td>\n",
       "      <td>COMMON COUNCIL EXECUTIVE COMMITTEECity of Madi...</td>\n",
       "      <td>City of MadisonMadison, WI  53703www.cityofmad...</td>\n",
       "      <td>[comments, comment, city, meeting, meetings, c...</td>\n",
       "      <td>[ald, information, informative, staff, eoc, co...</td>\n",
       "      <td>Thursday</td>\n",
       "      <td>4</td>\n",
       "      <td>16</td>\n",
       "      <td>Discuss Council's Role &amp; Response during COVID...</td>\n",
       "      <td>2</td>\n",
       "    </tr>\n",
       "    <tr>\n",
       "      <th>4</th>\n",
       "      <td>468948855</td>\n",
       "      <td>Plan Commission: Meeting of April 13, 2020</td>\n",
       "      <td>5:30:00 PM</td>\n",
       "      <td>4/13/2020 16:35</td>\n",
       "      <td>9:14 PM</td>\n",
       "      <td>4:38:54</td>\n",
       "      <td>80</td>\n",
       "      <td>Yes</td>\n",
       "      <td>https://madison.legistar.com/View.ashx?M=A&amp;ID=...</td>\n",
       "      <td>https://madison.legistar.com/View.ashx?M=M&amp;ID=...</td>\n",
       "      <td>278.067</td>\n",
       "      <td>PLAN COMMISSIONCity of MadisonAgenda - Approve...</td>\n",
       "      <td>City of MadisonMadison, WI  53703www.cityofmad...</td>\n",
       "      <td>[building, buildings, plan, planning, plans, p...</td>\n",
       "      <td>[police, update, chief, public, minutes, motio...</td>\n",
       "      <td>Monday</td>\n",
       "      <td>1</td>\n",
       "      <td>16</td>\n",
       "      <td>General Public Correspondence to the Plan Comm...</td>\n",
       "      <td>22</td>\n",
       "    </tr>\n",
       "    <tr>\n",
       "      <th>...</th>\n",
       "      <td>...</td>\n",
       "      <td>...</td>\n",
       "      <td>...</td>\n",
       "      <td>...</td>\n",
       "      <td>...</td>\n",
       "      <td>...</td>\n",
       "      <td>...</td>\n",
       "      <td>...</td>\n",
       "      <td>...</td>\n",
       "      <td>...</td>\n",
       "      <td>...</td>\n",
       "      <td>...</td>\n",
       "      <td>...</td>\n",
       "      <td>...</td>\n",
       "      <td>...</td>\n",
       "      <td>...</td>\n",
       "      <td>...</td>\n",
       "      <td>...</td>\n",
       "      <td>...</td>\n",
       "      <td>...</td>\n",
       "    </tr>\n",
       "    <tr>\n",
       "      <th>150</th>\n",
       "      <td>93491014777</td>\n",
       "      <td>Public Safety Review Committee Budget Subcommi...</td>\n",
       "      <td>NaN</td>\n",
       "      <td>7/29/2020 17:46</td>\n",
       "      <td>8:17 PM</td>\n",
       "      <td>2:30:50</td>\n",
       "      <td>21</td>\n",
       "      <td>Yes</td>\n",
       "      <td>NaN</td>\n",
       "      <td>NaN</td>\n",
       "      <td>150.033</td>\n",
       "      <td>N/A</td>\n",
       "      <td>N/A</td>\n",
       "      <td>[]</td>\n",
       "      <td>[]</td>\n",
       "      <td>Wednesday</td>\n",
       "      <td>3</td>\n",
       "      <td>17</td>\n",
       "      <td>N/A</td>\n",
       "      <td>3</td>\n",
       "    </tr>\n",
       "    <tr>\n",
       "      <th>151</th>\n",
       "      <td>98563848547</td>\n",
       "      <td>Plan Commission: Meeting of July 30, 2020</td>\n",
       "      <td>5:00:00 PM</td>\n",
       "      <td>7/30/2020 15:58</td>\n",
       "      <td>8:06 PM</td>\n",
       "      <td>4:08:29</td>\n",
       "      <td>54</td>\n",
       "      <td>Yes</td>\n",
       "      <td>https://madison.legistar.com/View.ashx?M=A&amp;ID=...</td>\n",
       "      <td>https://madison.legistar.com/View.ashx?M=M&amp;ID=...</td>\n",
       "      <td>248.067</td>\n",
       "      <td>PLAN COMMISSIONCity of MadisonAgenda - Approve...</td>\n",
       "      <td>City of MadisonMadison, WI  53703www.cityofmad...</td>\n",
       "      <td>[meeting, plan, planning, city, comments, comm...</td>\n",
       "      <td>[meeting, meetings, plan, planning, zellers, m...</td>\n",
       "      <td>Thursday</td>\n",
       "      <td>4</td>\n",
       "      <td>15</td>\n",
       "      <td>Plan Commission Public Comment Period\\nPotenti...</td>\n",
       "      <td>2</td>\n",
       "    </tr>\n",
       "    <tr>\n",
       "      <th>152</th>\n",
       "      <td>99885787121</td>\n",
       "      <td>Body-Worn Camera Feasibility Review Committee:...</td>\n",
       "      <td>5:30:00 PM</td>\n",
       "      <td>7/30/2020 17:06</td>\n",
       "      <td>7:35 PM</td>\n",
       "      <td>2:28:11</td>\n",
       "      <td>23</td>\n",
       "      <td>Yes</td>\n",
       "      <td>https://madison.legistar.com/View.ashx?M=A&amp;ID=...</td>\n",
       "      <td>https://madison.legistar.com/View.ashx?M=M&amp;ID=...</td>\n",
       "      <td>148.033</td>\n",
       "      <td>BODY-WORN CAMERA FEASIBILITY REVIEW COMMITTEEC...</td>\n",
       "      <td>City of MadisonMadison, WI  53703www.cityofmad...</td>\n",
       "      <td>[meeting, meetings, discussion, pdf, committee...</td>\n",
       "      <td>[committee, costs, cost, body, video, vendor, ...</td>\n",
       "      <td>Thursday</td>\n",
       "      <td>4</td>\n",
       "      <td>17</td>\n",
       "      <td>PUBLIC COMMENT FOR THE 7/30/2020 MEETING OF TH...</td>\n",
       "      <td>5</td>\n",
       "    </tr>\n",
       "    <tr>\n",
       "      <th>153</th>\n",
       "      <td>94972195424</td>\n",
       "      <td>Task Force on Municipal Golf in Madison Parks:...</td>\n",
       "      <td>6:00:00 PM</td>\n",
       "      <td>7/30/2020 17:35</td>\n",
       "      <td>8:24 PM</td>\n",
       "      <td>2:49:27</td>\n",
       "      <td>81</td>\n",
       "      <td>Yes</td>\n",
       "      <td>https://madison.legistar.com/View.ashx?M=A&amp;ID=...</td>\n",
       "      <td>https://madison.legistar.com/View.ashx?M=M&amp;ID=...</td>\n",
       "      <td>169.033</td>\n",
       "      <td>TASK FORCE ON MUNICIPAL GOLF IN MADISON PARKSC...</td>\n",
       "      <td>City of MadisonMadison, WI  53703www.cityofmad...</td>\n",
       "      <td>[meeting, madison, comments, comment, public, ...</td>\n",
       "      <td>[golf, city, kopp, minutes, motion, henak, for...</td>\n",
       "      <td>Thursday</td>\n",
       "      <td>4</td>\n",
       "      <td>17</td>\n",
       "      <td>Task Force Deliberation, Discussion, and Possi...</td>\n",
       "      <td>1</td>\n",
       "    </tr>\n",
       "    <tr>\n",
       "      <th>154</th>\n",
       "      <td>91732772846</td>\n",
       "      <td>Deferred Compensation Committee Lincoln/ABG Se...</td>\n",
       "      <td>1:30:00 PM</td>\n",
       "      <td>7/31/2020 12:59</td>\n",
       "      <td>2:50 PM</td>\n",
       "      <td>1:50:47</td>\n",
       "      <td>35</td>\n",
       "      <td>No</td>\n",
       "      <td>https://madison.legistar.com/View.ashx?M=A&amp;ID=...</td>\n",
       "      <td>NaN</td>\n",
       "      <td>110.017</td>\n",
       "      <td>DEFERRED COMPENSATION COMMITTEECity of Madison...</td>\n",
       "      <td>N/A</td>\n",
       "      <td>[compensation, committee meeting virtually, re...</td>\n",
       "      <td>[]</td>\n",
       "      <td>Friday</td>\n",
       "      <td>5</td>\n",
       "      <td>12</td>\n",
       "      <td>Fiduciary Investment Review:\\n-Market Review\\n...</td>\n",
       "      <td>2</td>\n",
       "    </tr>\n",
       "  </tbody>\n",
       "</table>\n",
       "<p>155 rows × 20 columns</p>\n",
       "</div>"
      ],
      "text/plain": [
       "      Meeting_ID                                              Topic  \\\n",
       "0      954410442                                               CCEC   \n",
       "1      531697510                                     Common Council   \n",
       "2      411578576        Finance Committee: Meeting of April 6, 2020   \n",
       "3      563608269                     CCEC: Meeting of April 9, 2020   \n",
       "4      468948855         Plan Commission: Meeting of April 13, 2020   \n",
       "..           ...                                                ...   \n",
       "150  93491014777  Public Safety Review Committee Budget Subcommi...   \n",
       "151  98563848547          Plan Commission: Meeting of July 30, 2020   \n",
       "152  99885787121  Body-Worn Camera Feasibility Review Committee:...   \n",
       "153  94972195424  Task Force on Municipal Golf in Madison Parks:...   \n",
       "154  91732772846  Deferred Compensation Committee Lincoln/ABG Se...   \n",
       "\n",
       "    Scheduled_Start_Time Zoom_Meeting_Start_Time Zoom_Meeting_End_Time  \\\n",
       "0             4:30:00 PM         3/31/2020 15:40               6:27 PM   \n",
       "1             6:30:00 PM         3/31/2020 17:04    02:53 AM(Next day)   \n",
       "2             4:30:00 PM          4/6/2020 15:40               5:49 PM   \n",
       "3             6:00:00 PM          4/9/2020 16:57               7:53 PM   \n",
       "4             5:30:00 PM         4/13/2020 16:35               9:14 PM   \n",
       "..                   ...                     ...                   ...   \n",
       "150                  NaN         7/29/2020 17:46               8:17 PM   \n",
       "151           5:00:00 PM         7/30/2020 15:58               8:06 PM   \n",
       "152           5:30:00 PM         7/30/2020 17:06               7:35 PM   \n",
       "153           6:00:00 PM         7/30/2020 17:35               8:24 PM   \n",
       "154           1:30:00 PM         7/31/2020 12:59               2:50 PM   \n",
       "\n",
       "    Duration  Participants Recording  \\\n",
       "0    2:47:55            52       Yes   \n",
       "1    9:48:36           337       Yes   \n",
       "2    2:09:00            31       Yes   \n",
       "3    2:56:08            36       Yes   \n",
       "4    4:38:54            80       Yes   \n",
       "..       ...           ...       ...   \n",
       "150  2:30:50            21       Yes   \n",
       "151  4:08:29            54       Yes   \n",
       "152  2:28:11            23       Yes   \n",
       "153  2:49:27            81       Yes   \n",
       "154  1:50:47            35        No   \n",
       "\n",
       "                                           Agenda_Link  \\\n",
       "0    https://madison.legistar.com/View.ashx?M=A&ID=...   \n",
       "1    https://madison.legistar.com/View.ashx?M=A&ID=...   \n",
       "2    https://madison.legistar.com/View.ashx?M=A&ID=...   \n",
       "3    https://madison.legistar.com/View.ashx?M=A&ID=...   \n",
       "4    https://madison.legistar.com/View.ashx?M=A&ID=...   \n",
       "..                                                 ...   \n",
       "150                                                NaN   \n",
       "151  https://madison.legistar.com/View.ashx?M=A&ID=...   \n",
       "152  https://madison.legistar.com/View.ashx?M=A&ID=...   \n",
       "153  https://madison.legistar.com/View.ashx?M=A&ID=...   \n",
       "154  https://madison.legistar.com/View.ashx?M=A&ID=...   \n",
       "\n",
       "                                          Minutes_Link Duration_minutes  \\\n",
       "0    https://madison.legistar.com/View.ashx?M=M&ID=...          167.033   \n",
       "1    https://madison.legistar.com/View.ashx?M=M&ID=...           588.15   \n",
       "2    https://madison.legistar.com/View.ashx?M=M&ID=...          129.033   \n",
       "3    https://madison.legistar.com/View.ashx?M=M&ID=...          176.033   \n",
       "4    https://madison.legistar.com/View.ashx?M=M&ID=...          278.067   \n",
       "..                                                 ...              ...   \n",
       "150                                                NaN          150.033   \n",
       "151  https://madison.legistar.com/View.ashx?M=M&ID=...          248.067   \n",
       "152  https://madison.legistar.com/View.ashx?M=M&ID=...          148.033   \n",
       "153  https://madison.legistar.com/View.ashx?M=M&ID=...          169.033   \n",
       "154                                                NaN          110.017   \n",
       "\n",
       "                                                  text  \\\n",
       "0    COMMON COUNCIL EXECUTIVE COMMITTEECity of Madi...   \n",
       "1    COMMON COUNCILCity of MadisonAgenda - AmendedC...   \n",
       "2    FINANCE COMMITTEECity of MadisonAgenda - Appro...   \n",
       "3    COMMON COUNCIL EXECUTIVE COMMITTEECity of Madi...   \n",
       "4    PLAN COMMISSIONCity of MadisonAgenda - Approve...   \n",
       "..                                                 ...   \n",
       "150                                                N/A   \n",
       "151  PLAN COMMISSIONCity of MadisonAgenda - Approve...   \n",
       "152  BODY-WORN CAMERA FEASIBILITY REVIEW COMMITTEEC...   \n",
       "153  TASK FORCE ON MUNICIPAL GOLF IN MADISON PARKSC...   \n",
       "154  DEFERRED COMPENSATION COMMITTEECity of Madison...   \n",
       "\n",
       "                                             note_text  \\\n",
       "0    City of MadisonMadison, WI  53703www.cityofmad...   \n",
       "1    City of MadisonMadison, WI  53703www.cityofmad...   \n",
       "2    City of MadisonMadison, WI  53703www.cityofmad...   \n",
       "3    City of MadisonMadison, WI  53703www.cityofmad...   \n",
       "4    City of MadisonMadison, WI  53703www.cityofmad...   \n",
       "..                                                 ...   \n",
       "150                                                N/A   \n",
       "151  City of MadisonMadison, WI  53703www.cityofmad...   \n",
       "152  City of MadisonMadison, WI  53703www.cityofmad...   \n",
       "153  City of MadisonMadison, WI  53703www.cityofmad...   \n",
       "154                                                N/A   \n",
       "\n",
       "                                            agenda_key  \\\n",
       "0    [committee, council, madison, public, city, co...   \n",
       "1    [sponsors, plans, planning, plan, planned, pub...   \n",
       "2    [finance, meeting, covid, city, program, trans...   \n",
       "3    [comments, comment, city, meeting, meetings, c...   \n",
       "4    [building, buildings, plan, planning, plans, p...   \n",
       "..                                                 ...   \n",
       "150                                                 []   \n",
       "151  [meeting, plan, planning, city, comments, comm...   \n",
       "152  [meeting, meetings, discussion, pdf, committee...   \n",
       "153  [meeting, madison, comments, comment, public, ...   \n",
       "154  [compensation, committee meeting virtually, re...   \n",
       "\n",
       "                                              note_key day_of_week  \\\n",
       "0    [ald, city, council, committee, kemble, bidar,...     Tuesday   \n",
       "1    [sponsors, streets, street, res, city, approve...     Tuesday   \n",
       "2    [motion, bidar, moreland, meter, mckinney, com...      Monday   \n",
       "3    [ald, information, informative, staff, eoc, co...    Thursday   \n",
       "4    [police, update, chief, public, minutes, motio...      Monday   \n",
       "..                                                 ...         ...   \n",
       "150                                                 []   Wednesday   \n",
       "151  [meeting, meetings, plan, planning, zellers, m...    Thursday   \n",
       "152  [committee, costs, cost, body, video, vendor, ...    Thursday   \n",
       "153  [golf, city, kopp, minutes, motion, henak, for...    Thursday   \n",
       "154                                                 []      Friday   \n",
       "\n",
       "    day_of_week_coded  starting_formatted  \\\n",
       "0                   2                  15   \n",
       "1                   2                  17   \n",
       "2                   1                  15   \n",
       "3                   4                  16   \n",
       "4                   1                  16   \n",
       "..                ...                 ...   \n",
       "150                 3                  17   \n",
       "151                 4                  15   \n",
       "152                 4                  17   \n",
       "153                 4                  17   \n",
       "154                 5                  12   \n",
       "\n",
       "                                            agenda_num  agenda_amount  \n",
       "0    Establishing a Body-Worn Camera Feasibility Re...              7  \n",
       "1    Commerating the 50th anniversary of Earth Day ...            116  \n",
       "2    A Resolution to authorize the noncompetitive p...              6  \n",
       "3    Discuss Council's Role & Response during COVID...              2  \n",
       "4    General Public Correspondence to the Plan Comm...             22  \n",
       "..                                                 ...            ...  \n",
       "150                                                N/A              3  \n",
       "151  Plan Commission Public Comment Period\\nPotenti...              2  \n",
       "152  PUBLIC COMMENT FOR THE 7/30/2020 MEETING OF TH...              5  \n",
       "153  Task Force Deliberation, Discussion, and Possi...              1  \n",
       "154  Fiduciary Investment Review:\\n-Market Review\\n...              2  \n",
       "\n",
       "[155 rows x 20 columns]"
      ]
     },
     "execution_count": 35,
     "metadata": {},
     "output_type": "execute_result"
    }
   ],
   "source": [
    "meeting"
   ]
  },
  {
   "cell_type": "code",
   "execution_count": 36,
   "metadata": {},
   "outputs": [],
   "source": [
    "X = meeting[['agenda_amount','Duration_minutes','day_of_week_coded']]\n",
    "time_block = []\n",
    "for x in meeting['starting_formatted']:\n",
    "    if 9<=x<=17:\n",
    "        time_block.append(2)\n",
    "    elif x >17:\n",
    "        time_block.append(3)\n",
    "    else:\n",
    "        time_block.append(1)\n",
    "X['starting_formatted']=time_block\n"
   ]
  },
  {
   "cell_type": "code",
   "execution_count": 37,
   "metadata": {},
   "outputs": [],
   "source": [
    "y = meeting['Participants']\n",
    "regr = linear_model.LinearRegression()\n",
    "regr.fit(X, y)\n",
    "encoded_time_block = 15\n",
    "agenda_count = 10\n",
    "duration = 60\n",
    "weekday_coded = 2"
   ]
  },
  {
   "cell_type": "code",
   "execution_count": 39,
   "metadata": {
    "scrolled": false
   },
   "outputs": [
    {
     "name": "stdout",
     "output_type": "stream",
     "text": [
      "(Test Case) The number of Partipants will be around [-3.95242465] people \n",
      "\n",
      "Number of Participants ~= 0.12071790346548994*starting_formatted + 0.12071790346548994*agenda_amount + 0.12071790346548994*Duration_minutes + 0.12071790346548994*day_of_week_coded + -42.151429802965296\n"
     ]
    }
   ],
   "source": [
    "predicted = regr.predict([[encoded_time_block, agenda_count, duration,weekday_coded]])\n",
    "print('(Test Case) The number of Partipants will be around {} people \\n'.format(predicted))\n",
    "\n",
    "\n",
    "def formula(reg, columns):\n",
    "    rv = \"\"\n",
    "    for i in range(len(columns)):\n",
    "        rv += \"{}*{} + \".format(reg.coef_[0], columns[i])\n",
    "    rv += str(reg.intercept_)\n",
    "    return rv\n",
    "\n",
    "print(\"Number of Participants ~= \" + formula(regr, ['starting_formatted', 'agenda_amount','Duration_minutes','day_of_week_coded']))\n",
    "\n",
    "\n",
    "\n"
   ]
  },
  {
   "cell_type": "markdown",
   "metadata": {},
   "source": [
    "# Histogram of Participants"
   ]
  },
  {
   "cell_type": "code",
   "execution_count": 270,
   "metadata": {},
   "outputs": [
    {
     "data": {
      "text/plain": [
       "count    155.000000\n",
       "mean      56.019355\n",
       "std       51.616904\n",
       "min        9.000000\n",
       "25%       25.000000\n",
       "50%       39.000000\n",
       "75%       65.000000\n",
       "max      337.000000\n",
       "Name: Participants, dtype: float64"
      ]
     },
     "execution_count": 270,
     "metadata": {},
     "output_type": "execute_result"
    }
   ],
   "source": [
    "meeting['Participants'].describe()"
   ]
  },
  {
   "cell_type": "code",
   "execution_count": 380,
   "metadata": {
    "scrolled": true
   },
   "outputs": [
    {
     "data": {
      "image/png": "[encoded data removed]",
      "text/plain": [
       "<Figure size 576x360 with 1 Axes>"
      ]
     },
     "metadata": {
      "needs_background": "light"
     },
     "output_type": "display_data"
    }
   ],
   "source": [
    "fig, ax = plt.subplots(figsize =(8,5))\n",
    "meeting.hist(column='Participants',ax=ax, bins=100)\n",
    "ax.set_ylabel(\"Frequency\")\n",
    "ax.set_xlabel(\"Participants Per Meeting\")\n",
    "ax.spines['right'].set_visible(False)\n",
    "ax.spines['top'].set_visible(False)\n",
    "plt.savefig('Participants_hist.EPS')"
   ]
  },
  {
   "cell_type": "code",
   "execution_count": 272,
   "metadata": {},
   "outputs": [
    {
     "data": {
      "text/plain": [
       "56.019354838709674"
      ]
     },
     "execution_count": 272,
     "metadata": {},
     "output_type": "execute_result"
    }
   ],
   "source": [
    "meeting['Participants'].mean()"
   ]
  },
  {
   "cell_type": "markdown",
   "metadata": {},
   "source": [
    "# Playing around with Text Analysis"
   ]
  },
  {
   "cell_type": "code",
   "execution_count": 273,
   "metadata": {},
   "outputs": [
    {
     "name": "stdout",
     "output_type": "stream",
     "text": [
      "showing info https://raw.githubusercontent.com/nltk/nltk_data/gh-pages/index.xml\n"
     ]
    },
    {
     "data": {
      "text/plain": [
       "True"
      ]
     },
     "execution_count": 273,
     "metadata": {},
     "output_type": "execute_result"
    }
   ],
   "source": [
    "import nltk\n",
    "import ssl\n",
    "\n",
    "try:\n",
    "    _create_unverified_https_context = ssl._create_unverified_context\n",
    "except AttributeError:\n",
    "    pass\n",
    "else:\n",
    "    ssl._create_default_https_context = _create_unverified_https_context\n",
    "\n",
    "nltk.download()"
   ]
  },
  {
   "cell_type": "code",
   "execution_count": 274,
   "metadata": {},
   "outputs": [],
   "source": [
    "import nltk\n",
    "# nltk.download('stopwords')\n",
    "# nltk.download('wordnet')\n",
    "from nltk import corpus\n",
    "from nltk.corpus import stopwords\n",
    "from nltk.stem import PorterStemmer\n",
    "from nltk.tokenize import RegexpTokenizer\n",
    "from nltk.stem.wordnet import WordNetLemmatizer"
   ]
  },
  {
   "cell_type": "markdown",
   "metadata": {},
   "source": [
    "# 2. Create a list of stop words\n"
   ]
  },
  {
   "cell_type": "code",
   "execution_count": 275,
   "metadata": {},
   "outputs": [],
   "source": [
    "# Create a list of stop words from nltk\n",
    "stop_words = set(stopwords.words(\"english\"))"
   ]
  },
  {
   "cell_type": "code",
   "execution_count": 276,
   "metadata": {},
   "outputs": [
    {
     "data": {
      "text/plain": [
       "0      Establishing a Body-Worn Camera Feasibility Re...\n",
       "1      Commerating the 50th anniversary of Earth Day ...\n",
       "2      A Resolution to authorize the noncompetitive p...\n",
       "3      Discuss Council's Role & Response during COVID...\n",
       "4      General Public Correspondence to the Plan Comm...\n",
       "                             ...                        \n",
       "150                                                  N/A\n",
       "151    Plan Commission Public Comment Period\\nPotenti...\n",
       "152    PUBLIC COMMENT FOR THE 7/30/2020 MEETING OF TH...\n",
       "153    Task Force Deliberation, Discussion, and Possi...\n",
       "154    Fiduciary Investment Review:\\n-Market Review\\n...\n",
       "Name: agenda_num, Length: 155, dtype: object"
      ]
     },
     "execution_count": 276,
     "metadata": {},
     "output_type": "execute_result"
    }
   ],
   "source": [
    "meeting['agenda_num']"
   ]
  },
  {
   "cell_type": "markdown",
   "metadata": {},
   "source": [
    "# 3. Pre-process the dataset to get a cleaned, normalized text corpus¶\n"
   ]
  },
  {
   "cell_type": "code",
   "execution_count": 277,
   "metadata": {},
   "outputs": [
    {
     "data": {
      "text/plain": [
       "0      City of MadisonMadison, WI  53703www.cityofmad...\n",
       "1      City of MadisonMadison, WI  53703www.cityofmad...\n",
       "2      City of MadisonMadison, WI  53703www.cityofmad...\n",
       "3      City of MadisonMadison, WI  53703www.cityofmad...\n",
       "4      City of MadisonMadison, WI  53703www.cityofmad...\n",
       "                             ...                        \n",
       "150                                                  N/A\n",
       "151    City of MadisonMadison, WI  53703www.cityofmad...\n",
       "152    City of MadisonMadison, WI  53703www.cityofmad...\n",
       "153    City of MadisonMadison, WI  53703www.cityofmad...\n",
       "154                                                  N/A\n",
       "Name: note_text, Length: 155, dtype: object"
      ]
     },
     "execution_count": 277,
     "metadata": {},
     "output_type": "execute_result"
    }
   ],
   "source": [
    "meeting['note_text']"
   ]
  },
  {
   "cell_type": "code",
   "execution_count": 359,
   "metadata": {},
   "outputs": [],
   "source": [
    "# Pre-process dataset to get a cleaned and normalised text corpus\n",
    "corpus = []\n",
    "meeting['note_text']\n",
    "ds_count = len(meeting.agenda_num)\n",
    "for i in range(0, ds_count):\n",
    "    # Remove punctuation\n",
    "    text = re.sub('[^a-zA-Z]', ' ', str(meeting['agenda_num'][i]))\n",
    "    \n",
    "    # Convert to lowercase\n",
    "    text = text.lower()\n",
    "    \n",
    "    # Remove tags\n",
    "    text=re.sub(\"&lt;/?.*?&gt;\",\" &lt;&gt; \",text)\n",
    "    \n",
    "    # Remove special characters and digits\n",
    "    text=re.sub(\"(\\\\d|\\\\W)+\",\" \",text)\n",
    "    \n",
    "    # Convert to list from string\n",
    "    text = text.split()\n",
    "    \n",
    "    # Stemming\n",
    "    ps=PorterStemmer()\n",
    "    \n",
    "    # Lemmatisation\n",
    "    lem = WordNetLemmatizer()\n",
    "    text = [lem.lemmatize(word) for word in text if not word in  \n",
    "            stop_words] \n",
    "    text = \" \".join(text)\n",
    "    corpus.append(text)"
   ]
  },
  {
   "cell_type": "code",
   "execution_count": 360,
   "metadata": {},
   "outputs": [],
   "source": [
    "# Tokenize the text and build a vocabulary of known words\n",
    "from sklearn.feature_extraction.text import CountVectorizer\n",
    "import re\n",
    "cv=CountVectorizer(max_df=0.8,stop_words=stop_words, max_features=10000, ngram_range=(1,3))\n",
    "X=cv.fit_transform(corpus)"
   ]
  },
  {
   "cell_type": "code",
   "execution_count": 361,
   "metadata": {},
   "outputs": [],
   "source": [
    "# Sample the returned vector encoding the length of the entire vocabulary\n",
    "# list(cv.vocabulary_.keys())"
   ]
  },
  {
   "cell_type": "markdown",
   "metadata": {},
   "source": [
    "# 4. Extract most frequently occurring keywords and n-grams¶\n"
   ]
  },
  {
   "cell_type": "code",
   "execution_count": 384,
   "metadata": {
    "scrolled": false
   },
   "outputs": [
    {
     "name": "stderr",
     "output_type": "stream",
     "text": [
      "The PostScript backend does not support transparency; partially transparent artists will be rendered opaque.\n",
      "The PostScript backend does not support transparency; partially transparent artists will be rendered opaque.\n"
     ]
    },
    {
     "name": "stdout",
     "output_type": "stream",
     "text": [
      "        Keyword  Frequency\n",
      "0      district        759\n",
      "1            th        621\n",
      "2       madison        527\n",
      "3          city        492\n",
      "4    aldermanic        396\n",
      "5        public        370\n",
      "6         class        369\n",
      "7        street        365\n",
      "8   authorizing        356\n",
      "9            ad        343\n",
      "10        alder        324\n",
      "11       police        307\n",
      "12          dba        302\n",
      "13        agent        298\n",
      "14         beer        294\n",
      "15       liquor        289\n",
      "16      general        277\n",
      "17          new        277\n",
      "18         plan        261\n",
      "19     contract        250\n"
     ]
    },
    {
     "data": {
      "image/png": "[encoded data removed]",
      "text/plain": [
       "<Figure size 720x432 with 1 Axes>"
      ]
     },
     "metadata": {
      "needs_background": "light"
     },
     "output_type": "display_data"
    }
   ],
   "source": [
    "# View most frequently occuring keywords\n",
    "def get_top_n_words(corpus, n=None):\n",
    "    vec = CountVectorizer().fit(corpus)\n",
    "    bag_of_words = vec.transform(corpus)\n",
    "    sum_words = bag_of_words.sum(axis=0) \n",
    "    words_freq = [(word, sum_words[0, idx]) for word, idx in      \n",
    "                   vec.vocabulary_.items()]\n",
    "    words_freq =sorted(words_freq, key = lambda x: x[1], \n",
    "                       reverse=True)\n",
    "    return words_freq[:n]\n",
    "\n",
    "# Convert most freq words to dataframe for plotting bar plot, save as CSV\n",
    "top_words = get_top_n_words(corpus, n=20)\n",
    "top_df = DataFrame(top_words)\n",
    "top_df.columns=[\"Keyword\", \"Frequency\"]\n",
    "print(top_df)\n",
    "top_df.to_csv('_top_words.csv')\n",
    "\n",
    "# Barplot of most freq words\n",
    "# import seaborn as sns\n",
    "# sns.set(rc={'figure.figsize':(13,8)})\n",
    "fig, ax = plt.subplots(figsize = (10,6))\n",
    "top_df.plot.bar(x=\"Keyword\",ax=ax)\n",
    "\n",
    "ax.set_ylabel(\"Frequency\")\n",
    "ax.spines['right'].set_visible(False)\n",
    "ax.spines['top'].set_visible(False)\n",
    "ax.set_title('Top 20 Most Occuring Keywords in Overall Agendas')\n",
    "plt.xticks(rotation=45) \n",
    "# g.set_xticklabels(g.get_xticklabels(), rotation=45)\n",
    "# g.figure.savefig(\"_keyword.png\", bbox_inches = \"tight\")\n",
    "# plt.clf()\n",
    "plt.savefig('top20keywords.EPS')"
   ]
  },
  {
   "cell_type": "markdown",
   "metadata": {},
   "source": [
    "**Implementing Keywords into Multiple Regression**\n",
    "**Run the above top keyword with meeting['note_text'] first**\n",
    "\n"
   ]
  },
  {
   "cell_type": "markdown",
   "metadata": {},
   "source": [
    "Run the Regression cell above first"
   ]
  },
  {
   "cell_type": "code",
   "execution_count": 312,
   "metadata": {},
   "outputs": [
    {
     "data": {
      "text/html": [
       "<div>\n",
       "<style scoped>\n",
       "    .dataframe tbody tr th:only-of-type {\n",
       "        vertical-align: middle;\n",
       "    }\n",
       "\n",
       "    .dataframe tbody tr th {\n",
       "        vertical-align: top;\n",
       "    }\n",
       "\n",
       "    .dataframe thead th {\n",
       "        text-align: right;\n",
       "    }\n",
       "</style>\n",
       "<table border=\"1\" class=\"dataframe\">\n",
       "  <thead>\n",
       "    <tr style=\"text-align: right;\">\n",
       "      <th></th>\n",
       "      <th>agenda_amount</th>\n",
       "      <th>Duration_minutes</th>\n",
       "      <th>day_of_week_coded</th>\n",
       "      <th>starting_formatted</th>\n",
       "    </tr>\n",
       "  </thead>\n",
       "  <tbody>\n",
       "    <tr>\n",
       "      <th>0</th>\n",
       "      <td>7</td>\n",
       "      <td>167.033</td>\n",
       "      <td>2</td>\n",
       "      <td>2</td>\n",
       "    </tr>\n",
       "    <tr>\n",
       "      <th>1</th>\n",
       "      <td>116</td>\n",
       "      <td>588.15</td>\n",
       "      <td>2</td>\n",
       "      <td>2</td>\n",
       "    </tr>\n",
       "    <tr>\n",
       "      <th>2</th>\n",
       "      <td>6</td>\n",
       "      <td>129.033</td>\n",
       "      <td>1</td>\n",
       "      <td>2</td>\n",
       "    </tr>\n",
       "    <tr>\n",
       "      <th>3</th>\n",
       "      <td>2</td>\n",
       "      <td>176.033</td>\n",
       "      <td>4</td>\n",
       "      <td>2</td>\n",
       "    </tr>\n",
       "    <tr>\n",
       "      <th>4</th>\n",
       "      <td>22</td>\n",
       "      <td>278.067</td>\n",
       "      <td>1</td>\n",
       "      <td>2</td>\n",
       "    </tr>\n",
       "    <tr>\n",
       "      <th>...</th>\n",
       "      <td>...</td>\n",
       "      <td>...</td>\n",
       "      <td>...</td>\n",
       "      <td>...</td>\n",
       "    </tr>\n",
       "    <tr>\n",
       "      <th>150</th>\n",
       "      <td>3</td>\n",
       "      <td>150.033</td>\n",
       "      <td>3</td>\n",
       "      <td>2</td>\n",
       "    </tr>\n",
       "    <tr>\n",
       "      <th>151</th>\n",
       "      <td>2</td>\n",
       "      <td>248.067</td>\n",
       "      <td>4</td>\n",
       "      <td>2</td>\n",
       "    </tr>\n",
       "    <tr>\n",
       "      <th>152</th>\n",
       "      <td>5</td>\n",
       "      <td>148.033</td>\n",
       "      <td>4</td>\n",
       "      <td>2</td>\n",
       "    </tr>\n",
       "    <tr>\n",
       "      <th>153</th>\n",
       "      <td>1</td>\n",
       "      <td>169.033</td>\n",
       "      <td>4</td>\n",
       "      <td>2</td>\n",
       "    </tr>\n",
       "    <tr>\n",
       "      <th>154</th>\n",
       "      <td>2</td>\n",
       "      <td>110.017</td>\n",
       "      <td>5</td>\n",
       "      <td>2</td>\n",
       "    </tr>\n",
       "  </tbody>\n",
       "</table>\n",
       "<p>155 rows × 4 columns</p>\n",
       "</div>"
      ],
      "text/plain": [
       "     agenda_amount Duration_minutes day_of_week_coded  starting_formatted\n",
       "0                7          167.033                 2                   2\n",
       "1              116           588.15                 2                   2\n",
       "2                6          129.033                 1                   2\n",
       "3                2          176.033                 4                   2\n",
       "4               22          278.067                 1                   2\n",
       "..             ...              ...               ...                 ...\n",
       "150              3          150.033                 3                   2\n",
       "151              2          248.067                 4                   2\n",
       "152              5          148.033                 4                   2\n",
       "153              1          169.033                 4                   2\n",
       "154              2          110.017                 5                   2\n",
       "\n",
       "[155 rows x 4 columns]"
      ]
     },
     "execution_count": 312,
     "metadata": {},
     "output_type": "execute_result"
    }
   ],
   "source": [
    "X"
   ]
  },
  {
   "cell_type": "code",
   "execution_count": 368,
   "metadata": {},
   "outputs": [],
   "source": [
    "X = meeting[['agenda_amount','Duration_minutes','day_of_week_coded']]\n",
    "time_block = []\n",
    "for x in meeting['starting_formatted']:\n",
    "    if 9<=x<=17:\n",
    "        time_block.append(2)\n",
    "    elif x >17:\n",
    "        time_block.append(3)\n",
    "    else:\n",
    "        time_block.append(1)\n",
    "X['starting_formatted']=time_block"
   ]
  },
  {
   "cell_type": "code",
   "execution_count": 369,
   "metadata": {},
   "outputs": [],
   "source": [
    "top_20 = list(top_df.drop([1,8])['Keyword'])\n",
    "for top_word in top_20:\n",
    "    word_count=[]\n",
    "    for text in meeting['note_text']:\n",
    "        if top_word in text.lower().split():\n",
    "            word_count.append(1)\n",
    "        else:\n",
    "            word_count.append(0)\n",
    "    X[top_word]=word_count"
   ]
  },
  {
   "cell_type": "code",
   "execution_count": 377,
   "metadata": {},
   "outputs": [],
   "source": [
    "y = meeting['Participants']\n",
    "regr = linear_model.LinearRegression()\n",
    "regr.fit(X, y)\n",
    "agenda_numbers=10\n",
    "Duration_minutes=50\n",
    "day_of_week_coded=5\n",
    "district=0\n",
    "madison=0\n",
    "city=0\n",
    "aldermanic=0\n",
    "public=0\n",
    "class_=0\n",
    "street=0\n",
    "ad=0\n",
    "alder=0\n",
    "police=0\n",
    "dba=0\n",
    "agent=0\n",
    "beer=0\n",
    "liquor=0\n",
    "general=0\n",
    "new=0\n",
    "plan=0\n",
    "contract=0\n",
    "\n",
    "\n",
    "predicted = regr.predict([[agenda_numbers,Duration_minutes,day_of_week_coded,starting_coded,district,madison,city,aldermanic,public,class_,street,ad,alder,police,dba,agent,beer,liquor,general,new,plan,contract]])\n",
    "\n",
    "\n",
    "\n"
   ]
  },
  {
   "cell_type": "code",
   "execution_count": 378,
   "metadata": {},
   "outputs": [
    {
     "name": "stdout",
     "output_type": "stream",
     "text": [
      "(Test Case) The number of Partipants will be around [6.70136081] people \n",
      "\n",
      "Keywords from agenda_num applied on note_text\n",
      "Number of Participants ~= 0.5046074346315635*agenda_amount + 0.3252237369589667*Duration_minutes + -0.5687704719699652*day_of_week_coded + 12.75946769659755*starting_formatted + -7.788741483318138*district + 6.5815169662160296*madison + 6.581516966215995*city + 34.71268272535602*aldermanic + 12.054833553619423*public + -38.07100177969564*class + -8.136800819475164*street + -0.6532974570977177*ad + -7.553101846314409*alder + 3.8604038000102094*police + -6.743626082937745*dba + -0.5102251922715202*agent + -6.743626082937754*beer + -6.743626082937754*liquor + -22.02882919086806*general + -6.445809362395887*new + -10.28904627131848*plan + -3.448796385910568*contract + -10.849966498419846\n"
     ]
    }
   ],
   "source": [
    "print('(Test Case) The number of Partipants will be around {} people \\n'.format(predicted))\n",
    "\n",
    "print(\"Keywords from agenda_num applied on note_text\")\n",
    "\n",
    "\n",
    "def formula(reg, columns):\n",
    "    rv = \"\"\n",
    "    for i in range(len(columns)):\n",
    "        rv += \"{}*{} + \".format(reg.coef_[i], columns[i])\n",
    "    rv += str(r.intercept_)\n",
    "    return rv\n",
    "\n",
    "print(\"Number of Participants ~= \" + formula(regr, list(X.columns)))\n",
    "\n",
    "\n"
   ]
  },
  {
   "cell_type": "markdown",
   "metadata": {},
   "source": [
    "**Multiple Regression one 1's or 0's for each Keyword** \n",
    "\n",
    "Used the keywords from meetings['agenda_nums'] and tested frequency in meetings['agenda_nums']"
   ]
  },
  {
   "cell_type": "code",
   "execution_count": 339,
   "metadata": {},
   "outputs": [],
   "source": [
    "X_with_one = meeting[['agenda_amount','Duration_minutes','day_of_week_coded']]\n",
    "time_block = []\n",
    "for x in meeting['starting_formatted']:\n",
    "    if 9<=x<=17:\n",
    "        time_block.append(2)\n",
    "    elif x >17:\n",
    "        time_block.append(3)\n",
    "    else:\n",
    "        time_block.append(1)\n",
    "X_with_one['starting_formatted']=time_block\n",
    "\n",
    "top_20 = list(top_df.drop([1,8])['Keyword'])\n",
    "for top_word in top_20:\n",
    "    word_count=[]\n",
    "    for text in meeting['agenda_num']:\n",
    "        if top_word in text.lower().split():\n",
    "            word_count.append(1)\n",
    "        else:\n",
    "            word_count.append(0)\n",
    "    X_with_one[top_word]=word_count\n",
    "\n"
   ]
  },
  {
   "cell_type": "code",
   "execution_count": 350,
   "metadata": {},
   "outputs": [
    {
     "data": {
      "text/plain": [
       "['district',\n",
       " 'madison',\n",
       " 'city',\n",
       " 'aldermanic',\n",
       " 'public',\n",
       " 'class',\n",
       " 'street',\n",
       " 'ad',\n",
       " 'alder',\n",
       " 'police',\n",
       " 'dba',\n",
       " 'agent',\n",
       " 'beer',\n",
       " 'liquor',\n",
       " 'general',\n",
       " 'new',\n",
       " 'plan',\n",
       " 'contract']"
      ]
     },
     "execution_count": 350,
     "metadata": {},
     "output_type": "execute_result"
    }
   ],
   "source": [
    "list(X_with_one.columns[4:])"
   ]
  },
  {
   "cell_type": "code",
   "execution_count": 351,
   "metadata": {},
   "outputs": [],
   "source": [
    "y = meeting['Participants']\n",
    "regr = linear_model.LinearRegression()\n",
    "regr.fit(X_with_one, y)\n",
    "agenda_numbers=0\n",
    "Duration_minutes=50\n",
    "day_of_week_coded=5\n",
    "district=0\n",
    "madison=0\n",
    "city=0\n",
    "aldermanic=0\n",
    "public=0\n",
    "class_=0\n",
    "street=0\n",
    "ad=0\n",
    "alder=0\n",
    "police=0\n",
    "dba=0\n",
    "agent=0\n",
    "beer=0\n",
    "liquor=0\n",
    "general=0\n",
    "new=0\n",
    "plan=0\n",
    "contract=0\n",
    "\n",
    "\n",
    "predicted = regr.predict([[agenda_numbers,Duration_minutes,day_of_week_coded,starting_coded,district,madison,city,aldermanic,public,class_,street,ad,alder,police,dba,agent,beer,liquor,general,new,plan,contract]])\n",
    "\n",
    "\n"
   ]
  },
  {
   "cell_type": "code",
   "execution_count": 352,
   "metadata": {},
   "outputs": [
    {
     "name": "stdout",
     "output_type": "stream",
     "text": [
      "(Test Case) The number of Partipants will be around [12.26400276] people \n",
      "\n",
      "Number of Participants ~= 0.777030464040324*agenda_amount + 0.32179118549659586*Duration_minutes + 0.9925385425107562*day_of_week_coded + 18.76979774434339*starting_formatted + 0.552238321561672*district + 0.24579648960263353*madison + -2.0672982717949924*city + 23.11625320069768*aldermanic + -6.211979036858562*public + -18.921701320083145*class + -4.756835908907971*street + -5.448872454890948*ad + 1.4327621831747894*alder + 6.078143963686201*police + -18.92170132008315*dba + -21.15102330064195*agent + -18.92170132008314*beer + -18.921701320083145*liquor + -13.574652341275966*general + 2.5211267988591137*new + -5.443614298820999*plan + -4.751037912356473*contract + -10.849966498419846\n"
     ]
    }
   ],
   "source": [
    "print('(Test Case) The number of Partipants will be around {} people \\n'.format(predicted))\n",
    "\n",
    "print(\"Keywords from agenda_num applied on agenda_num\")\n",
    "\n",
    "\n",
    "def formula(reg, columns):\n",
    "    rv = \"\"\n",
    "    for i in range(len(columns)):\n",
    "        rv += \"{}*{} + \".format(reg.coef_[i], columns[i])\n",
    "    rv += str(r.intercept_)\n",
    "    return rv\n",
    "\n",
    "print(\"Number of Participants ~= \" + formula(regr, list(X_with_one.columns)))\n",
    "\n",
    "\n"
   ]
  },
  {
   "cell_type": "markdown",
   "metadata": {},
   "source": [
    "**Implementing n-grams**"
   ]
  },
  {
   "cell_type": "code",
   "execution_count": 409,
   "metadata": {
    "scrolled": false
   },
   "outputs": [
    {
     "name": "stderr",
     "output_type": "stream",
     "text": [
      "The PostScript backend does not support transparency; partially transparent artists will be rendered opaque.\n",
      "The PostScript backend does not support transparency; partially transparent artists will be rendered opaque.\n"
     ]
    },
    {
     "name": "stdout",
     "output_type": "stream",
     "text": [
      "                Bi-gram  Frequency\n",
      "0   aldermanic district        396\n",
      "1        district alder        295\n",
      "2                 th ad        277\n",
      "3     class combination        222\n",
      "4    combination liquor        222\n",
      "5           liquor beer        222\n",
      "6       madison general        194\n",
      "7     general ordinance        194\n",
      "8               llc dba        182\n",
      "9            city clerk        177\n",
      "10             ald dist        176\n",
      "11        police sector        174\n",
      "12         alcohol food        167\n",
      "13      food aldermanic        164\n",
      "14               th ald        149\n",
      "15         beer alcohol        148\n",
      "16         city madison        135\n",
      "17      section madison        133\n",
      "18    authorizing mayor        132\n",
      "19          public work        132\n"
     ]
    },
    {
     "data": {
      "image/png": "[encoded data removed]",
      "text/plain": [
       "<Figure size 720x432 with 1 Axes>"
      ]
     },
     "metadata": {
      "needs_background": "light"
     },
     "output_type": "display_data"
    }
   ],
   "source": [
    "# Most frequently occuring bigrams\n",
    "def get_top_n2_words(corpus, n=None):\n",
    "    vec1 = CountVectorizer(ngram_range=(2,2),  \n",
    "            max_features=2000).fit(corpus)\n",
    "    bag_of_words = vec1.transform(corpus)\n",
    "    sum_words = bag_of_words.sum(axis=0) \n",
    "    words_freq = [(word, sum_words[0, idx]) for word, idx in     \n",
    "                  vec1.vocabulary_.items()]\n",
    "    words_freq =sorted(words_freq, key = lambda x: x[1], \n",
    "                reverse=True)\n",
    "    return words_freq[:n]\n",
    "\n",
    "# Convert most freq bigrams to dataframe for plotting bar plot, save as CSV\n",
    "top2_words = get_top_n2_words(corpus, n=20)\n",
    "top2_df = DataFrame(top2_words)\n",
    "top2_df.columns=[\"Bi-gram\", \"Frequency\"]\n",
    "print(top2_df)\n",
    "top2_df.to_csv( '_bigrams.csv')\n",
    "\n",
    "# Barplot of most freq Bi-grams\n",
    "# import seaborn as sns\n",
    "# sns.set(rc={'figure.figsize':(13,8)})\n",
    "fig, ax = plt.subplots(figsize = (10,6))\n",
    "# h=plt.bar(x=\"Bi-gram\", height=\"Frequency\", data=top2_df)\n",
    "# h.set_xticklabels(h.get_xticklabels(), rotation=75)\n",
    "top2_df.plot.bar(x=\"Bi-gram\",ax=ax)\n",
    "\n",
    "ax.set_ylabel(\"Frequency\")\n",
    "ax.spines['right'].set_visible(False)\n",
    "ax.spines['top'].set_visible(False)\n",
    "ax.set_title('Top 20 Most Occuring Bi-Grams in Overall Agendas')\n",
    "plt.xticks(rotation=75) \n",
    "plt.tight_layout()\n",
    "plt.savefig(\"bi-gram.EPS\")"
   ]
  },
  {
   "cell_type": "markdown",
   "metadata": {},
   "source": [
    "Participants by starting hour"
   ]
  },
  {
   "cell_type": "code",
   "execution_count": 467,
   "metadata": {
    "scrolled": true
   },
   "outputs": [
    {
     "data": {
      "image/png": "[encoded data removed]",
      "text/plain": [
       "<Figure size 720x360 with 1 Axes>"
      ]
     },
     "metadata": {
      "needs_background": "light"
     },
     "output_type": "display_data"
    }
   ],
   "source": [
    "fig, ax = plt.subplots(figsize = (10,5))\n"
   ]
  },
  {
   "cell_type": "markdown",
   "metadata": {},
   "source": [
    "**K MEANS on 2 Columns**"
   ]
  },
  {
   "cell_type": "code",
   "execution_count": 483,
   "metadata": {},
   "outputs": [],
   "source": [
    "from sklearn.cluster import KMeans\n",
    "Kmean = KMeans(n_clusters=2)\n"
   ]
  },
  {
   "cell_type": "code",
   "execution_count": 497,
   "metadata": {},
   "outputs": [
    {
     "data": {
      "text/html": [
       "<div>\n",
       "<style scoped>\n",
       "    .dataframe tbody tr th:only-of-type {\n",
       "        vertical-align: middle;\n",
       "    }\n",
       "\n",
       "    .dataframe tbody tr th {\n",
       "        vertical-align: top;\n",
       "    }\n",
       "\n",
       "    .dataframe thead th {\n",
       "        text-align: right;\n",
       "    }\n",
       "</style>\n",
       "<table border=\"1\" class=\"dataframe\">\n",
       "  <thead>\n",
       "    <tr style=\"text-align: right;\">\n",
       "      <th></th>\n",
       "      <th>Duration_minutes</th>\n",
       "      <th>Participants</th>\n",
       "    </tr>\n",
       "  </thead>\n",
       "  <tbody>\n",
       "    <tr>\n",
       "      <th>0</th>\n",
       "      <td>167.033</td>\n",
       "      <td>52</td>\n",
       "    </tr>\n",
       "    <tr>\n",
       "      <th>1</th>\n",
       "      <td>588.15</td>\n",
       "      <td>337</td>\n",
       "    </tr>\n",
       "    <tr>\n",
       "      <th>2</th>\n",
       "      <td>129.033</td>\n",
       "      <td>31</td>\n",
       "    </tr>\n",
       "    <tr>\n",
       "      <th>3</th>\n",
       "      <td>176.033</td>\n",
       "      <td>36</td>\n",
       "    </tr>\n",
       "    <tr>\n",
       "      <th>4</th>\n",
       "      <td>278.067</td>\n",
       "      <td>80</td>\n",
       "    </tr>\n",
       "    <tr>\n",
       "      <th>...</th>\n",
       "      <td>...</td>\n",
       "      <td>...</td>\n",
       "    </tr>\n",
       "    <tr>\n",
       "      <th>150</th>\n",
       "      <td>150.033</td>\n",
       "      <td>21</td>\n",
       "    </tr>\n",
       "    <tr>\n",
       "      <th>151</th>\n",
       "      <td>248.067</td>\n",
       "      <td>54</td>\n",
       "    </tr>\n",
       "    <tr>\n",
       "      <th>152</th>\n",
       "      <td>148.033</td>\n",
       "      <td>23</td>\n",
       "    </tr>\n",
       "    <tr>\n",
       "      <th>153</th>\n",
       "      <td>169.033</td>\n",
       "      <td>81</td>\n",
       "    </tr>\n",
       "    <tr>\n",
       "      <th>154</th>\n",
       "      <td>110.017</td>\n",
       "      <td>35</td>\n",
       "    </tr>\n",
       "  </tbody>\n",
       "</table>\n",
       "<p>155 rows × 2 columns</p>\n",
       "</div>"
      ],
      "text/plain": [
       "    Duration_minutes  Participants\n",
       "0            167.033            52\n",
       "1             588.15           337\n",
       "2            129.033            31\n",
       "3            176.033            36\n",
       "4            278.067            80\n",
       "..               ...           ...\n",
       "150          150.033            21\n",
       "151          248.067            54\n",
       "152          148.033            23\n",
       "153          169.033            81\n",
       "154          110.017            35\n",
       "\n",
       "[155 rows x 2 columns]"
      ]
     },
     "execution_count": 497,
     "metadata": {},
     "output_type": "execute_result"
    }
   ],
   "source": [
    "kmean_df = meeting[['Duration_minutes','Participants']]\n",
    "kmean_df"
   ]
  },
  {
   "cell_type": "code",
   "execution_count": 494,
   "metadata": {},
   "outputs": [],
   "source": [
    "Kmean.fit(kmean_df)\n",
    "y_kmeans = Kmean.predict(kmean_df)\n"
   ]
  },
  {
   "cell_type": "code",
   "execution_count": 510,
   "metadata": {},
   "outputs": [
    {
     "data": {
      "image/png": "[encoded data removed]",
      "text/plain": [
       "<Figure size 1440x360 with 2 Axes>"
      ]
     },
     "metadata": {
      "needs_background": "light"
     },
     "output_type": "display_data"
    }
   ],
   "source": [
    "fig, ax = plt.subplots(nrows=1, ncols=2 ,figsize = (20,5))\n",
    "ax[0].scatter(x='Duration_minutes', y = 'Participants', color='purple',data=meeting)\n",
    "ax[0].set_xlabel(\"Meeting Duration in Minutes\")\n",
    "ax[0].set_ylabel(\"Number of Meeting Participants\")\n",
    "ax[0].spines['right'].set_visible(False)\n",
    "ax[0].spines['top'].set_visible(False)\n",
    "ax[0].set_title('Participants by Meeting Duration')\n",
    "ax[0].scatter(kmean_df['Duration_minutes'], kmean_df['Participants'], c=y_kmeans, s=50, cmap='viridis')\n",
    "centers = Kmean.cluster_centers_\n",
    "ax[0].scatter(centers[:, 0], centers[:, 1], c='blue', s=200, alpha=.8);\n",
    "\n",
    "\n",
    "ax[1].scatter(x='Participants', y = 'Duration_minutes', color='purple',data=meeting)\n",
    "ax[1].set_ylabel(\"Meeting Duration in Minutes\")\n",
    "ax[1].set_xlabel(\"Number of Meeting Participants\")\n",
    "ax[1].spines['right'].set_visible(False)\n",
    "ax[1].spines['top'].set_visible(False)\n",
    "ax[1].set_title('Meeting Duration by Participants')\n",
    "ax[1].set_ylim(0,650)\n",
    "ax[1].scatter( kmean_df['Participants'],kmean_df['Duration_minutes'], c=y_kmeans, s=50, cmap='viridis')\n",
    "centers = Kmean.cluster_centers_\n",
    "ax[1].scatter( centers[:, 1],centers[:, 0], c='blue', s=200, alpha=.8);\n",
    "\n",
    "lr = LinearRegression()\n",
    "poly_df=get_xterms(meeting['Participants'])\n",
    "lr.fit(poly_df, meeting[['Duration_minutes']])\n",
    "x = np.arange(0.1,350,1)\n",
    "ax[1].plot(x, lr.predict(get_xterms(x)),'r')\n",
    "plt.savefig('participants_vs_duration.png', bbox='tight')"
   ]
  },
  {
   "cell_type": "code",
   "execution_count": 3,
   "metadata": {},
   "outputs": [
    {
     "ename": "NameError",
     "evalue": "name 'plt' is not defined",
     "output_type": "error",
     "traceback": [
      "\u001b[0;31m---------------------------------------------------------------------------\u001b[0m",
      "\u001b[0;31mNameError\u001b[0m                                 Traceback (most recent call last)",
      "\u001b[0;32m<ipython-input-3-cd45395cce26>\u001b[0m in \u001b[0;36m<module>\u001b[0;34m\u001b[0m\n\u001b[0;32m----> 1\u001b[0;31m \u001b[0mfig\u001b[0m\u001b[0;34m,\u001b[0m \u001b[0max\u001b[0m \u001b[0;34m=\u001b[0m \u001b[0mplt\u001b[0m\u001b[0;34m.\u001b[0m\u001b[0msubplots\u001b[0m\u001b[0;34m(\u001b[0m\u001b[0mfigsize\u001b[0m\u001b[0;34m=\u001b[0m\u001b[0;34m(\u001b[0m\u001b[0;36m10\u001b[0m\u001b[0;34m,\u001b[0m\u001b[0;36m10\u001b[0m\u001b[0;34m)\u001b[0m\u001b[0;34m)\u001b[0m\u001b[0;34m\u001b[0m\u001b[0;34m\u001b[0m\u001b[0m\n\u001b[0m\u001b[1;32m      2\u001b[0m \u001b[0max\u001b[0m\u001b[0;34m.\u001b[0m\u001b[0mscatter\u001b[0m\u001b[0;34m(\u001b[0m\u001b[0mmeeting\u001b[0m\u001b[0;34m[\u001b[0m\u001b[0;34m'Participants'\u001b[0m\u001b[0;34m]\u001b[0m\u001b[0;34m,\u001b[0m \u001b[0mmeeting\u001b[0m\u001b[0;34m[\u001b[0m\u001b[0;34m'Duration_minutes'\u001b[0m\u001b[0;34m]\u001b[0m\u001b[0;34m,\u001b[0m \u001b[0mc\u001b[0m\u001b[0;34m=\u001b[0m\u001b[0mmeeting\u001b[0m\u001b[0;34m[\u001b[0m\u001b[0;34m'Committees'\u001b[0m\u001b[0;34m]\u001b[0m\u001b[0;34m.\u001b[0m\u001b[0mmap\u001b[0m\u001b[0;34m(\u001b[0m\u001b[0mcolors\u001b[0m\u001b[0;34m)\u001b[0m\u001b[0;34m)\u001b[0m\u001b[0;34m\u001b[0m\u001b[0;34m\u001b[0m\u001b[0m\n",
      "\u001b[0;31mNameError\u001b[0m: name 'plt' is not defined"
     ]
    }
   ],
   "source": [
    "fig, ax = plt.subplots(figsize=(10,10))\n",
    "ax.scatter(meeting['Participants'], meeting['Duration_minutes'], c=meeting['Committees'].map(colors))\n"
   ]
  },
  {
   "cell_type": "code",
   "execution_count": null,
   "metadata": {},
   "outputs": [],
   "source": []
  }
 ],
 "metadata": {
  "kernelspec": {
   "display_name": "Python 3",
   "language": "python",
   "name": "python3"
  },
  "language_info": {
   "codemirror_mode": {
    "name": "ipython",
    "version": 3
   },
   "file_extension": ".py",
   "mimetype": "text/x-python",
   "name": "python",
   "nbconvert_exporter": "python",
   "pygments_lexer": "ipython3",
   "version": "3.8.1"
  }
 },
 "nbformat": 4,
 "nbformat_minor": 4
}
