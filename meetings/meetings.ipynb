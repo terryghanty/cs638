{
 "cells": [
  {
   "cell_type": "code",
   "execution_count": 92,
   "metadata": {},
   "outputs": [],
   "source": [
    "import nltk\n",
    "import pandas as pd\n",
    "from pandas import DataFrame, Series\n",
    "import PyPDF2\n",
    "from PyPDF2 import PdfFileReader\n",
    "\n",
    "\n",
    "import requests\n",
    "import regex as re\n",
    "import datetime\n",
    "import matplotlib \n",
    "from matplotlib import pyplot as plt\n",
    "from sklearn.linear_model import LinearRegression\n",
    "import numpy as np\n"
   ]
  },
  {
   "cell_type": "code",
   "execution_count": 24,
   "metadata": {},
   "outputs": [],
   "source": [
    "meeting = DataFrame(pd.read_csv(\"Board Committee Commission Meeting Data.csv\"))\n",
    "agendas = meeting['Agenda_Link']\n",
    "notes = meeting['Minutes_Link']"
   ]
  },
  {
   "cell_type": "code",
   "execution_count": 25,
   "metadata": {},
   "outputs": [
    {
     "name": "stderr",
     "output_type": "stream",
     "text": [
      "<ipython-input-25-77a6d85d7f34>:3: SettingWithCopyWarning: \n",
      "A value is trying to be set on a copy of a slice from a DataFrame\n",
      "\n",
      "See the caveats in the documentation: https://pandas.pydata.org/pandas-docs/stable/user_guide/indexing.html#returning-a-view-versus-a-copy\n",
      "  meeting['Meeting_ID'][i] = new\n"
     ]
    }
   ],
   "source": [
    "for i in range(len(meeting)):\n",
    "    new = re.sub(r\"\\s\", \"\", meeting['Meeting_ID'][i])\n",
    "    meeting['Meeting_ID'][i] = new"
   ]
  },
  {
   "cell_type": "code",
   "execution_count": 34,
   "metadata": {},
   "outputs": [],
   "source": [
    "for i, url in enumerate(agendas):\n",
    "    try:\n",
    "        r = requests.get(url)\n",
    "        r.raise_for_status()\n",
    "    except Exception:\n",
    "        continue\n",
    "    text = \"pdf_agendas/{}.pdf\"\n",
    "    with open(text.format(meeting.iloc[i,0]),'wb') as f:\n",
    "        f.write(r.content)"
   ]
  },
  {
   "cell_type": "code",
   "execution_count": 26,
   "metadata": {},
   "outputs": [],
   "source": [
    "meeting['Duration_minutes'] = meeting['Duration']"
   ]
  },
  {
   "cell_type": "code",
   "execution_count": 27,
   "metadata": {},
   "outputs": [],
   "source": [
    "for i in range(len(meeting['Duration'])):\n",
    "    time = re.split(':',meeting['Duration'][i])\n",
    "    time = [int(x) for x in time]\n",
    "    seconds = time[0]*60 + time[1] + time[0]/60\n",
    "    meeting.iloc[i,10] = seconds"
   ]
  },
  {
   "cell_type": "code",
   "execution_count": 28,
   "metadata": {},
   "outputs": [
    {
     "data": {
      "text/html": [
       "<div>\n",
       "<style scoped>\n",
       "    .dataframe tbody tr th:only-of-type {\n",
       "        vertical-align: middle;\n",
       "    }\n",
       "\n",
       "    .dataframe tbody tr th {\n",
       "        vertical-align: top;\n",
       "    }\n",
       "\n",
       "    .dataframe thead th {\n",
       "        text-align: right;\n",
       "    }\n",
       "</style>\n",
       "<table border=\"1\" class=\"dataframe\">\n",
       "  <thead>\n",
       "    <tr style=\"text-align: right;\">\n",
       "      <th></th>\n",
       "      <th>Meeting_ID</th>\n",
       "      <th>Topic</th>\n",
       "      <th>Scheduled_Start_Time</th>\n",
       "      <th>Zoom_Meeting_Start_Time</th>\n",
       "      <th>Zoom_Meeting_End_Time</th>\n",
       "      <th>Duration</th>\n",
       "      <th>Participants</th>\n",
       "      <th>Recording</th>\n",
       "      <th>Agenda_Link</th>\n",
       "      <th>Minutes_Link</th>\n",
       "      <th>Duration_minutes</th>\n",
       "    </tr>\n",
       "  </thead>\n",
       "  <tbody>\n",
       "    <tr>\n",
       "      <th>0</th>\n",
       "      <td>954410442</td>\n",
       "      <td>CCEC</td>\n",
       "      <td>4:30:00 PM</td>\n",
       "      <td>3/31/2020 15:40</td>\n",
       "      <td>6:27 PM</td>\n",
       "      <td>2:47:55</td>\n",
       "      <td>52</td>\n",
       "      <td>Yes</td>\n",
       "      <td>https://madison.legistar.com/View.ashx?M=A&amp;ID=...</td>\n",
       "      <td>https://madison.legistar.com/View.ashx?M=M&amp;ID=...</td>\n",
       "      <td>167.033</td>\n",
       "    </tr>\n",
       "    <tr>\n",
       "      <th>1</th>\n",
       "      <td>531697510</td>\n",
       "      <td>Common Council</td>\n",
       "      <td>6:30:00 PM</td>\n",
       "      <td>3/31/2020 17:04</td>\n",
       "      <td>02:53 AM(Next day)</td>\n",
       "      <td>9:48:36</td>\n",
       "      <td>337</td>\n",
       "      <td>Yes</td>\n",
       "      <td>https://madison.legistar.com/View.ashx?M=A&amp;ID=...</td>\n",
       "      <td>https://madison.legistar.com/View.ashx?M=M&amp;ID=...</td>\n",
       "      <td>588.15</td>\n",
       "    </tr>\n",
       "    <tr>\n",
       "      <th>2</th>\n",
       "      <td>411578576</td>\n",
       "      <td>Finance Committee: Meeting of April 6, 2020</td>\n",
       "      <td>4:30:00 PM</td>\n",
       "      <td>4/6/2020 15:40</td>\n",
       "      <td>5:49 PM</td>\n",
       "      <td>2:09:00</td>\n",
       "      <td>31</td>\n",
       "      <td>Yes</td>\n",
       "      <td>https://madison.legistar.com/View.ashx?M=A&amp;ID=...</td>\n",
       "      <td>https://madison.legistar.com/View.ashx?M=M&amp;ID=...</td>\n",
       "      <td>129.033</td>\n",
       "    </tr>\n",
       "    <tr>\n",
       "      <th>3</th>\n",
       "      <td>563608269</td>\n",
       "      <td>CCEC: Meeting of April 9, 2020</td>\n",
       "      <td>6:00:00 PM</td>\n",
       "      <td>4/9/2020 16:57</td>\n",
       "      <td>7:53 PM</td>\n",
       "      <td>2:56:08</td>\n",
       "      <td>36</td>\n",
       "      <td>Yes</td>\n",
       "      <td>https://madison.legistar.com/View.ashx?M=A&amp;ID=...</td>\n",
       "      <td>https://madison.legistar.com/View.ashx?M=M&amp;ID=...</td>\n",
       "      <td>176.033</td>\n",
       "    </tr>\n",
       "    <tr>\n",
       "      <th>4</th>\n",
       "      <td>468948855</td>\n",
       "      <td>Plan Commission: Meeting of April 13, 2020</td>\n",
       "      <td>5:30:00 PM</td>\n",
       "      <td>4/13/2020 16:35</td>\n",
       "      <td>9:14 PM</td>\n",
       "      <td>4:38:54</td>\n",
       "      <td>80</td>\n",
       "      <td>Yes</td>\n",
       "      <td>https://madison.legistar.com/View.ashx?M=A&amp;ID=...</td>\n",
       "      <td>https://madison.legistar.com/View.ashx?M=M&amp;ID=...</td>\n",
       "      <td>278.067</td>\n",
       "    </tr>\n",
       "    <tr>\n",
       "      <th>...</th>\n",
       "      <td>...</td>\n",
       "      <td>...</td>\n",
       "      <td>...</td>\n",
       "      <td>...</td>\n",
       "      <td>...</td>\n",
       "      <td>...</td>\n",
       "      <td>...</td>\n",
       "      <td>...</td>\n",
       "      <td>...</td>\n",
       "      <td>...</td>\n",
       "      <td>...</td>\n",
       "    </tr>\n",
       "    <tr>\n",
       "      <th>150</th>\n",
       "      <td>93491014777</td>\n",
       "      <td>Public Safety Review Committee Budget Subcommi...</td>\n",
       "      <td>NaN</td>\n",
       "      <td>7/29/2020 17:46</td>\n",
       "      <td>8:17 PM</td>\n",
       "      <td>2:30:50</td>\n",
       "      <td>21</td>\n",
       "      <td>Yes</td>\n",
       "      <td>NaN</td>\n",
       "      <td>NaN</td>\n",
       "      <td>150.033</td>\n",
       "    </tr>\n",
       "    <tr>\n",
       "      <th>151</th>\n",
       "      <td>98563848547</td>\n",
       "      <td>Plan Commission: Meeting of July 30, 2020</td>\n",
       "      <td>5:00:00 PM</td>\n",
       "      <td>7/30/2020 15:58</td>\n",
       "      <td>8:06 PM</td>\n",
       "      <td>4:08:29</td>\n",
       "      <td>54</td>\n",
       "      <td>Yes</td>\n",
       "      <td>https://madison.legistar.com/View.ashx?M=A&amp;ID=...</td>\n",
       "      <td>https://madison.legistar.com/View.ashx?M=M&amp;ID=...</td>\n",
       "      <td>248.067</td>\n",
       "    </tr>\n",
       "    <tr>\n",
       "      <th>152</th>\n",
       "      <td>99885787121</td>\n",
       "      <td>Body-Worn Camera Feasibility Review Committee:...</td>\n",
       "      <td>5:30:00 PM</td>\n",
       "      <td>7/30/2020 17:06</td>\n",
       "      <td>7:35 PM</td>\n",
       "      <td>2:28:11</td>\n",
       "      <td>23</td>\n",
       "      <td>Yes</td>\n",
       "      <td>https://madison.legistar.com/View.ashx?M=A&amp;ID=...</td>\n",
       "      <td>https://madison.legistar.com/View.ashx?M=M&amp;ID=...</td>\n",
       "      <td>148.033</td>\n",
       "    </tr>\n",
       "    <tr>\n",
       "      <th>153</th>\n",
       "      <td>94972195424</td>\n",
       "      <td>Task Force on Municipal Golf in Madison Parks:...</td>\n",
       "      <td>6:00:00 PM</td>\n",
       "      <td>7/30/2020 17:35</td>\n",
       "      <td>8:24 PM</td>\n",
       "      <td>2:49:27</td>\n",
       "      <td>81</td>\n",
       "      <td>Yes</td>\n",
       "      <td>https://madison.legistar.com/View.ashx?M=A&amp;ID=...</td>\n",
       "      <td>https://madison.legistar.com/View.ashx?M=M&amp;ID=...</td>\n",
       "      <td>169.033</td>\n",
       "    </tr>\n",
       "    <tr>\n",
       "      <th>154</th>\n",
       "      <td>91732772846</td>\n",
       "      <td>Deferred Compensation Committee Lincoln/ABG Se...</td>\n",
       "      <td>1:30:00 PM</td>\n",
       "      <td>7/31/2020 12:59</td>\n",
       "      <td>2:50 PM</td>\n",
       "      <td>1:50:47</td>\n",
       "      <td>35</td>\n",
       "      <td>No</td>\n",
       "      <td>https://madison.legistar.com/View.ashx?M=A&amp;ID=...</td>\n",
       "      <td>NaN</td>\n",
       "      <td>110.017</td>\n",
       "    </tr>\n",
       "  </tbody>\n",
       "</table>\n",
       "<p>155 rows × 11 columns</p>\n",
       "</div>"
      ],
      "text/plain": [
       "      Meeting_ID                                              Topic  \\\n",
       "0      954410442                                               CCEC   \n",
       "1      531697510                                     Common Council   \n",
       "2      411578576        Finance Committee: Meeting of April 6, 2020   \n",
       "3      563608269                     CCEC: Meeting of April 9, 2020   \n",
       "4      468948855         Plan Commission: Meeting of April 13, 2020   \n",
       "..           ...                                                ...   \n",
       "150  93491014777  Public Safety Review Committee Budget Subcommi...   \n",
       "151  98563848547          Plan Commission: Meeting of July 30, 2020   \n",
       "152  99885787121  Body-Worn Camera Feasibility Review Committee:...   \n",
       "153  94972195424  Task Force on Municipal Golf in Madison Parks:...   \n",
       "154  91732772846  Deferred Compensation Committee Lincoln/ABG Se...   \n",
       "\n",
       "    Scheduled_Start_Time Zoom_Meeting_Start_Time Zoom_Meeting_End_Time  \\\n",
       "0             4:30:00 PM         3/31/2020 15:40               6:27 PM   \n",
       "1             6:30:00 PM         3/31/2020 17:04    02:53 AM(Next day)   \n",
       "2             4:30:00 PM          4/6/2020 15:40               5:49 PM   \n",
       "3             6:00:00 PM          4/9/2020 16:57               7:53 PM   \n",
       "4             5:30:00 PM         4/13/2020 16:35               9:14 PM   \n",
       "..                   ...                     ...                   ...   \n",
       "150                  NaN         7/29/2020 17:46               8:17 PM   \n",
       "151           5:00:00 PM         7/30/2020 15:58               8:06 PM   \n",
       "152           5:30:00 PM         7/30/2020 17:06               7:35 PM   \n",
       "153           6:00:00 PM         7/30/2020 17:35               8:24 PM   \n",
       "154           1:30:00 PM         7/31/2020 12:59               2:50 PM   \n",
       "\n",
       "    Duration  Participants Recording  \\\n",
       "0    2:47:55            52       Yes   \n",
       "1    9:48:36           337       Yes   \n",
       "2    2:09:00            31       Yes   \n",
       "3    2:56:08            36       Yes   \n",
       "4    4:38:54            80       Yes   \n",
       "..       ...           ...       ...   \n",
       "150  2:30:50            21       Yes   \n",
       "151  4:08:29            54       Yes   \n",
       "152  2:28:11            23       Yes   \n",
       "153  2:49:27            81       Yes   \n",
       "154  1:50:47            35        No   \n",
       "\n",
       "                                           Agenda_Link  \\\n",
       "0    https://madison.legistar.com/View.ashx?M=A&ID=...   \n",
       "1    https://madison.legistar.com/View.ashx?M=A&ID=...   \n",
       "2    https://madison.legistar.com/View.ashx?M=A&ID=...   \n",
       "3    https://madison.legistar.com/View.ashx?M=A&ID=...   \n",
       "4    https://madison.legistar.com/View.ashx?M=A&ID=...   \n",
       "..                                                 ...   \n",
       "150                                                NaN   \n",
       "151  https://madison.legistar.com/View.ashx?M=A&ID=...   \n",
       "152  https://madison.legistar.com/View.ashx?M=A&ID=...   \n",
       "153  https://madison.legistar.com/View.ashx?M=A&ID=...   \n",
       "154  https://madison.legistar.com/View.ashx?M=A&ID=...   \n",
       "\n",
       "                                          Minutes_Link Duration_minutes  \n",
       "0    https://madison.legistar.com/View.ashx?M=M&ID=...          167.033  \n",
       "1    https://madison.legistar.com/View.ashx?M=M&ID=...           588.15  \n",
       "2    https://madison.legistar.com/View.ashx?M=M&ID=...          129.033  \n",
       "3    https://madison.legistar.com/View.ashx?M=M&ID=...          176.033  \n",
       "4    https://madison.legistar.com/View.ashx?M=M&ID=...          278.067  \n",
       "..                                                 ...              ...  \n",
       "150                                                NaN          150.033  \n",
       "151  https://madison.legistar.com/View.ashx?M=M&ID=...          248.067  \n",
       "152  https://madison.legistar.com/View.ashx?M=M&ID=...          148.033  \n",
       "153  https://madison.legistar.com/View.ashx?M=M&ID=...          169.033  \n",
       "154                                                NaN          110.017  \n",
       "\n",
       "[155 rows x 11 columns]"
      ]
     },
     "execution_count": 28,
     "metadata": {},
     "output_type": "execute_result"
    }
   ],
   "source": [
    "meeting"
   ]
  },
  {
   "cell_type": "code",
   "execution_count": 85,
   "metadata": {},
   "outputs": [
    {
     "name": "stdout",
     "output_type": "stream",
     "text": [
      "Coef: [0.33873689]\n",
      "Intercept: -10.849966498419846\n",
      "Number of Participants ~= 0.3387368917661893*Duration_minutes + -10.849966498419846\n"
     ]
    },
    {
     "data": {
      "text/plain": [
       "Text(0.5, 1.0, 'Participants by Meeting Duration')"
      ]
     },
     "execution_count": 85,
     "metadata": {},
     "output_type": "execute_result"
    },
    {
     "data": {
      "image/png": "[encoded data removed]",
      "text/plain": [
       "<Figure size 720x432 with 1 Axes>"
      ]
     },
     "metadata": {
      "needs_background": "light"
     },
     "output_type": "display_data"
    }
   ],
   "source": [
    "fig, ax = plt.subplots(figsize = (10,6))\n",
    "meeting.plot.scatter(x='Duration_minutes', y = 'Participants', ax=ax, color='purple')\n",
    "\n",
    "X=meeting['Duration_minutes'].values.reshape(-1, 1)\n",
    "y=meeting['Participants'].values\n",
    "\n",
    "r = LinearRegression()\n",
    "r.fit(X, y)\n",
    "plt.plot(X, model.predict(X),color='r')\n",
    "\n",
    "print(\"Coef:\", r.coef_)\n",
    "print(\"Intercept:\", r.intercept_)\n",
    "\n",
    "def formula(reg, columns):\n",
    "    rv = \"\"\n",
    "    for i in range(len(columns)):\n",
    "        rv += \"{}*{} + \".format(reg.coef_[0], columns[i])\n",
    "    rv += str(r.intercept_)\n",
    "    return rv\n",
    "\n",
    "print(\"Number of Participants ~= \" + formula(r, ['Duration_minutes']))\n",
    "\n",
    "ax.set_xlabel(\"Meeting Duration in Minutes\")\n",
    "ax.set_ylabel(\"Number of Meeting Participants\")\n",
    "ax.spines['right'].set_visible(False)\n",
    "ax.spines['top'].set_visible(False)\n",
    "ax.set_title('Participants by Meeting Duration')"
   ]
  },
  {
   "cell_type": "code",
   "execution_count": 91,
   "metadata": {},
   "outputs": [
    {
     "data": {
      "text/plain": [
       "1                                         Common Council\n",
       "19              Plan Commission: Meeting of May 11, 2020\n",
       "105    Madison Public Library Board: Special Meeting ...\n",
       "85      Urban Design Commission: Meeting of July 1, 2020\n",
       "25              Plan Commission: Meeting of May 18, 2020\n",
       "89     Madison Public Library Board: Meeting of July ...\n",
       "130             Common Council: Meeting of July 21, 2020\n",
       "13                               Urban Design Commission\n",
       "57              Common Council: Meeting of June 16, 2020\n",
       "77              Plan Commission Meeting of June 29, 2020\n",
       "Name: Topic, dtype: object"
      ]
     },
     "execution_count": 91,
     "metadata": {},
     "output_type": "execute_result"
    }
   ],
   "source": [
    "meeting.sort_values(by=['Participants'], ascending=False).head(10)['Topic']"
   ]
  },
  {
   "cell_type": "code",
   "execution_count": 108,
   "metadata": {},
   "outputs": [
    {
     "name": "stdout",
     "output_type": "stream",
     "text": [
      "{'/ModDate': \"D:20200730132634-04'00'\", '/Producer': 'PDFlib PLOP 4.1 (.NET/Win64)/Powered By Crystal', '/Author': 'Legistar', '/Title': 'Agenda', '/Creator': 'Crystal Reports'}\n"
     ]
    }
   ],
   "source": [
    "def get_info(path):\n",
    "    with open(path, 'rb') as f:\n",
    "        pdf = PdfFileReader(f, strict='False')\n",
    "        info = pdf.getDocumentInfo()\n",
    "        number_of_pages = pdf.getNumPages()\n",
    "    \n",
    "    print(info)\n",
    "    author = info.author\n",
    "    creator = info.creator\n",
    "    producer = info.producer\n",
    "    subject = info.subject\n",
    "    title = info.title\n",
    "get_info('pdf_agendas/'+meeting['Meeting_ID'][i]+'.pdf')"
   ]
  },
  {
   "cell_type": "code",
   "execution_count": 112,
   "metadata": {},
   "outputs": [
    {
     "name": "stdout",
     "output_type": "stream",
     "text": [
      "{'/Type': '/Page', '/Resources': IndirectObject(17, 0), '/CropBox': [0, 0, 612, 792], '/MediaBox': [0, 0, 612, 792], '/Parent': IndirectObject(10, 0), '/Contents': [IndirectObject(40, 0)]}\n",
      "Page type: <class 'PyPDF2.pdf.PageObject'>\n",
      "DEFERRED COMPENSATION COMMITTEECity of MadisonAgenda - AmendedCity of MadisonMadison, WI  53703www.cityofmadison.comConsider: Who benefits?  Who is burdened?Who does not have a voice at the table?How can policymakers mitigate unintended consequences?Virtual1:30 PMFriday, July 31, 2020The City of Madison is holding the Deferred Compensation Committee meeting virtually to help protect our community from the Coronavirus (COVID-19) pandemic.1.               Written Comments: You can send comments on agenda items to hr@cityofmadison.com.2.Public Registration: You can register your support or opposition to an agenda item at https://www.cityofmadison.com/MeetingRegistration. If you wish to speak at the virtual meeting on an agenda item, you must register. When you register, you will be sent an email with the information you will need to join the virtual meeting.3.Listen to the Meeting: You can call-in to the Deferred Compensation Committee meeting:ŁListen to audio via phone:(877) 853-5257 (Toll Free)Meeting ID: 917 3277 28464.If you would like to join the meeting as an observer, please fill out information at https://www.cityofmadison.com/clerk/meeting-schedule/watch-meetings-online.If you need an interpreter, translator, materials in alternate formats or other accommodations to access this service, activity or program, please call the phone number below immediately.Si necesita un intérprete, un traductor, materiales en formatos alternativos u otros arreglos para acceder a este servicio, actividad o programa, comuníquese  inmediatamente al número de teléfono que figura a continuación.Yog tias koj xav tau ib tug neeg txhais lus, ib tug neeg txhais ntawv, cov ntaub ntawv ua lwm yam los sis lwm cov kev pab kom siv tau qhov kev pab, kev ua num los sis kev pab cuam no, thov hu rau tus xov tooj hauv qab no tam sim no.608-266-4615CALL TO ORDER / ROLL CALLPUBLIC COMMENTLimit to three (3) minutes each person.DISCLOSURES AND RECUSALSPage 1 City of MadisonPrinted on 7/30/2020\n"
     ]
    }
   ],
   "source": [
    "def text_extractor(path):\n",
    "    with open(path, 'rb') as f:\n",
    "        pdf = PdfFileReader(f, strict='False')\n",
    "        # get the first page\n",
    "        page = pdf.getPage(0)\n",
    "        print(page)\n",
    "        print('Page type: {}'.format(str(type(page))))\n",
    "        text = page.extractText()\n",
    "        print(text)\n",
    "\n",
    "text_extractor('pdf_agendas/'+meeting['Meeting_ID'][i]+'.pdf')"
   ]
  },
  {
   "cell_type": "code",
   "execution_count": null,
   "metadata": {},
   "outputs": [],
   "source": []
  }
 ],
 "metadata": {
  "kernelspec": {
   "display_name": "Python 3",
   "language": "python",
   "name": "python3"
  },
  "language_info": {
   "codemirror_mode": {
    "name": "ipython",
    "version": 3
   },
   "file_extension": ".py",
   "mimetype": "text/x-python",
   "name": "python",
   "nbconvert_exporter": "python",
   "pygments_lexer": "ipython3",
   "version": "3.8.1"
  }
 },
 "nbformat": 4,
 "nbformat_minor": 4
}
